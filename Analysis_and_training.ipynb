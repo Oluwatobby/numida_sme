{
 "cells": [
  {
   "cell_type": "code",
   "execution_count": 1,
   "id": "29927a90",
   "metadata": {},
   "outputs": [
    {
     "name": "stderr",
     "output_type": "stream",
     "text": [
      "d:\\sme-hiring-assessment\\sme-hiring-assessment\\machine-learning\\.venv\\Lib\\site-packages\\tqdm\\auto.py:21: TqdmWarning: IProgress not found. Please update jupyter and ipywidgets. See https://ipywidgets.readthedocs.io/en/stable/user_install.html\n",
      "  from .autonotebook import tqdm as notebook_tqdm\n"
     ]
    }
   ],
   "source": [
    "import pandas as pd\n",
    "import numpy as np\n",
    "import matplotlib.pyplot as plt\n",
    "from sklearn.metrics import classification_report, roc_auc_score\n",
    "from sklearn.model_selection import StratifiedKFold,cross_val_score\n",
    "from sklearn.impute import SimpleImputer\n",
    "from imblearn.over_sampling import SMOTE\n",
    "import xgboost as xgb\n",
    "import optuna\n",
    "import shap"
   ]
  },
  {
   "cell_type": "code",
   "execution_count": 2,
   "id": "da186686",
   "metadata": {},
   "outputs": [],
   "source": [
    "seed=42\n",
    "\n",
    "def seed_everything(seed=150):\n",
    "    '''\n",
    "    Set up the seed function\n",
    "    '''\n",
    "    np.random.seed(seed)"
   ]
  },
  {
   "cell_type": "code",
   "execution_count": 3,
   "id": "e32ca412",
   "metadata": {},
   "outputs": [],
   "source": [
    "train=pd.read_csv('train_loan_data.csv')\n",
    "test=pd.read_csv('test_loan_data.csv')\n",
    "payment=pd.read_csv('train_payment_data.csv')\n",
    "filter_off=pd.read_csv('filter_off.csv') # a set of data created to expose some of yield loss in the training data\n"
   ]
  },
  {
   "cell_type": "markdown",
   "id": "c60fe6fd",
   "metadata": {},
   "source": [
    "### 1. Exploratory Data Analysis"
   ]
  },
  {
   "cell_type": "code",
   "execution_count": 4,
   "id": "fc4f08fb",
   "metadata": {},
   "outputs": [
    {
     "name": "stdout",
     "output_type": "stream",
     "text": [
      "Number of duuplicates: 1723\n"
     ]
    }
   ],
   "source": [
    "#check for duplicates\n",
    "num_duplicates = train.duplicated().sum()\n",
    "\n",
    "print('Number of duuplicates:',num_duplicates)\n",
    "\n",
    "# drop duplicates\n",
    "train = train.drop_duplicates()"
   ]
  },
  {
   "cell_type": "code",
   "execution_count": 5,
   "id": "66aac216",
   "metadata": {},
   "outputs": [
    {
     "data": {
      "text/html": [
       "<div>\n",
       "<style scoped>\n",
       "    .dataframe tbody tr th:only-of-type {\n",
       "        vertical-align: middle;\n",
       "    }\n",
       "\n",
       "    .dataframe tbody tr th {\n",
       "        vertical-align: top;\n",
       "    }\n",
       "\n",
       "    .dataframe thead th {\n",
       "        text-align: right;\n",
       "    }\n",
       "</style>\n",
       "<table border=\"1\" class=\"dataframe\">\n",
       "  <thead>\n",
       "    <tr style=\"text-align: right;\">\n",
       "      <th></th>\n",
       "      <th>loan_id</th>\n",
       "      <th>business_id</th>\n",
       "      <th>credit_officer_id</th>\n",
       "      <th>dismissal_description</th>\n",
       "      <th>acquisition_channel</th>\n",
       "      <th>sector</th>\n",
       "      <th>principal</th>\n",
       "      <th>total_owing_at_issue</th>\n",
       "      <th>application_number</th>\n",
       "      <th>applying_for_loan_number</th>\n",
       "      <th>loan_number</th>\n",
       "      <th>employee_count</th>\n",
       "      <th>approval_status</th>\n",
       "      <th>paid_late</th>\n",
       "      <th>total_recovered_on_time</th>\n",
       "      <th>total_recovered_15_dpd</th>\n",
       "      <th>cash_yield_15_dpd</th>\n",
       "    </tr>\n",
       "  </thead>\n",
       "  <tbody>\n",
       "    <tr>\n",
       "      <th>0</th>\n",
       "      <td>860706</td>\n",
       "      <td>604923</td>\n",
       "      <td>131449.0</td>\n",
       "      <td>NaN</td>\n",
       "      <td>Friend</td>\n",
       "      <td>Beauty Fashion</td>\n",
       "      <td>300000.0</td>\n",
       "      <td>345500.0</td>\n",
       "      <td>1</td>\n",
       "      <td>1</td>\n",
       "      <td>1.0</td>\n",
       "      <td>1.0</td>\n",
       "      <td>Approved</td>\n",
       "      <td>False</td>\n",
       "      <td>345500.0</td>\n",
       "      <td>345500.0</td>\n",
       "      <td>45500.0</td>\n",
       "    </tr>\n",
       "    <tr>\n",
       "      <th>1</th>\n",
       "      <td>975605</td>\n",
       "      <td>604923</td>\n",
       "      <td>131449.0</td>\n",
       "      <td>NaN</td>\n",
       "      <td>Friend</td>\n",
       "      <td>Beauty Fashion</td>\n",
       "      <td>330000.0</td>\n",
       "      <td>380000.0</td>\n",
       "      <td>2</td>\n",
       "      <td>2</td>\n",
       "      <td>2.0</td>\n",
       "      <td>1.0</td>\n",
       "      <td>Approved</td>\n",
       "      <td>False</td>\n",
       "      <td>380000.0</td>\n",
       "      <td>380000.0</td>\n",
       "      <td>50000.0</td>\n",
       "    </tr>\n",
       "    <tr>\n",
       "      <th>2</th>\n",
       "      <td>126416</td>\n",
       "      <td>122438</td>\n",
       "      <td>NaN</td>\n",
       "      <td>Client does not have all of the requirements</td>\n",
       "      <td>Friend</td>\n",
       "      <td>Food Staple Goods</td>\n",
       "      <td>300000.0</td>\n",
       "      <td>NaN</td>\n",
       "      <td>1</td>\n",
       "      <td>1</td>\n",
       "      <td>NaN</td>\n",
       "      <td>1.0</td>\n",
       "      <td>Declined</td>\n",
       "      <td>False</td>\n",
       "      <td>NaN</td>\n",
       "      <td>NaN</td>\n",
       "      <td>NaN</td>\n",
       "    </tr>\n",
       "    <tr>\n",
       "      <th>3</th>\n",
       "      <td>127617</td>\n",
       "      <td>122438</td>\n",
       "      <td>108019.0</td>\n",
       "      <td>NaN</td>\n",
       "      <td>Friend</td>\n",
       "      <td>Food Staple Goods</td>\n",
       "      <td>200000.0</td>\n",
       "      <td>221100.0</td>\n",
       "      <td>2</td>\n",
       "      <td>1</td>\n",
       "      <td>1.0</td>\n",
       "      <td>1.0</td>\n",
       "      <td>Approved</td>\n",
       "      <td>False</td>\n",
       "      <td>221100.0</td>\n",
       "      <td>221100.0</td>\n",
       "      <td>21100.0</td>\n",
       "    </tr>\n",
       "    <tr>\n",
       "      <th>4</th>\n",
       "      <td>148416</td>\n",
       "      <td>122438</td>\n",
       "      <td>108019.0</td>\n",
       "      <td>NaN</td>\n",
       "      <td>Friend</td>\n",
       "      <td>Food Staple Goods</td>\n",
       "      <td>220000.0</td>\n",
       "      <td>243200.0</td>\n",
       "      <td>3</td>\n",
       "      <td>2</td>\n",
       "      <td>2.0</td>\n",
       "      <td>1.0</td>\n",
       "      <td>Approved</td>\n",
       "      <td>False</td>\n",
       "      <td>243200.0</td>\n",
       "      <td>243200.0</td>\n",
       "      <td>23200.0</td>\n",
       "    </tr>\n",
       "  </tbody>\n",
       "</table>\n",
       "</div>"
      ],
      "text/plain": [
       "   loan_id  business_id  credit_officer_id  \\\n",
       "0   860706       604923           131449.0   \n",
       "1   975605       604923           131449.0   \n",
       "2   126416       122438                NaN   \n",
       "3   127617       122438           108019.0   \n",
       "4   148416       122438           108019.0   \n",
       "\n",
       "                          dismissal_description acquisition_channel  \\\n",
       "0                                           NaN              Friend   \n",
       "1                                           NaN              Friend   \n",
       "2  Client does not have all of the requirements              Friend   \n",
       "3                                           NaN              Friend   \n",
       "4                                           NaN              Friend   \n",
       "\n",
       "              sector  principal  total_owing_at_issue  application_number  \\\n",
       "0     Beauty Fashion   300000.0              345500.0                   1   \n",
       "1     Beauty Fashion   330000.0              380000.0                   2   \n",
       "2  Food Staple Goods   300000.0                   NaN                   1   \n",
       "3  Food Staple Goods   200000.0              221100.0                   2   \n",
       "4  Food Staple Goods   220000.0              243200.0                   3   \n",
       "\n",
       "   applying_for_loan_number  loan_number  employee_count approval_status  \\\n",
       "0                         1          1.0             1.0        Approved   \n",
       "1                         2          2.0             1.0        Approved   \n",
       "2                         1          NaN             1.0        Declined   \n",
       "3                         1          1.0             1.0        Approved   \n",
       "4                         2          2.0             1.0        Approved   \n",
       "\n",
       "   paid_late  total_recovered_on_time  total_recovered_15_dpd  \\\n",
       "0      False                 345500.0                345500.0   \n",
       "1      False                 380000.0                380000.0   \n",
       "2      False                      NaN                     NaN   \n",
       "3      False                 221100.0                221100.0   \n",
       "4      False                 243200.0                243200.0   \n",
       "\n",
       "   cash_yield_15_dpd  \n",
       "0            45500.0  \n",
       "1            50000.0  \n",
       "2                NaN  \n",
       "3            21100.0  \n",
       "4            23200.0  "
      ]
     },
     "execution_count": 5,
     "metadata": {},
     "output_type": "execute_result"
    }
   ],
   "source": [
    "train.head()"
   ]
  },
  {
   "cell_type": "code",
   "execution_count": 6,
   "id": "4f2a0785",
   "metadata": {},
   "outputs": [
    {
     "data": {
      "text/html": [
       "<div>\n",
       "<style scoped>\n",
       "    .dataframe tbody tr th:only-of-type {\n",
       "        vertical-align: middle;\n",
       "    }\n",
       "\n",
       "    .dataframe tbody tr th {\n",
       "        vertical-align: top;\n",
       "    }\n",
       "\n",
       "    .dataframe thead th {\n",
       "        text-align: right;\n",
       "    }\n",
       "</style>\n",
       "<table border=\"1\" class=\"dataframe\">\n",
       "  <thead>\n",
       "    <tr style=\"text-align: right;\">\n",
       "      <th></th>\n",
       "      <th>loan_id</th>\n",
       "      <th>business_id</th>\n",
       "      <th>credit_officer_id</th>\n",
       "      <th>dismissal_description</th>\n",
       "      <th>acquisition_channel</th>\n",
       "      <th>sector</th>\n",
       "      <th>principal</th>\n",
       "      <th>total_owing_at_issue</th>\n",
       "      <th>application_number</th>\n",
       "      <th>applying_for_loan_number</th>\n",
       "      <th>loan_number</th>\n",
       "      <th>employee_count</th>\n",
       "      <th>approval_status</th>\n",
       "      <th>payment_status</th>\n",
       "      <th>paid_late</th>\n",
       "      <th>total_recovered_on_time</th>\n",
       "      <th>total_recovered_15_dpd</th>\n",
       "      <th>cash_yield_15_dpd</th>\n",
       "    </tr>\n",
       "  </thead>\n",
       "  <tbody>\n",
       "    <tr>\n",
       "      <th>0</th>\n",
       "      <td>1003730</td>\n",
       "      <td>604923</td>\n",
       "      <td>131449</td>\n",
       "      <td>NaN</td>\n",
       "      <td>Friend</td>\n",
       "      <td>Beauty Fashion</td>\n",
       "      <td>350000.0</td>\n",
       "      <td>399500.0</td>\n",
       "      <td>3</td>\n",
       "      <td>3</td>\n",
       "      <td>3</td>\n",
       "      <td>1.0</td>\n",
       "      <td>Approved</td>\n",
       "      <td>Paid up</td>\n",
       "      <td>False</td>\n",
       "      <td>399500.0</td>\n",
       "      <td>399500.0</td>\n",
       "      <td>49500.0</td>\n",
       "    </tr>\n",
       "    <tr>\n",
       "      <th>1</th>\n",
       "      <td>986527</td>\n",
       "      <td>122438</td>\n",
       "      <td>279289</td>\n",
       "      <td>NaN</td>\n",
       "      <td>Friend</td>\n",
       "      <td>Food Staple Goods</td>\n",
       "      <td>1500000.0</td>\n",
       "      <td>1771000.0</td>\n",
       "      <td>30</td>\n",
       "      <td>27</td>\n",
       "      <td>27</td>\n",
       "      <td>1.0</td>\n",
       "      <td>Approved</td>\n",
       "      <td>Paid up</td>\n",
       "      <td>False</td>\n",
       "      <td>1771000.0</td>\n",
       "      <td>1771000.0</td>\n",
       "      <td>271000.0</td>\n",
       "    </tr>\n",
       "    <tr>\n",
       "      <th>2</th>\n",
       "      <td>985254</td>\n",
       "      <td>675619</td>\n",
       "      <td>279290</td>\n",
       "      <td>NaN</td>\n",
       "      <td>Sales Team</td>\n",
       "      <td>Metal and Woodworking</td>\n",
       "      <td>578400.0</td>\n",
       "      <td>648400.0</td>\n",
       "      <td>2</td>\n",
       "      <td>2</td>\n",
       "      <td>2</td>\n",
       "      <td>NaN</td>\n",
       "      <td>Approved</td>\n",
       "      <td>Paid up</td>\n",
       "      <td>False</td>\n",
       "      <td>648400.0</td>\n",
       "      <td>648400.0</td>\n",
       "      <td>70000.0</td>\n",
       "    </tr>\n",
       "    <tr>\n",
       "      <th>3</th>\n",
       "      <td>989887</td>\n",
       "      <td>312482</td>\n",
       "      <td>108022</td>\n",
       "      <td>NaN</td>\n",
       "      <td>Friend</td>\n",
       "      <td>Mobile Money Airtime</td>\n",
       "      <td>650000.0</td>\n",
       "      <td>768300.0</td>\n",
       "      <td>20</td>\n",
       "      <td>19</td>\n",
       "      <td>19</td>\n",
       "      <td>1.0</td>\n",
       "      <td>Approved</td>\n",
       "      <td>Written off</td>\n",
       "      <td>True</td>\n",
       "      <td>0.0</td>\n",
       "      <td>0.0</td>\n",
       "      <td>-650000.0</td>\n",
       "    </tr>\n",
       "    <tr>\n",
       "      <th>4</th>\n",
       "      <td>994582</td>\n",
       "      <td>654630</td>\n",
       "      <td>137987</td>\n",
       "      <td>NaN</td>\n",
       "      <td>Friend</td>\n",
       "      <td>Hospitality</td>\n",
       "      <td>594000.0</td>\n",
       "      <td>665900.0</td>\n",
       "      <td>3</td>\n",
       "      <td>3</td>\n",
       "      <td>3</td>\n",
       "      <td>NaN</td>\n",
       "      <td>Approved</td>\n",
       "      <td>Paid up</td>\n",
       "      <td>False</td>\n",
       "      <td>665900.0</td>\n",
       "      <td>665900.0</td>\n",
       "      <td>71900.0</td>\n",
       "    </tr>\n",
       "  </tbody>\n",
       "</table>\n",
       "</div>"
      ],
      "text/plain": [
       "   loan_id  business_id  credit_officer_id  dismissal_description  \\\n",
       "0  1003730       604923             131449                    NaN   \n",
       "1   986527       122438             279289                    NaN   \n",
       "2   985254       675619             279290                    NaN   \n",
       "3   989887       312482             108022                    NaN   \n",
       "4   994582       654630             137987                    NaN   \n",
       "\n",
       "  acquisition_channel                 sector  principal  total_owing_at_issue  \\\n",
       "0              Friend         Beauty Fashion   350000.0              399500.0   \n",
       "1              Friend      Food Staple Goods  1500000.0             1771000.0   \n",
       "2          Sales Team  Metal and Woodworking   578400.0              648400.0   \n",
       "3              Friend   Mobile Money Airtime   650000.0              768300.0   \n",
       "4              Friend            Hospitality   594000.0              665900.0   \n",
       "\n",
       "   application_number  applying_for_loan_number  loan_number  employee_count  \\\n",
       "0                   3                         3            3             1.0   \n",
       "1                  30                        27           27             1.0   \n",
       "2                   2                         2            2             NaN   \n",
       "3                  20                        19           19             1.0   \n",
       "4                   3                         3            3             NaN   \n",
       "\n",
       "  approval_status payment_status  paid_late  total_recovered_on_time  \\\n",
       "0        Approved        Paid up      False                 399500.0   \n",
       "1        Approved        Paid up      False                1771000.0   \n",
       "2        Approved        Paid up      False                 648400.0   \n",
       "3        Approved    Written off       True                      0.0   \n",
       "4        Approved        Paid up      False                 665900.0   \n",
       "\n",
       "   total_recovered_15_dpd  cash_yield_15_dpd  \n",
       "0                399500.0            49500.0  \n",
       "1               1771000.0           271000.0  \n",
       "2                648400.0            70000.0  \n",
       "3                     0.0          -650000.0  \n",
       "4                665900.0            71900.0  "
      ]
     },
     "execution_count": 6,
     "metadata": {},
     "output_type": "execute_result"
    }
   ],
   "source": [
    "test.head()"
   ]
  },
  {
   "cell_type": "code",
   "execution_count": 7,
   "id": "56519fa5",
   "metadata": {},
   "outputs": [
    {
     "data": {
      "text/html": [
       "<div>\n",
       "<style scoped>\n",
       "    .dataframe tbody tr th:only-of-type {\n",
       "        vertical-align: middle;\n",
       "    }\n",
       "\n",
       "    .dataframe tbody tr th {\n",
       "        vertical-align: top;\n",
       "    }\n",
       "\n",
       "    .dataframe thead th {\n",
       "        text-align: right;\n",
       "    }\n",
       "</style>\n",
       "<table border=\"1\" class=\"dataframe\">\n",
       "  <thead>\n",
       "    <tr style=\"text-align: right;\">\n",
       "      <th></th>\n",
       "      <th>loan_id</th>\n",
       "      <th>paid_at</th>\n",
       "      <th>amount</th>\n",
       "      <th>transaction_type</th>\n",
       "    </tr>\n",
       "  </thead>\n",
       "  <tbody>\n",
       "    <tr>\n",
       "      <th>0</th>\n",
       "      <td>834148</td>\n",
       "      <td>2023-11-25 17:44</td>\n",
       "      <td>200000.0</td>\n",
       "      <td>Deposit</td>\n",
       "    </tr>\n",
       "    <tr>\n",
       "      <th>1</th>\n",
       "      <td>4028</td>\n",
       "      <td>2019-02-09 16:55</td>\n",
       "      <td>1036300.0</td>\n",
       "      <td>NaN</td>\n",
       "    </tr>\n",
       "    <tr>\n",
       "      <th>2</th>\n",
       "      <td>4798</td>\n",
       "      <td>2019-04-25 15:50</td>\n",
       "      <td>1228500.0</td>\n",
       "      <td>NaN</td>\n",
       "    </tr>\n",
       "    <tr>\n",
       "      <th>3</th>\n",
       "      <td>2082</td>\n",
       "      <td>2018-08-22 10:41</td>\n",
       "      <td>50000.0</td>\n",
       "      <td>NaN</td>\n",
       "    </tr>\n",
       "    <tr>\n",
       "      <th>4</th>\n",
       "      <td>3802</td>\n",
       "      <td>2019-01-05 16:00</td>\n",
       "      <td>1384600.0</td>\n",
       "      <td>NaN</td>\n",
       "    </tr>\n",
       "  </tbody>\n",
       "</table>\n",
       "</div>"
      ],
      "text/plain": [
       "   loan_id           paid_at     amount transaction_type\n",
       "0   834148  2023-11-25 17:44   200000.0          Deposit\n",
       "1     4028  2019-02-09 16:55  1036300.0              NaN\n",
       "2     4798  2019-04-25 15:50  1228500.0              NaN\n",
       "3     2082  2018-08-22 10:41    50000.0              NaN\n",
       "4     3802  2019-01-05 16:00  1384600.0              NaN"
      ]
     },
     "execution_count": 7,
     "metadata": {},
     "output_type": "execute_result"
    }
   ],
   "source": [
    "payment.head()"
   ]
  },
  {
   "cell_type": "code",
   "execution_count": 8,
   "id": "ab3e7c34",
   "metadata": {},
   "outputs": [
    {
     "name": "stdout",
     "output_type": "stream",
     "text": [
      "<class 'pandas.core.frame.DataFrame'>\n",
      "Index: 23379 entries, 0 to 25101\n",
      "Data columns (total 17 columns):\n",
      " #   Column                    Non-Null Count  Dtype  \n",
      "---  ------                    --------------  -----  \n",
      " 0   loan_id                   23379 non-null  int64  \n",
      " 1   business_id               23379 non-null  int64  \n",
      " 2   credit_officer_id         22954 non-null  float64\n",
      " 3   dismissal_description     515 non-null    object \n",
      " 4   acquisition_channel       23379 non-null  object \n",
      " 5   sector                    23379 non-null  object \n",
      " 6   principal                 23379 non-null  float64\n",
      " 7   total_owing_at_issue      22307 non-null  float64\n",
      " 8   application_number        23379 non-null  int64  \n",
      " 9   applying_for_loan_number  23379 non-null  int64  \n",
      " 10  loan_number               22307 non-null  float64\n",
      " 11  employee_count            22566 non-null  float64\n",
      " 12  approval_status           23379 non-null  object \n",
      " 13  paid_late                 23379 non-null  bool   \n",
      " 14  total_recovered_on_time   22307 non-null  float64\n",
      " 15  total_recovered_15_dpd    22307 non-null  float64\n",
      " 16  cash_yield_15_dpd         22307 non-null  float64\n",
      "dtypes: bool(1), float64(8), int64(4), object(4)\n",
      "memory usage: 3.1+ MB\n"
     ]
    }
   ],
   "source": [
    "train.info()"
   ]
  },
  {
   "cell_type": "code",
   "execution_count": 9,
   "id": "e1ab6781",
   "metadata": {},
   "outputs": [
    {
     "data": {
      "text/plain": [
       "23379"
      ]
     },
     "execution_count": 9,
     "metadata": {},
     "output_type": "execute_result"
    }
   ],
   "source": [
    "len(train.loan_id.unique())"
   ]
  },
  {
   "cell_type": "code",
   "execution_count": 10,
   "id": "622e89c7",
   "metadata": {},
   "outputs": [],
   "source": [
    "# group the loan_id by the payment made\n",
    "grouped_payment = payment.groupby('loan_id')['amount'].sum().reset_index()"
   ]
  },
  {
   "cell_type": "code",
   "execution_count": 11,
   "id": "c9d266af",
   "metadata": {},
   "outputs": [
    {
     "data": {
      "text/html": [
       "<div>\n",
       "<style scoped>\n",
       "    .dataframe tbody tr th:only-of-type {\n",
       "        vertical-align: middle;\n",
       "    }\n",
       "\n",
       "    .dataframe tbody tr th {\n",
       "        vertical-align: top;\n",
       "    }\n",
       "\n",
       "    .dataframe thead th {\n",
       "        text-align: right;\n",
       "    }\n",
       "</style>\n",
       "<table border=\"1\" class=\"dataframe\">\n",
       "  <thead>\n",
       "    <tr style=\"text-align: right;\">\n",
       "      <th></th>\n",
       "      <th>loan_id</th>\n",
       "      <th>amount</th>\n",
       "    </tr>\n",
       "  </thead>\n",
       "  <tbody>\n",
       "    <tr>\n",
       "      <th>0</th>\n",
       "      <td>619</td>\n",
       "      <td>197600.0</td>\n",
       "    </tr>\n",
       "    <tr>\n",
       "      <th>1</th>\n",
       "      <td>1222</td>\n",
       "      <td>246100.0</td>\n",
       "    </tr>\n",
       "    <tr>\n",
       "      <th>2</th>\n",
       "      <td>1308</td>\n",
       "      <td>331500.0</td>\n",
       "    </tr>\n",
       "    <tr>\n",
       "      <th>3</th>\n",
       "      <td>1432</td>\n",
       "      <td>329700.0</td>\n",
       "    </tr>\n",
       "    <tr>\n",
       "      <th>4</th>\n",
       "      <td>1540</td>\n",
       "      <td>326200.0</td>\n",
       "    </tr>\n",
       "    <tr>\n",
       "      <th>...</th>\n",
       "      <td>...</td>\n",
       "      <td>...</td>\n",
       "    </tr>\n",
       "    <tr>\n",
       "      <th>22303</th>\n",
       "      <td>1003612</td>\n",
       "      <td>357000.0</td>\n",
       "    </tr>\n",
       "    <tr>\n",
       "      <th>22304</th>\n",
       "      <td>1004999</td>\n",
       "      <td>650300.0</td>\n",
       "    </tr>\n",
       "    <tr>\n",
       "      <th>22305</th>\n",
       "      <td>1005352</td>\n",
       "      <td>1150700.0</td>\n",
       "    </tr>\n",
       "    <tr>\n",
       "      <th>22306</th>\n",
       "      <td>1006476</td>\n",
       "      <td>672600.0</td>\n",
       "    </tr>\n",
       "    <tr>\n",
       "      <th>22307</th>\n",
       "      <td>1009205</td>\n",
       "      <td>485000.0</td>\n",
       "    </tr>\n",
       "  </tbody>\n",
       "</table>\n",
       "<p>22308 rows × 2 columns</p>\n",
       "</div>"
      ],
      "text/plain": [
       "       loan_id     amount\n",
       "0          619   197600.0\n",
       "1         1222   246100.0\n",
       "2         1308   331500.0\n",
       "3         1432   329700.0\n",
       "4         1540   326200.0\n",
       "...        ...        ...\n",
       "22303  1003612   357000.0\n",
       "22304  1004999   650300.0\n",
       "22305  1005352  1150700.0\n",
       "22306  1006476   672600.0\n",
       "22307  1009205   485000.0\n",
       "\n",
       "[22308 rows x 2 columns]"
      ]
     },
     "execution_count": 11,
     "metadata": {},
     "output_type": "execute_result"
    }
   ],
   "source": [
    "grouped_payment"
   ]
  },
  {
   "cell_type": "code",
   "execution_count": 12,
   "id": "11f1edc9",
   "metadata": {},
   "outputs": [],
   "source": [
    "#merge grouped_payment to the train_data. This shows the total amount paid against the loan_id\n",
    "train_payment= pd.merge(train, grouped_payment, on='loan_id') "
   ]
  },
  {
   "cell_type": "code",
   "execution_count": 13,
   "id": "3fd7ff32",
   "metadata": {},
   "outputs": [
    {
     "data": {
      "text/html": [
       "<div>\n",
       "<style scoped>\n",
       "    .dataframe tbody tr th:only-of-type {\n",
       "        vertical-align: middle;\n",
       "    }\n",
       "\n",
       "    .dataframe tbody tr th {\n",
       "        vertical-align: top;\n",
       "    }\n",
       "\n",
       "    .dataframe thead th {\n",
       "        text-align: right;\n",
       "    }\n",
       "</style>\n",
       "<table border=\"1\" class=\"dataframe\">\n",
       "  <thead>\n",
       "    <tr style=\"text-align: right;\">\n",
       "      <th></th>\n",
       "      <th>loan_id</th>\n",
       "      <th>business_id</th>\n",
       "      <th>credit_officer_id</th>\n",
       "      <th>dismissal_description</th>\n",
       "      <th>acquisition_channel</th>\n",
       "      <th>sector</th>\n",
       "      <th>principal</th>\n",
       "      <th>total_owing_at_issue</th>\n",
       "      <th>application_number</th>\n",
       "      <th>applying_for_loan_number</th>\n",
       "      <th>loan_number</th>\n",
       "      <th>employee_count</th>\n",
       "      <th>approval_status</th>\n",
       "      <th>paid_late</th>\n",
       "      <th>total_recovered_on_time</th>\n",
       "      <th>total_recovered_15_dpd</th>\n",
       "      <th>cash_yield_15_dpd</th>\n",
       "      <th>amount</th>\n",
       "    </tr>\n",
       "  </thead>\n",
       "  <tbody>\n",
       "    <tr>\n",
       "      <th>0</th>\n",
       "      <td>860706</td>\n",
       "      <td>604923</td>\n",
       "      <td>131449.0</td>\n",
       "      <td>NaN</td>\n",
       "      <td>Friend</td>\n",
       "      <td>Beauty Fashion</td>\n",
       "      <td>300000.0</td>\n",
       "      <td>345500.0</td>\n",
       "      <td>1</td>\n",
       "      <td>1</td>\n",
       "      <td>1.0</td>\n",
       "      <td>1.0</td>\n",
       "      <td>Approved</td>\n",
       "      <td>False</td>\n",
       "      <td>345500.0</td>\n",
       "      <td>345500.0</td>\n",
       "      <td>45500.0</td>\n",
       "      <td>345500.0</td>\n",
       "    </tr>\n",
       "    <tr>\n",
       "      <th>1</th>\n",
       "      <td>975605</td>\n",
       "      <td>604923</td>\n",
       "      <td>131449.0</td>\n",
       "      <td>NaN</td>\n",
       "      <td>Friend</td>\n",
       "      <td>Beauty Fashion</td>\n",
       "      <td>330000.0</td>\n",
       "      <td>380000.0</td>\n",
       "      <td>2</td>\n",
       "      <td>2</td>\n",
       "      <td>2.0</td>\n",
       "      <td>1.0</td>\n",
       "      <td>Approved</td>\n",
       "      <td>False</td>\n",
       "      <td>380000.0</td>\n",
       "      <td>380000.0</td>\n",
       "      <td>50000.0</td>\n",
       "      <td>380000.0</td>\n",
       "    </tr>\n",
       "    <tr>\n",
       "      <th>2</th>\n",
       "      <td>127617</td>\n",
       "      <td>122438</td>\n",
       "      <td>108019.0</td>\n",
       "      <td>NaN</td>\n",
       "      <td>Friend</td>\n",
       "      <td>Food Staple Goods</td>\n",
       "      <td>200000.0</td>\n",
       "      <td>221100.0</td>\n",
       "      <td>2</td>\n",
       "      <td>1</td>\n",
       "      <td>1.0</td>\n",
       "      <td>1.0</td>\n",
       "      <td>Approved</td>\n",
       "      <td>False</td>\n",
       "      <td>221100.0</td>\n",
       "      <td>221100.0</td>\n",
       "      <td>21100.0</td>\n",
       "      <td>221100.0</td>\n",
       "    </tr>\n",
       "    <tr>\n",
       "      <th>3</th>\n",
       "      <td>148416</td>\n",
       "      <td>122438</td>\n",
       "      <td>108019.0</td>\n",
       "      <td>NaN</td>\n",
       "      <td>Friend</td>\n",
       "      <td>Food Staple Goods</td>\n",
       "      <td>220000.0</td>\n",
       "      <td>243200.0</td>\n",
       "      <td>3</td>\n",
       "      <td>2</td>\n",
       "      <td>2.0</td>\n",
       "      <td>1.0</td>\n",
       "      <td>Approved</td>\n",
       "      <td>False</td>\n",
       "      <td>243200.0</td>\n",
       "      <td>243200.0</td>\n",
       "      <td>23200.0</td>\n",
       "      <td>243200.0</td>\n",
       "    </tr>\n",
       "    <tr>\n",
       "      <th>4</th>\n",
       "      <td>172015</td>\n",
       "      <td>122438</td>\n",
       "      <td>108019.0</td>\n",
       "      <td>NaN</td>\n",
       "      <td>Friend</td>\n",
       "      <td>Food Staple Goods</td>\n",
       "      <td>242000.0</td>\n",
       "      <td>269000.0</td>\n",
       "      <td>4</td>\n",
       "      <td>3</td>\n",
       "      <td>3.0</td>\n",
       "      <td>1.0</td>\n",
       "      <td>Approved</td>\n",
       "      <td>False</td>\n",
       "      <td>269000.0</td>\n",
       "      <td>269000.0</td>\n",
       "      <td>27000.0</td>\n",
       "      <td>269000.0</td>\n",
       "    </tr>\n",
       "  </tbody>\n",
       "</table>\n",
       "</div>"
      ],
      "text/plain": [
       "   loan_id  business_id  credit_officer_id dismissal_description  \\\n",
       "0   860706       604923           131449.0                   NaN   \n",
       "1   975605       604923           131449.0                   NaN   \n",
       "2   127617       122438           108019.0                   NaN   \n",
       "3   148416       122438           108019.0                   NaN   \n",
       "4   172015       122438           108019.0                   NaN   \n",
       "\n",
       "  acquisition_channel             sector  principal  total_owing_at_issue  \\\n",
       "0              Friend     Beauty Fashion   300000.0              345500.0   \n",
       "1              Friend     Beauty Fashion   330000.0              380000.0   \n",
       "2              Friend  Food Staple Goods   200000.0              221100.0   \n",
       "3              Friend  Food Staple Goods   220000.0              243200.0   \n",
       "4              Friend  Food Staple Goods   242000.0              269000.0   \n",
       "\n",
       "   application_number  applying_for_loan_number  loan_number  employee_count  \\\n",
       "0                   1                         1          1.0             1.0   \n",
       "1                   2                         2          2.0             1.0   \n",
       "2                   2                         1          1.0             1.0   \n",
       "3                   3                         2          2.0             1.0   \n",
       "4                   4                         3          3.0             1.0   \n",
       "\n",
       "  approval_status  paid_late  total_recovered_on_time  total_recovered_15_dpd  \\\n",
       "0        Approved      False                 345500.0                345500.0   \n",
       "1        Approved      False                 380000.0                380000.0   \n",
       "2        Approved      False                 221100.0                221100.0   \n",
       "3        Approved      False                 243200.0                243200.0   \n",
       "4        Approved      False                 269000.0                269000.0   \n",
       "\n",
       "   cash_yield_15_dpd    amount  \n",
       "0            45500.0  345500.0  \n",
       "1            50000.0  380000.0  \n",
       "2            21100.0  221100.0  \n",
       "3            23200.0  243200.0  \n",
       "4            27000.0  269000.0  "
      ]
     },
     "execution_count": 13,
     "metadata": {},
     "output_type": "execute_result"
    }
   ],
   "source": [
    "train_payment.head()"
   ]
  },
  {
   "cell_type": "code",
   "execution_count": 14,
   "id": "500adab5",
   "metadata": {},
   "outputs": [
    {
     "data": {
      "text/plain": [
       "<Axes: title={'center': 'Count of Sectors'}, xlabel='sector'>"
      ]
     },
     "execution_count": 14,
     "metadata": {},
     "output_type": "execute_result"
    },
    {
     "data": {
      "image/png": "[encoded data removed]",
      "text/plain": [
       "<Figure size 640x480 with 1 Axes>"
      ]
     },
     "metadata": {},
     "output_type": "display_data"
    }
   ],
   "source": [
    "# Check sectore with most client\n",
    "grouped_df = train.groupby('sector').size().reset_index(name='count').sort_values('count', ascending=False).head(10).reset_index(drop=True)\n",
    "grouped_df.plot(kind='bar',x='sector',y='count',title='Count of Sectors')"
   ]
  },
  {
   "cell_type": "code",
   "execution_count": 15,
   "id": "ed7f0a78",
   "metadata": {},
   "outputs": [],
   "source": [
    "grouped_df = train.groupby('sector').size().reset_index(name='count').sort_values('count', ascending=False).head(10).reset_index(drop=True)\n"
   ]
  },
  {
   "cell_type": "code",
   "execution_count": 16,
   "id": "5c855da2",
   "metadata": {},
   "outputs": [
    {
     "data": {
      "text/plain": [
       "<Axes: title={'center': 'Cash yield of sectors'}, xlabel='sector'>"
      ]
     },
     "execution_count": 16,
     "metadata": {},
     "output_type": "execute_result"
    },
    {
     "data": {
      "image/png": "[encoded data removed]",
      "text/plain": [
       "<Figure size 640x480 with 1 Axes>"
      ]
     },
     "metadata": {},
     "output_type": "display_data"
    }
   ],
   "source": [
    "grouped_df= train.groupby('sector')['cash_yield_15_dpd'].sum().reset_index().sort_values('cash_yield_15_dpd', ascending=False).head(10).reset_index(drop=True)\n",
    "grouped_df.plot(kind='bar',x='sector',y='cash_yield_15_dpd',title='Cash yield of sectors')"
   ]
  },
  {
   "cell_type": "code",
   "execution_count": 17,
   "id": "80179311",
   "metadata": {},
   "outputs": [
    {
     "data": {
      "text/plain": [
       "count    2.230700e+04\n",
       "mean     9.489981e+04\n",
       "std      1.053362e+05\n",
       "min     -1.852900e+06\n",
       "25%      4.070000e+04\n",
       "50%      6.420000e+04\n",
       "75%      1.084000e+05\n",
       "max      1.426900e+06\n",
       "Name: cash_yield_15_dpd, dtype: float64"
      ]
     },
     "execution_count": 17,
     "metadata": {},
     "output_type": "execute_result"
    }
   ],
   "source": [
    "#Some cash yield statistics\n",
    "train.describe().cash_yield_15_dpd"
   ]
  },
  {
   "cell_type": "code",
   "execution_count": 18,
   "id": "72990136",
   "metadata": {},
   "outputs": [
    {
     "data": {
      "image/png": "[encoded data removed]",
      "text/plain": [
       "<Figure size 640x480 with 1 Axes>"
      ]
     },
     "metadata": {},
     "output_type": "display_data"
    }
   ],
   "source": [
    "# A histogram plot of the cash yields\n",
    "train['cash_yield_15_dpd'].plot(kind='hist', bins=100, color='skyblue', edgecolor='black')\n",
    "\n",
    "# Show plot\n",
    "plt.xlabel('cash_yield_15_dpd')\n",
    "plt.title('cash_yield_15_dpd Distribution')\n",
    "plt.show()"
   ]
  },
  {
   "cell_type": "markdown",
   "id": "5bea0218",
   "metadata": {},
   "source": [
    "* The distribution of the yields is right-skewed, indicating that there are few large yields that pull the distribution to the right\n",
    "* The median yield is around 6.420000e+04 while the mean is slightly higher (9.489981e+04) due to the influence of few large yields\n",
    "* The range of yields is from -1.852900e+06 to 1.426900e+06, causing a high standard deviation of 1.426900e+06\n",
    "* There are a few extreme yield greater than 1e6 pulling the yield higher."
   ]
  },
  {
   "cell_type": "code",
   "execution_count": 19,
   "id": "fccea0c0",
   "metadata": {},
   "outputs": [
    {
     "name": "stdout",
     "output_type": "stream",
     "text": [
      "The percentage of loans with a late payment: 2.852987724025835\n"
     ]
    }
   ],
   "source": [
    "#Pay late True to False proportion\n",
    "Paid_late_True = train['paid_late'].mean() * 100\n",
    "print('The percentage of loans with a late payment:',Paid_late_True)"
   ]
  },
  {
   "cell_type": "markdown",
   "id": "59e95d4f",
   "metadata": {},
   "source": [
    "*  The percentage of loans with a late payment is just 2.852987724025835. However, as seen in the test data set, loans with no late payment can still default."
   ]
  },
  {
   "cell_type": "code",
   "execution_count": 20,
   "id": "36e2a44c",
   "metadata": {},
   "outputs": [
    {
     "name": "stdout",
     "output_type": "stream",
     "text": [
      "The percentage of loans with a late payment but completed payment before 15days past due is 97.0014992503748\n"
     ]
    }
   ],
   "source": [
    "#Proportion of paid_late but paid before 15dpd\n",
    "train_paid_late=train[train.paid_late==True]\n",
    "train_paid_late_full_payment=train_paid_late[train_paid_late.cash_yield_15_dpd>0]\n",
    "proportion=(len(train_paid_late_full_payment)/len(train_paid_late))*100\n",
    "print('The percentage of loans with a late payment but completed payment before 15days past due is',proportion)"
   ]
  },
  {
   "cell_type": "markdown",
   "id": "b0d2a013",
   "metadata": {},
   "source": [
    "* About 97% of loans with at least a late payment (payment after 30 days) make full payment before the 15dpd"
   ]
  },
  {
   "cell_type": "code",
   "execution_count": 21,
   "id": "878d99cd",
   "metadata": {},
   "outputs": [],
   "source": [
    "#create a field that shows if all payment were received or not\n",
    "train_payment['full_collection'] = (train_payment.total_owing_at_issue <= train_payment.amount) "
   ]
  },
  {
   "cell_type": "code",
   "execution_count": 22,
   "id": "b038494d",
   "metadata": {},
   "outputs": [
    {
     "name": "stdout",
     "output_type": "stream",
     "text": [
      "The percentage of loans that did not complete payment before 15dpd but later paid in full is 89.47368421052632\n"
     ]
    }
   ],
   "source": [
    "# Proportion of those who did not pay before 15dpd but still ends up paying in full\n",
    "past_15dpd=train_payment[train_payment.cash_yield_15_dpd<0]\n",
    "past_15dpd_but_still_paid=past_15dpd[past_15dpd.full_collection==True]\n",
    "proportion=(len(past_15dpd_but_still_paid)/len(past_15dpd))*100\n",
    "print('The percentage of loans that did not complete payment before 15dpd but later paid in full is',proportion)"
   ]
  },
  {
   "cell_type": "markdown",
   "id": "98c2dc81",
   "metadata": {},
   "source": [
    "* In other words, only about 11% of loans that did not complete payment before 15dpd will end up not paying in full. Hence some payments can still be recovered even after 15dpd"
   ]
  },
  {
   "cell_type": "code",
   "execution_count": 23,
   "id": "d88994b9",
   "metadata": {},
   "outputs": [
    {
     "name": "stdout",
     "output_type": "stream",
     "text": [
      "The percentage of loans that paid late and did not pay in full is  0.29985007496251875\n"
     ]
    }
   ],
   "source": [
    "# Proportion of paid_late who never paid in full i.e. loss of yield\n",
    "after_15dpd_and_no_pay=past_15dpd[past_15dpd.full_collection==False]\n",
    "proportion=(len(after_15dpd_and_no_pay)/len(train_paid_late))*100\n",
    "print('The percentage of loans that paid late and did not pay in full is ',proportion)"
   ]
  },
  {
   "cell_type": "code",
   "execution_count": 24,
   "id": "905afca0",
   "metadata": {},
   "outputs": [
    {
     "name": "stdout",
     "output_type": "stream",
     "text": [
      "Only  0.08517505715694625 % yield loss\n"
     ]
    }
   ],
   "source": [
    "# Percentage of loans with yield loss at 15dpd\n",
    "yield_loss=(len(train[train.cash_yield_15_dpd<0])/len(train[train.approval_status=='Approved']))*100\n",
    "print('Only ',yield_loss,'% yield loss')"
   ]
  },
  {
   "cell_type": "markdown",
   "id": "c68032ca",
   "metadata": {},
   "source": [
    "* From the EDAs, the following can be concluded:\n",
    "    * The Beauty Fashion, Food staple Goods and Phones electronics are the sectors with the highest yields\n",
    "    * The maximum yield received is 1.426900e+06\n",
    "    * The most yeild loss is -1.852900e+06\n",
    "    * The mean yield is  9.489981e+04\n",
    "    * The rate or percentage of late payment is only 2.852%\n",
    "    * Only 0.0851% did not pay up after 15dpd leading to a loss yield"
   ]
  },
  {
   "cell_type": "markdown",
   "id": "b3cdabdc",
   "metadata": {},
   "source": [
    "* The following are the given information:\n",
    "    * it is rare to relend to a customer that pays back more than 15 days late\n",
    "    * Ultimately, yield is one of the most important metrics\n",
    "* Therefore it is desired to know before hand what loan will lead to loss of yield and also potential loss of clients\n",
    "* Loans not paid before 15dpd will lead to loss of yield and also potential loss of clients\n",
    "* Therefore, the target variable is to determine if a loan will be paid before 15dpd or not. The task is therefore a binary classification task \n",
    "\n",
    " "
   ]
  },
  {
   "cell_type": "markdown",
   "id": "c6e3480b",
   "metadata": {},
   "source": [
    "### 2. Features Engineering"
   ]
  },
  {
   "cell_type": "code",
   "execution_count": 25,
   "id": "8cc60220",
   "metadata": {},
   "outputs": [],
   "source": [
    "def filter_off_to_expose_defaults(table_a, table_b):\n",
    "    '''\n",
    "    The function removes loans taken by a business after a yield loss in the training data\n",
    "    The intention is to decipher the characteristics of the loans before default\n",
    "    '''\n",
    "    merged_df = pd.merge(table_a, table_b, on='business_id', how='inner')\n",
    "\n",
    "    # Filter out rows where 'loan_number' is greater than 'threshold'. Threshold is the loan number with a yield loss\n",
    "    filtered_df = merged_df[merged_df['loan_number'] <= merged_df['loan_number_threshold']]\n",
    "\n",
    "    # Drop the 'threshold' column (no longer needed)\n",
    "    filtered_df = filtered_df.drop('loan_number_threshold', axis=1)\n",
    "    result_df = pd.concat([filtered_df, table_a[~table_a['business_id'].isin(table_b['business_id'])]])\n",
    "    result_df = result_df.dropna(subset=['loan_number'])\n",
    "    return result_df"
   ]
  },
  {
   "cell_type": "code",
   "execution_count": 26,
   "id": "4ad6259b",
   "metadata": {},
   "outputs": [],
   "source": [
    "train_filter=filter_off_to_expose_defaults(train,filter_off)"
   ]
  },
  {
   "cell_type": "code",
   "execution_count": 27,
   "id": "9e02b620",
   "metadata": {},
   "outputs": [],
   "source": [
    "def sort_create_target(df):\n",
    "    '''\n",
    "    The function sorts the dataframe and creates a field for the defaults\n",
    "    '''\n",
    "    df=df.sort_values(by=['business_id','loan_number'])\n",
    "    df['defaulted']=df.cash_yield_15_dpd <0\n",
    "    return df"
   ]
  },
  {
   "cell_type": "code",
   "execution_count": 28,
   "id": "b7e1fede",
   "metadata": {},
   "outputs": [],
   "source": [
    "train_s=sort_create_target(train_filter)\n"
   ]
  },
  {
   "cell_type": "code",
   "execution_count": 29,
   "id": "88936393",
   "metadata": {},
   "outputs": [
    {
     "data": {
      "text/html": [
       "<div>\n",
       "<style scoped>\n",
       "    .dataframe tbody tr th:only-of-type {\n",
       "        vertical-align: middle;\n",
       "    }\n",
       "\n",
       "    .dataframe tbody tr th {\n",
       "        vertical-align: top;\n",
       "    }\n",
       "\n",
       "    .dataframe thead th {\n",
       "        text-align: right;\n",
       "    }\n",
       "</style>\n",
       "<table border=\"1\" class=\"dataframe\">\n",
       "  <thead>\n",
       "    <tr style=\"text-align: right;\">\n",
       "      <th></th>\n",
       "      <th>loan_id</th>\n",
       "      <th>business_id</th>\n",
       "      <th>credit_officer_id</th>\n",
       "      <th>dismissal_description</th>\n",
       "      <th>acquisition_channel</th>\n",
       "      <th>sector</th>\n",
       "      <th>principal</th>\n",
       "      <th>total_owing_at_issue</th>\n",
       "      <th>application_number</th>\n",
       "      <th>applying_for_loan_number</th>\n",
       "      <th>loan_number</th>\n",
       "      <th>employee_count</th>\n",
       "      <th>approval_status</th>\n",
       "      <th>paid_late</th>\n",
       "      <th>total_recovered_on_time</th>\n",
       "      <th>total_recovered_15_dpd</th>\n",
       "      <th>cash_yield_15_dpd</th>\n",
       "      <th>defaulted</th>\n",
       "    </tr>\n",
       "  </thead>\n",
       "  <tbody>\n",
       "    <tr>\n",
       "      <th>14373</th>\n",
       "      <td>5751</td>\n",
       "      <td>2055</td>\n",
       "      <td>5875.0</td>\n",
       "      <td>NaN</td>\n",
       "      <td>Friend</td>\n",
       "      <td>Manufacturing</td>\n",
       "      <td>380200.0</td>\n",
       "      <td>455400.0</td>\n",
       "      <td>1</td>\n",
       "      <td>1</td>\n",
       "      <td>1.0</td>\n",
       "      <td>4.0</td>\n",
       "      <td>Approved</td>\n",
       "      <td>False</td>\n",
       "      <td>455400.0</td>\n",
       "      <td>455400.0</td>\n",
       "      <td>75200.0</td>\n",
       "      <td>False</td>\n",
       "    </tr>\n",
       "    <tr>\n",
       "      <th>14374</th>\n",
       "      <td>74801</td>\n",
       "      <td>2055</td>\n",
       "      <td>18906.0</td>\n",
       "      <td>NaN</td>\n",
       "      <td>Friend</td>\n",
       "      <td>Manufacturing</td>\n",
       "      <td>399200.0</td>\n",
       "      <td>445300.0</td>\n",
       "      <td>2</td>\n",
       "      <td>2</td>\n",
       "      <td>2.0</td>\n",
       "      <td>4.0</td>\n",
       "      <td>Approved</td>\n",
       "      <td>True</td>\n",
       "      <td>0.0</td>\n",
       "      <td>445300.0</td>\n",
       "      <td>46100.0</td>\n",
       "      <td>False</td>\n",
       "    </tr>\n",
       "    <tr>\n",
       "      <th>14375</th>\n",
       "      <td>126809</td>\n",
       "      <td>2055</td>\n",
       "      <td>18906.0</td>\n",
       "      <td>NaN</td>\n",
       "      <td>Friend</td>\n",
       "      <td>Manufacturing</td>\n",
       "      <td>399200.0</td>\n",
       "      <td>465400.0</td>\n",
       "      <td>3</td>\n",
       "      <td>3</td>\n",
       "      <td>3.0</td>\n",
       "      <td>4.0</td>\n",
       "      <td>Approved</td>\n",
       "      <td>False</td>\n",
       "      <td>465400.0</td>\n",
       "      <td>465400.0</td>\n",
       "      <td>66200.0</td>\n",
       "      <td>False</td>\n",
       "    </tr>\n",
       "    <tr>\n",
       "      <th>14376</th>\n",
       "      <td>174980</td>\n",
       "      <td>2055</td>\n",
       "      <td>18906.0</td>\n",
       "      <td>NaN</td>\n",
       "      <td>Friend</td>\n",
       "      <td>Manufacturing</td>\n",
       "      <td>439100.0</td>\n",
       "      <td>492400.0</td>\n",
       "      <td>4</td>\n",
       "      <td>4</td>\n",
       "      <td>4.0</td>\n",
       "      <td>4.0</td>\n",
       "      <td>Approved</td>\n",
       "      <td>False</td>\n",
       "      <td>492400.0</td>\n",
       "      <td>492400.0</td>\n",
       "      <td>53300.0</td>\n",
       "      <td>False</td>\n",
       "    </tr>\n",
       "    <tr>\n",
       "      <th>14377</th>\n",
       "      <td>204915</td>\n",
       "      <td>2055</td>\n",
       "      <td>18906.0</td>\n",
       "      <td>NaN</td>\n",
       "      <td>Friend</td>\n",
       "      <td>Manufacturing</td>\n",
       "      <td>500000.0</td>\n",
       "      <td>560700.0</td>\n",
       "      <td>5</td>\n",
       "      <td>5</td>\n",
       "      <td>5.0</td>\n",
       "      <td>4.0</td>\n",
       "      <td>Approved</td>\n",
       "      <td>False</td>\n",
       "      <td>560700.0</td>\n",
       "      <td>560700.0</td>\n",
       "      <td>60700.0</td>\n",
       "      <td>False</td>\n",
       "    </tr>\n",
       "    <tr>\n",
       "      <th>14378</th>\n",
       "      <td>243411</td>\n",
       "      <td>2055</td>\n",
       "      <td>18906.0</td>\n",
       "      <td>NaN</td>\n",
       "      <td>Friend</td>\n",
       "      <td>Manufacturing</td>\n",
       "      <td>600000.0</td>\n",
       "      <td>672900.0</td>\n",
       "      <td>6</td>\n",
       "      <td>6</td>\n",
       "      <td>6.0</td>\n",
       "      <td>4.0</td>\n",
       "      <td>Approved</td>\n",
       "      <td>False</td>\n",
       "      <td>672900.0</td>\n",
       "      <td>672900.0</td>\n",
       "      <td>72900.0</td>\n",
       "      <td>False</td>\n",
       "    </tr>\n",
       "    <tr>\n",
       "      <th>14379</th>\n",
       "      <td>287624</td>\n",
       "      <td>2055</td>\n",
       "      <td>18906.0</td>\n",
       "      <td>NaN</td>\n",
       "      <td>Friend</td>\n",
       "      <td>Manufacturing</td>\n",
       "      <td>660000.0</td>\n",
       "      <td>740200.0</td>\n",
       "      <td>7</td>\n",
       "      <td>7</td>\n",
       "      <td>7.0</td>\n",
       "      <td>4.0</td>\n",
       "      <td>Approved</td>\n",
       "      <td>False</td>\n",
       "      <td>740200.0</td>\n",
       "      <td>740200.0</td>\n",
       "      <td>80200.0</td>\n",
       "      <td>False</td>\n",
       "    </tr>\n",
       "    <tr>\n",
       "      <th>14380</th>\n",
       "      <td>325607</td>\n",
       "      <td>2055</td>\n",
       "      <td>295227.0</td>\n",
       "      <td>NaN</td>\n",
       "      <td>Friend</td>\n",
       "      <td>Manufacturing</td>\n",
       "      <td>726000.0</td>\n",
       "      <td>814200.0</td>\n",
       "      <td>8</td>\n",
       "      <td>8</td>\n",
       "      <td>8.0</td>\n",
       "      <td>4.0</td>\n",
       "      <td>Approved</td>\n",
       "      <td>False</td>\n",
       "      <td>814200.0</td>\n",
       "      <td>814200.0</td>\n",
       "      <td>88200.0</td>\n",
       "      <td>False</td>\n",
       "    </tr>\n",
       "    <tr>\n",
       "      <th>14381</th>\n",
       "      <td>358375</td>\n",
       "      <td>2055</td>\n",
       "      <td>295227.0</td>\n",
       "      <td>NaN</td>\n",
       "      <td>Friend</td>\n",
       "      <td>Manufacturing</td>\n",
       "      <td>600000.0</td>\n",
       "      <td>672900.0</td>\n",
       "      <td>9</td>\n",
       "      <td>9</td>\n",
       "      <td>9.0</td>\n",
       "      <td>4.0</td>\n",
       "      <td>Approved</td>\n",
       "      <td>False</td>\n",
       "      <td>672900.0</td>\n",
       "      <td>672900.0</td>\n",
       "      <td>72900.0</td>\n",
       "      <td>False</td>\n",
       "    </tr>\n",
       "    <tr>\n",
       "      <th>14382</th>\n",
       "      <td>390215</td>\n",
       "      <td>2055</td>\n",
       "      <td>295227.0</td>\n",
       "      <td>NaN</td>\n",
       "      <td>Friend</td>\n",
       "      <td>Manufacturing</td>\n",
       "      <td>750000.0</td>\n",
       "      <td>841100.0</td>\n",
       "      <td>10</td>\n",
       "      <td>10</td>\n",
       "      <td>10.0</td>\n",
       "      <td>4.0</td>\n",
       "      <td>Approved</td>\n",
       "      <td>False</td>\n",
       "      <td>841100.0</td>\n",
       "      <td>841100.0</td>\n",
       "      <td>91100.0</td>\n",
       "      <td>False</td>\n",
       "    </tr>\n",
       "  </tbody>\n",
       "</table>\n",
       "</div>"
      ],
      "text/plain": [
       "       loan_id  business_id  credit_officer_id dismissal_description  \\\n",
       "14373     5751         2055             5875.0                   NaN   \n",
       "14374    74801         2055            18906.0                   NaN   \n",
       "14375   126809         2055            18906.0                   NaN   \n",
       "14376   174980         2055            18906.0                   NaN   \n",
       "14377   204915         2055            18906.0                   NaN   \n",
       "14378   243411         2055            18906.0                   NaN   \n",
       "14379   287624         2055            18906.0                   NaN   \n",
       "14380   325607         2055           295227.0                   NaN   \n",
       "14381   358375         2055           295227.0                   NaN   \n",
       "14382   390215         2055           295227.0                   NaN   \n",
       "\n",
       "      acquisition_channel         sector  principal  total_owing_at_issue  \\\n",
       "14373              Friend  Manufacturing   380200.0              455400.0   \n",
       "14374              Friend  Manufacturing   399200.0              445300.0   \n",
       "14375              Friend  Manufacturing   399200.0              465400.0   \n",
       "14376              Friend  Manufacturing   439100.0              492400.0   \n",
       "14377              Friend  Manufacturing   500000.0              560700.0   \n",
       "14378              Friend  Manufacturing   600000.0              672900.0   \n",
       "14379              Friend  Manufacturing   660000.0              740200.0   \n",
       "14380              Friend  Manufacturing   726000.0              814200.0   \n",
       "14381              Friend  Manufacturing   600000.0              672900.0   \n",
       "14382              Friend  Manufacturing   750000.0              841100.0   \n",
       "\n",
       "       application_number  applying_for_loan_number  loan_number  \\\n",
       "14373                   1                         1          1.0   \n",
       "14374                   2                         2          2.0   \n",
       "14375                   3                         3          3.0   \n",
       "14376                   4                         4          4.0   \n",
       "14377                   5                         5          5.0   \n",
       "14378                   6                         6          6.0   \n",
       "14379                   7                         7          7.0   \n",
       "14380                   8                         8          8.0   \n",
       "14381                   9                         9          9.0   \n",
       "14382                  10                        10         10.0   \n",
       "\n",
       "       employee_count approval_status  paid_late  total_recovered_on_time  \\\n",
       "14373             4.0        Approved      False                 455400.0   \n",
       "14374             4.0        Approved       True                      0.0   \n",
       "14375             4.0        Approved      False                 465400.0   \n",
       "14376             4.0        Approved      False                 492400.0   \n",
       "14377             4.0        Approved      False                 560700.0   \n",
       "14378             4.0        Approved      False                 672900.0   \n",
       "14379             4.0        Approved      False                 740200.0   \n",
       "14380             4.0        Approved      False                 814200.0   \n",
       "14381             4.0        Approved      False                 672900.0   \n",
       "14382             4.0        Approved      False                 841100.0   \n",
       "\n",
       "       total_recovered_15_dpd  cash_yield_15_dpd  defaulted  \n",
       "14373                455400.0            75200.0      False  \n",
       "14374                445300.0            46100.0      False  \n",
       "14375                465400.0            66200.0      False  \n",
       "14376                492400.0            53300.0      False  \n",
       "14377                560700.0            60700.0      False  \n",
       "14378                672900.0            72900.0      False  \n",
       "14379                740200.0            80200.0      False  \n",
       "14380                814200.0            88200.0      False  \n",
       "14381                672900.0            72900.0      False  \n",
       "14382                841100.0            91100.0      False  "
      ]
     },
     "execution_count": 29,
     "metadata": {},
     "output_type": "execute_result"
    }
   ],
   "source": [
    "train_s.head(10)"
   ]
  },
  {
   "cell_type": "code",
   "execution_count": 30,
   "id": "49a51be8",
   "metadata": {},
   "outputs": [
    {
     "name": "stderr",
     "output_type": "stream",
     "text": [
      "C:\\Users\\oluwatobi.afolabi\\AppData\\Local\\Temp\\ipykernel_11612\\1109197357.py:21: DeprecationWarning: DataFrameGroupBy.apply operated on the grouping columns. This behavior is deprecated, and in a future version of pandas the grouping columns will be excluded from the operation. Either pass `include_groups=False` to exclude the groupings or explicitly select the grouping columns after groupby to silence this warning.\n",
      "  result = train_s.groupby('business_id').apply(principal_percentage_change)\n"
     ]
    }
   ],
   "source": [
    "def principal_percentage_change(group):\n",
    "    '''\n",
    "    The function calculates the percentage change in the principal\n",
    "    for the last four loans of a business\n",
    "    '''\n",
    "    # Find the highest loan_number for this business_id\n",
    "    highest_loan_number = group['loan_number'].max()\n",
    "    \n",
    "    # Filter to include only up to three loans before the highest loan_number\n",
    "    # (We start with loan_number preceding the highest)\n",
    "    recent_loans = group[group['loan_number'] <= highest_loan_number].tail(5)  # Select last 5 loans\n",
    "    \n",
    "    # Calculate the percentage change in the principal over the last three loans\n",
    "    recent_loans['principal_pct_change'] = recent_loans['principal'].pct_change(periods=1) * 100\n",
    "    pct_changes = recent_loans['principal'].pct_change(periods=1).dropna() * 100\n",
    "    \n",
    "    # We only want the percentage change for the three loans back from the highest\n",
    "    return pct_changes.tolist() # Exclude the last loan (the highest loan_number itself)\n",
    "\n",
    "# Apply the function to each group of 'business_id'\n",
    "result = train_s.groupby('business_id').apply(principal_percentage_change)"
   ]
  },
  {
   "cell_type": "code",
   "execution_count": 31,
   "id": "ea77b4ea",
   "metadata": {},
   "outputs": [],
   "source": [
    "principal_change_0,principal_change_1,principal_change_2,principal_change_3=[], [], [], []\n",
    "busines_id=[]\n",
    "\n",
    "for i in result.keys():\n",
    "    \n",
    "    # Ensure the sublist has exactly 4 elements by padding with zeros\n",
    "    # This corrects for businesses with less than 5 loans\n",
    "   \n",
    "    padded_sublist = result[i] + [0] * (4 - len(result[i]))\n",
    "\n",
    "    # Append each element to its respective new list\n",
    "    principal_change_3.append(padded_sublist[0])\n",
    "    principal_change_2.append(padded_sublist[1])\n",
    "    principal_change_1.append(padded_sublist[2])\n",
    "    principal_change_0.append(padded_sublist[3])\n",
    "    busines_id.append(i)"
   ]
  },
  {
   "cell_type": "code",
   "execution_count": 32,
   "id": "2e1d10b1",
   "metadata": {},
   "outputs": [],
   "source": [
    "def default_paid_late(group):\n",
    "    '''\n",
    "    The function extracts the number of times a business\n",
    "    has defaulted (yield loss) or paid late\n",
    "    '''\n",
    "    paid_late = group['paid_late'].sum().tolist()\n",
    "    default=group['defaulted'].sum().tolist()\n",
    "    return paid_late,default\n",
    "\n",
    "def process_paid_late_default(paid_late):\n",
    "    '''\n",
    "    The function creates a dataframe of the paid_late and \n",
    "    defaulted variables.\n",
    "    '''\n",
    "    df = pd.DataFrame(paid_late).reset_index()\n",
    "    df[0] = df[0].apply(lambda x: str(x))\n",
    "        # Remove parentheses and split the second column\n",
    "    df[['paid_late','number_of_defaults']] = df[0].str.strip('()').str.split(', ', expand=True)\n",
    "    # Convert the new columns to integers (optional)\n",
    "    df['paid_late'] = df['paid_late'].astype(int)\n",
    "    df['number_of_defaults'] = df['number_of_defaults'].astype(int)\n",
    "    # Drop the original second column if needed\n",
    "    df = df.drop(0, axis=1)\n",
    "    return df\n",
    "    "
   ]
  },
  {
   "cell_type": "code",
   "execution_count": 33,
   "id": "2aca91bb",
   "metadata": {},
   "outputs": [
    {
     "name": "stderr",
     "output_type": "stream",
     "text": [
      "C:\\Users\\oluwatobi.afolabi\\AppData\\Local\\Temp\\ipykernel_11612\\1252836018.py:1: DeprecationWarning: DataFrameGroupBy.apply operated on the grouping columns. This behavior is deprecated, and in a future version of pandas the grouping columns will be excluded from the operation. Either pass `include_groups=False` to exclude the groupings or explicitly select the grouping columns after groupby to silence this warning.\n",
      "  paid_late_default= train_s.groupby('business_id').apply(default_paid_late)\n"
     ]
    }
   ],
   "source": [
    "paid_late_default= train_s.groupby('business_id').apply(default_paid_late)\n",
    "df_paid_late_default=process_paid_late_default(paid_late_default)"
   ]
  },
  {
   "cell_type": "code",
   "execution_count": 34,
   "id": "62b3d055",
   "metadata": {},
   "outputs": [
    {
     "data": {
      "text/html": [
       "<div>\n",
       "<style scoped>\n",
       "    .dataframe tbody tr th:only-of-type {\n",
       "        vertical-align: middle;\n",
       "    }\n",
       "\n",
       "    .dataframe tbody tr th {\n",
       "        vertical-align: top;\n",
       "    }\n",
       "\n",
       "    .dataframe thead th {\n",
       "        text-align: right;\n",
       "    }\n",
       "</style>\n",
       "<table border=\"1\" class=\"dataframe\">\n",
       "  <thead>\n",
       "    <tr style=\"text-align: right;\">\n",
       "      <th></th>\n",
       "      <th>business_id</th>\n",
       "      <th>paid_late</th>\n",
       "      <th>number_of_defaults</th>\n",
       "    </tr>\n",
       "  </thead>\n",
       "  <tbody>\n",
       "    <tr>\n",
       "      <th>0</th>\n",
       "      <td>2055</td>\n",
       "      <td>1</td>\n",
       "      <td>0</td>\n",
       "    </tr>\n",
       "    <tr>\n",
       "      <th>1</th>\n",
       "      <td>2229</td>\n",
       "      <td>9</td>\n",
       "      <td>3</td>\n",
       "    </tr>\n",
       "    <tr>\n",
       "      <th>2</th>\n",
       "      <td>3066</td>\n",
       "      <td>1</td>\n",
       "      <td>1</td>\n",
       "    </tr>\n",
       "    <tr>\n",
       "      <th>3</th>\n",
       "      <td>5104</td>\n",
       "      <td>0</td>\n",
       "      <td>0</td>\n",
       "    </tr>\n",
       "    <tr>\n",
       "      <th>4</th>\n",
       "      <td>5467</td>\n",
       "      <td>0</td>\n",
       "      <td>0</td>\n",
       "    </tr>\n",
       "    <tr>\n",
       "      <th>...</th>\n",
       "      <td>...</td>\n",
       "      <td>...</td>\n",
       "      <td>...</td>\n",
       "    </tr>\n",
       "    <tr>\n",
       "      <th>1864</th>\n",
       "      <td>696674</td>\n",
       "      <td>0</td>\n",
       "      <td>0</td>\n",
       "    </tr>\n",
       "    <tr>\n",
       "      <th>1865</th>\n",
       "      <td>699641</td>\n",
       "      <td>0</td>\n",
       "      <td>0</td>\n",
       "    </tr>\n",
       "    <tr>\n",
       "      <th>1866</th>\n",
       "      <td>700419</td>\n",
       "      <td>0</td>\n",
       "      <td>0</td>\n",
       "    </tr>\n",
       "    <tr>\n",
       "      <th>1867</th>\n",
       "      <td>702157</td>\n",
       "      <td>0</td>\n",
       "      <td>0</td>\n",
       "    </tr>\n",
       "    <tr>\n",
       "      <th>1868</th>\n",
       "      <td>708308</td>\n",
       "      <td>0</td>\n",
       "      <td>0</td>\n",
       "    </tr>\n",
       "  </tbody>\n",
       "</table>\n",
       "<p>1869 rows × 3 columns</p>\n",
       "</div>"
      ],
      "text/plain": [
       "      business_id  paid_late  number_of_defaults\n",
       "0            2055          1                   0\n",
       "1            2229          9                   3\n",
       "2            3066          1                   1\n",
       "3            5104          0                   0\n",
       "4            5467          0                   0\n",
       "...           ...        ...                 ...\n",
       "1864       696674          0                   0\n",
       "1865       699641          0                   0\n",
       "1866       700419          0                   0\n",
       "1867       702157          0                   0\n",
       "1868       708308          0                   0\n",
       "\n",
       "[1869 rows x 3 columns]"
      ]
     },
     "execution_count": 34,
     "metadata": {},
     "output_type": "execute_result"
    }
   ],
   "source": [
    "df_paid_late_default"
   ]
  },
  {
   "cell_type": "markdown",
   "id": "d8edad62",
   "metadata": {},
   "source": [
    "* The table above shows that some businesses were given loans even after a failure to pay 15dpd (e.g. business_id 2229)"
   ]
  },
  {
   "cell_type": "code",
   "execution_count": 35,
   "id": "80cf16f0",
   "metadata": {},
   "outputs": [],
   "source": [
    "# The payment information is merged to the training data\n",
    "# This allows for the extraction of payments pattern\n",
    "payment_loanid=payment.merge(train_s,on='loan_id')"
   ]
  },
  {
   "cell_type": "code",
   "execution_count": 36,
   "id": "07683436",
   "metadata": {},
   "outputs": [
    {
     "name": "stderr",
     "output_type": "stream",
     "text": [
      "C:\\Users\\oluwatobi.afolabi\\AppData\\Local\\Temp\\ipykernel_11612\\1032712981.py:17: DeprecationWarning: DataFrameGroupBy.apply operated on the grouping columns. This behavior is deprecated, and in a future version of pandas the grouping columns will be excluded from the operation. Either pass `include_groups=False` to exclude the groupings or explicitly select the grouping columns after groupby to silence this warning.\n",
      "  result = grouped_df.groupby('business_id').apply(number_of_payments)\n"
     ]
    }
   ],
   "source": [
    "def number_of_payments(group):\n",
    "    '''\n",
    "    The function extracts the number of payment made for the last three loans\n",
    "    '''\n",
    "    # Find the highest loan_number for this business_id\n",
    "    highest_loan_number = group['loan_number'].max()\n",
    "    # Filter to include only up to three loans before the highest loan_number\n",
    "    # (We start with loan_number preceding the highest)\n",
    "    recent_loans = group[group['loan_number'] < highest_loan_number].tail(4) \n",
    "    number_of_payment = recent_loans['count']\n",
    "    \n",
    "    return number_of_payment.tolist() \n",
    "\n",
    "# Step 3: Apply this logic to each group of 'business_id'\n",
    "check = payment_loanid.groupby(['business_id','loan_number']).size().reset_index(name='count')\n",
    "grouped_df = check.groupby('business_id').tail(5)\n",
    "result = grouped_df.groupby('business_id').apply(number_of_payments)"
   ]
  },
  {
   "cell_type": "code",
   "execution_count": 37,
   "id": "e6b16ada",
   "metadata": {},
   "outputs": [
    {
     "data": {
      "text/plain": [
       "business_id\n",
       "2055      [3, 5, 5, 5]\n",
       "2229      [6, 4, 6, 4]\n",
       "3066      [4, 2, 1, 5]\n",
       "5104      [1, 1, 1, 1]\n",
       "5467      [3, 2, 3, 6]\n",
       "              ...     \n",
       "696674              []\n",
       "699641              []\n",
       "700419              []\n",
       "702157              []\n",
       "708308              []\n",
       "Length: 1869, dtype: object"
      ]
     },
     "execution_count": 37,
     "metadata": {},
     "output_type": "execute_result"
    }
   ],
   "source": [
    "result"
   ]
  },
  {
   "cell_type": "code",
   "execution_count": 38,
   "id": "0a702625",
   "metadata": {},
   "outputs": [],
   "source": [
    "payment_count_0,payment_count_1,payment_count_2,payment_count_3=[], [], [], []\n",
    "\n",
    "for i in result.keys():\n",
    "    \n",
    "    # Ensure the sublist has exactly 4 elements by padding with zeros\n",
    "   \n",
    "    padded_sublist = result[i] + [0] * (4 - len(result[i]))\n",
    "\n",
    "    # Append each element to its respective new list\n",
    "\n",
    "    payment_count_3.append(padded_sublist[0])\n",
    "    payment_count_2.append(padded_sublist[1])\n",
    "    payment_count_1.append(padded_sublist[2])\n",
    "    payment_count_0.append(padded_sublist[3])\n"
   ]
  },
  {
   "cell_type": "code",
   "execution_count": 39,
   "id": "136e9e3d",
   "metadata": {},
   "outputs": [
    {
     "name": "stderr",
     "output_type": "stream",
     "text": [
      "C:\\Users\\oluwatobi.afolabi\\AppData\\Local\\Temp\\ipykernel_11612\\196948249.py:15: DeprecationWarning: DataFrameGroupBy.apply operated on the grouping columns. This behavior is deprecated, and in a future version of pandas the grouping columns will be excluded from the operation. Either pass `include_groups=False` to exclude the groupings or explicitly select the grouping columns after groupby to silence this warning.\n",
      "  target_variable = train_s.groupby('business_id').apply(create_target_variable)\n"
     ]
    }
   ],
   "source": [
    "\n",
    "def create_target_variable(group):\n",
    "    '''\n",
    "    This function creates the target feature,\n",
    "    The target is to predict if there will be yield loss\n",
    "    in the next loan \n",
    "    '''\n",
    "    # Find the highest loan_number for this business_id\n",
    "    highest_loan_number = group['loan_number'].max()\n",
    "    # Filter for the highest loan number\n",
    "    recent_loans = group[group['loan_number'] == highest_loan_number]\n",
    "    target_variable=recent_loans[['business_id','loan_number','defaulted']].reset_index(drop=True)\n",
    "    return target_variable\n",
    "\n",
    "\n",
    "target_variable = train_s.groupby('business_id').apply(create_target_variable)\n",
    "target_variable=target_variable[['business_id','loan_number','defaulted']].reset_index(drop=True)"
   ]
  },
  {
   "cell_type": "code",
   "execution_count": 40,
   "id": "7ffd961d",
   "metadata": {},
   "outputs": [],
   "source": [
    "def list_to_dataframe(lists):\n",
    "    '''\n",
    "    Merges all the engineered features into a dataframe\n",
    "    '''\n",
    "    df=pd.DataFrame()\n",
    "    for i in lists:\n",
    "        j=pd.DataFrame(i)\n",
    "        df=pd.concat([df,j],axis=1)\n",
    "    df.columns=['principal_change_0','principal_change_1','principal_change_2',\n",
    "                'principal_change_3','payment_count_0','payment_count_1','payment_count_2','payment_count_3']\n",
    "    return df"
   ]
  },
  {
   "cell_type": "code",
   "execution_count": 41,
   "id": "26aac730",
   "metadata": {},
   "outputs": [],
   "source": [
    "lists=[principal_change_0,principal_change_1,principal_change_2,principal_change_3,\n",
    "       payment_count_0,payment_count_1,payment_count_2,payment_count_3\n",
    "       \n",
    "       ]\n",
    "df_list=list_to_dataframe(lists)"
   ]
  },
  {
   "cell_type": "code",
   "execution_count": 42,
   "id": "1340c0f0",
   "metadata": {},
   "outputs": [],
   "source": [
    "new_df=pd.concat([df_list,target_variable],axis=1)"
   ]
  },
  {
   "cell_type": "code",
   "execution_count": 43,
   "id": "ea6e11c2",
   "metadata": {},
   "outputs": [
    {
     "data": {
      "text/html": [
       "<div>\n",
       "<style scoped>\n",
       "    .dataframe tbody tr th:only-of-type {\n",
       "        vertical-align: middle;\n",
       "    }\n",
       "\n",
       "    .dataframe tbody tr th {\n",
       "        vertical-align: top;\n",
       "    }\n",
       "\n",
       "    .dataframe thead th {\n",
       "        text-align: right;\n",
       "    }\n",
       "</style>\n",
       "<table border=\"1\" class=\"dataframe\">\n",
       "  <thead>\n",
       "    <tr style=\"text-align: right;\">\n",
       "      <th></th>\n",
       "      <th>principal_change_0</th>\n",
       "      <th>principal_change_1</th>\n",
       "      <th>principal_change_2</th>\n",
       "      <th>principal_change_3</th>\n",
       "      <th>payment_count_0</th>\n",
       "      <th>payment_count_1</th>\n",
       "      <th>payment_count_2</th>\n",
       "      <th>payment_count_3</th>\n",
       "      <th>business_id</th>\n",
       "      <th>loan_number</th>\n",
       "      <th>defaulted</th>\n",
       "    </tr>\n",
       "  </thead>\n",
       "  <tbody>\n",
       "    <tr>\n",
       "      <th>1</th>\n",
       "      <td>-26.226667</td>\n",
       "      <td>0.000000</td>\n",
       "      <td>0.000000</td>\n",
       "      <td>0.000000</td>\n",
       "      <td>4</td>\n",
       "      <td>6</td>\n",
       "      <td>4</td>\n",
       "      <td>6</td>\n",
       "      <td>2229</td>\n",
       "      <td>12.0</td>\n",
       "      <td>True</td>\n",
       "    </tr>\n",
       "    <tr>\n",
       "      <th>2</th>\n",
       "      <td>52.568232</td>\n",
       "      <td>73.194363</td>\n",
       "      <td>-0.467563</td>\n",
       "      <td>20.365811</td>\n",
       "      <td>5</td>\n",
       "      <td>1</td>\n",
       "      <td>2</td>\n",
       "      <td>4</td>\n",
       "      <td>3066</td>\n",
       "      <td>9.0</td>\n",
       "      <td>True</td>\n",
       "    </tr>\n",
       "    <tr>\n",
       "      <th>11</th>\n",
       "      <td>10.000000</td>\n",
       "      <td>0.000000</td>\n",
       "      <td>50.000000</td>\n",
       "      <td>25.000000</td>\n",
       "      <td>3</td>\n",
       "      <td>5</td>\n",
       "      <td>1</td>\n",
       "      <td>2</td>\n",
       "      <td>12457</td>\n",
       "      <td>7.0</td>\n",
       "      <td>True</td>\n",
       "    </tr>\n",
       "    <tr>\n",
       "      <th>23</th>\n",
       "      <td>0.000000</td>\n",
       "      <td>50.000000</td>\n",
       "      <td>33.333333</td>\n",
       "      <td>36.363636</td>\n",
       "      <td>0</td>\n",
       "      <td>2</td>\n",
       "      <td>1</td>\n",
       "      <td>2</td>\n",
       "      <td>21904</td>\n",
       "      <td>4.0</td>\n",
       "      <td>True</td>\n",
       "    </tr>\n",
       "    <tr>\n",
       "      <th>32</th>\n",
       "      <td>2.000374</td>\n",
       "      <td>6.980000</td>\n",
       "      <td>11.141984</td>\n",
       "      <td>12.468750</td>\n",
       "      <td>1</td>\n",
       "      <td>1</td>\n",
       "      <td>1</td>\n",
       "      <td>2</td>\n",
       "      <td>26264</td>\n",
       "      <td>26.0</td>\n",
       "      <td>True</td>\n",
       "    </tr>\n",
       "    <tr>\n",
       "      <th>49</th>\n",
       "      <td>3.001679</td>\n",
       "      <td>1.991008</td>\n",
       "      <td>9.996468</td>\n",
       "      <td>9.998705</td>\n",
       "      <td>2</td>\n",
       "      <td>3</td>\n",
       "      <td>2</td>\n",
       "      <td>1</td>\n",
       "      <td>34984</td>\n",
       "      <td>17.0</td>\n",
       "      <td>True</td>\n",
       "    </tr>\n",
       "    <tr>\n",
       "      <th>58</th>\n",
       "      <td>5.001670</td>\n",
       "      <td>4.998442</td>\n",
       "      <td>4.870077</td>\n",
       "      <td>5.002145</td>\n",
       "      <td>1</td>\n",
       "      <td>1</td>\n",
       "      <td>1</td>\n",
       "      <td>1</td>\n",
       "      <td>39492</td>\n",
       "      <td>16.0</td>\n",
       "      <td>True</td>\n",
       "    </tr>\n",
       "    <tr>\n",
       "      <th>85</th>\n",
       "      <td>1.998673</td>\n",
       "      <td>2.013536</td>\n",
       "      <td>1.984469</td>\n",
       "      <td>1.997712</td>\n",
       "      <td>9</td>\n",
       "      <td>9</td>\n",
       "      <td>6</td>\n",
       "      <td>9</td>\n",
       "      <td>53068</td>\n",
       "      <td>23.0</td>\n",
       "      <td>True</td>\n",
       "    </tr>\n",
       "    <tr>\n",
       "      <th>230</th>\n",
       "      <td>9.481060</td>\n",
       "      <td>9.995183</td>\n",
       "      <td>9.986755</td>\n",
       "      <td>9.994172</td>\n",
       "      <td>17</td>\n",
       "      <td>19</td>\n",
       "      <td>19</td>\n",
       "      <td>16</td>\n",
       "      <td>135606</td>\n",
       "      <td>7.0</td>\n",
       "      <td>True</td>\n",
       "    </tr>\n",
       "    <tr>\n",
       "      <th>237</th>\n",
       "      <td>10.007064</td>\n",
       "      <td>8.066158</td>\n",
       "      <td>11.742963</td>\n",
       "      <td>18.817568</td>\n",
       "      <td>1</td>\n",
       "      <td>1</td>\n",
       "      <td>1</td>\n",
       "      <td>1</td>\n",
       "      <td>139302</td>\n",
       "      <td>7.0</td>\n",
       "      <td>True</td>\n",
       "    </tr>\n",
       "    <tr>\n",
       "      <th>298</th>\n",
       "      <td>10.006512</td>\n",
       "      <td>27.972222</td>\n",
       "      <td>-5.437352</td>\n",
       "      <td>9.997111</td>\n",
       "      <td>1</td>\n",
       "      <td>1</td>\n",
       "      <td>1</td>\n",
       "      <td>1</td>\n",
       "      <td>167160</td>\n",
       "      <td>8.0</td>\n",
       "      <td>True</td>\n",
       "    </tr>\n",
       "    <tr>\n",
       "      <th>299</th>\n",
       "      <td>4.868813</td>\n",
       "      <td>4.864558</td>\n",
       "      <td>8.912573</td>\n",
       "      <td>10.008496</td>\n",
       "      <td>2</td>\n",
       "      <td>1</td>\n",
       "      <td>3</td>\n",
       "      <td>4</td>\n",
       "      <td>167669</td>\n",
       "      <td>9.0</td>\n",
       "      <td>True</td>\n",
       "    </tr>\n",
       "    <tr>\n",
       "      <th>405</th>\n",
       "      <td>37.637638</td>\n",
       "      <td>1.782985</td>\n",
       "      <td>1.329204</td>\n",
       "      <td>2.000790</td>\n",
       "      <td>2</td>\n",
       "      <td>1</td>\n",
       "      <td>2</td>\n",
       "      <td>2</td>\n",
       "      <td>217205</td>\n",
       "      <td>23.0</td>\n",
       "      <td>True</td>\n",
       "    </tr>\n",
       "    <tr>\n",
       "      <th>436</th>\n",
       "      <td>0.000000</td>\n",
       "      <td>0.000000</td>\n",
       "      <td>0.000000</td>\n",
       "      <td>10.000000</td>\n",
       "      <td>0</td>\n",
       "      <td>0</td>\n",
       "      <td>0</td>\n",
       "      <td>2</td>\n",
       "      <td>231842</td>\n",
       "      <td>2.0</td>\n",
       "      <td>True</td>\n",
       "    </tr>\n",
       "    <tr>\n",
       "      <th>454</th>\n",
       "      <td>0.000000</td>\n",
       "      <td>0.000000</td>\n",
       "      <td>10.000000</td>\n",
       "      <td>10.000000</td>\n",
       "      <td>0</td>\n",
       "      <td>0</td>\n",
       "      <td>1</td>\n",
       "      <td>1</td>\n",
       "      <td>243602</td>\n",
       "      <td>3.0</td>\n",
       "      <td>True</td>\n",
       "    </tr>\n",
       "    <tr>\n",
       "      <th>590</th>\n",
       "      <td>9.998480</td>\n",
       "      <td>9.994986</td>\n",
       "      <td>10.001839</td>\n",
       "      <td>9.194941</td>\n",
       "      <td>1</td>\n",
       "      <td>1</td>\n",
       "      <td>1</td>\n",
       "      <td>1</td>\n",
       "      <td>312482</td>\n",
       "      <td>18.0</td>\n",
       "      <td>True</td>\n",
       "    </tr>\n",
       "    <tr>\n",
       "      <th>745</th>\n",
       "      <td>0.000000</td>\n",
       "      <td>0.000000</td>\n",
       "      <td>9.996085</td>\n",
       "      <td>9.471429</td>\n",
       "      <td>0</td>\n",
       "      <td>0</td>\n",
       "      <td>8</td>\n",
       "      <td>7</td>\n",
       "      <td>372011</td>\n",
       "      <td>3.0</td>\n",
       "      <td>True</td>\n",
       "    </tr>\n",
       "  </tbody>\n",
       "</table>\n",
       "</div>"
      ],
      "text/plain": [
       "     principal_change_0  principal_change_1  principal_change_2  \\\n",
       "1            -26.226667            0.000000            0.000000   \n",
       "2             52.568232           73.194363           -0.467563   \n",
       "11            10.000000            0.000000           50.000000   \n",
       "23             0.000000           50.000000           33.333333   \n",
       "32             2.000374            6.980000           11.141984   \n",
       "49             3.001679            1.991008            9.996468   \n",
       "58             5.001670            4.998442            4.870077   \n",
       "85             1.998673            2.013536            1.984469   \n",
       "230            9.481060            9.995183            9.986755   \n",
       "237           10.007064            8.066158           11.742963   \n",
       "298           10.006512           27.972222           -5.437352   \n",
       "299            4.868813            4.864558            8.912573   \n",
       "405           37.637638            1.782985            1.329204   \n",
       "436            0.000000            0.000000            0.000000   \n",
       "454            0.000000            0.000000           10.000000   \n",
       "590            9.998480            9.994986           10.001839   \n",
       "745            0.000000            0.000000            9.996085   \n",
       "\n",
       "     principal_change_3  payment_count_0  payment_count_1  payment_count_2  \\\n",
       "1              0.000000                4                6                4   \n",
       "2             20.365811                5                1                2   \n",
       "11            25.000000                3                5                1   \n",
       "23            36.363636                0                2                1   \n",
       "32            12.468750                1                1                1   \n",
       "49             9.998705                2                3                2   \n",
       "58             5.002145                1                1                1   \n",
       "85             1.997712                9                9                6   \n",
       "230            9.994172               17               19               19   \n",
       "237           18.817568                1                1                1   \n",
       "298            9.997111                1                1                1   \n",
       "299           10.008496                2                1                3   \n",
       "405            2.000790                2                1                2   \n",
       "436           10.000000                0                0                0   \n",
       "454           10.000000                0                0                1   \n",
       "590            9.194941                1                1                1   \n",
       "745            9.471429                0                0                8   \n",
       "\n",
       "     payment_count_3  business_id  loan_number  defaulted  \n",
       "1                  6         2229         12.0       True  \n",
       "2                  4         3066          9.0       True  \n",
       "11                 2        12457          7.0       True  \n",
       "23                 2        21904          4.0       True  \n",
       "32                 2        26264         26.0       True  \n",
       "49                 1        34984         17.0       True  \n",
       "58                 1        39492         16.0       True  \n",
       "85                 9        53068         23.0       True  \n",
       "230               16       135606          7.0       True  \n",
       "237                1       139302          7.0       True  \n",
       "298                1       167160          8.0       True  \n",
       "299                4       167669          9.0       True  \n",
       "405                2       217205         23.0       True  \n",
       "436                2       231842          2.0       True  \n",
       "454                1       243602          3.0       True  \n",
       "590                1       312482         18.0       True  \n",
       "745                7       372011          3.0       True  "
      ]
     },
     "execution_count": 43,
     "metadata": {},
     "output_type": "execute_result"
    }
   ],
   "source": [
    "new_df[new_df['defaulted']==True]"
   ]
  },
  {
   "cell_type": "markdown",
   "id": "f99547cb",
   "metadata": {},
   "source": [
    "### 3. Model Building and Evaluation"
   ]
  },
  {
   "cell_type": "code",
   "execution_count": 44,
   "id": "f7280ad2",
   "metadata": {},
   "outputs": [],
   "source": [
    "X=new_df.drop(['business_id','defaulted'],axis=1)\n",
    "y=new_df['defaulted']"
   ]
  },
  {
   "cell_type": "markdown",
   "id": "fb30fb9f",
   "metadata": {},
   "source": [
    "* One of the requirements of the task is that the approach must be able to allow for the addition of new input.\n",
    "* Hence, the imputer will be employed to allow the addition of both numerical and non- numerical variables without breaking the code\n",
    "* Also, because of the severe class imbalance observed in the EDA (0.08 to 99.02), the Synthetic Minority Over-sampling TEchnique (SMOTE) is used"
   ]
  },
  {
   "cell_type": "code",
   "execution_count": 45,
   "id": "91d7ac70",
   "metadata": {},
   "outputs": [],
   "source": [
    "# Impute missing values\n",
    "imputer = SimpleImputer(strategy='mean')\n",
    "X_imputed = pd.DataFrame(imputer.fit_transform(X), columns=X.columns)\n",
    "\n",
    "# Handle imbalance with SMOTE\n",
    "smote = SMOTE(random_state=seed)\n",
    "\n",
    "# Define 3-Fold Cross-Validation\n",
    "cv = StratifiedKFold(n_splits=3, shuffle=True, random_state=seed)\n",
    "model = xgb.XGBClassifier(random_state=seed)\n"
   ]
  },
  {
   "cell_type": "code",
   "execution_count": 46,
   "id": "6f92a5dc",
   "metadata": {},
   "outputs": [],
   "source": [
    "def trainer(model,X,y,cv):\n",
    "    '''\n",
    "    The function trains and cross-validate the models\n",
    "    '''\n",
    "\n",
    "    cv_reports = []\n",
    "    roc_aucs = []\n",
    "    for fold, (train_idx, valid_idx) in enumerate(cv.split(X, y), 1):\n",
    "        X_fold_train = X_imputed.iloc[train_idx]\n",
    "        X_fold_valid = X_imputed.iloc[valid_idx]\n",
    "        y_fold_train = y.iloc[train_idx]\n",
    "        y_fold_valid = y.iloc[valid_idx]\n",
    "        # Apply SMOTE only on the training data of this fold\n",
    "        X_fold_train_smote, y_fold_train_smote = smote.fit_resample(X_fold_train, y_fold_train)\n",
    "        \n",
    "        # Train the model on the SMOTE-balanced fold\n",
    "        model.fit(X_fold_train_smote, y_fold_train_smote)\n",
    "        \n",
    "        # Predict on the validation fold\n",
    "        y_fold_pred = model.predict(X_fold_valid)\n",
    "        y_fold_pred_prob = model.predict_proba(X_fold_valid)[:, 1]\n",
    "        \n",
    "        # Calculate and store the classification report for this fold\n",
    "        report = classification_report(y_fold_valid, y_fold_pred, output_dict=True)\n",
    "        cv_reports.append(report)\n",
    "        \n",
    "        # Calculate and store the ROC AUC score for this fold\n",
    "        roc_auc = roc_auc_score(y_fold_valid, y_fold_pred_prob)\n",
    "        roc_aucs.append(roc_auc)\n",
    "        \n",
    "        # Print classification report for the current fold\n",
    "        print(f\"Fold {fold} Classification Report:\")\n",
    "        print(classification_report(y_fold_valid, y_fold_pred))\n",
    "        print(f\"Fold {fold} ROC AUC: {roc_auc:.4f}\")\n",
    "        print(\"-\" * 50)\n",
    "\n",
    "    # Summary of CV results\n",
    "    print(f\"Mean ROC AUC across folds: {np.mean(roc_aucs):.4f}\")\n"
   ]
  },
  {
   "cell_type": "code",
   "execution_count": 47,
   "id": "13ab5031",
   "metadata": {},
   "outputs": [
    {
     "name": "stdout",
     "output_type": "stream",
     "text": [
      "Fold 1 Classification Report:\n",
      "              precision    recall  f1-score   support\n",
      "\n",
      "       False       0.99      0.99      0.99       618\n",
      "        True       0.00      0.00      0.00         5\n",
      "\n",
      "    accuracy                           0.98       623\n",
      "   macro avg       0.50      0.49      0.50       623\n",
      "weighted avg       0.98      0.98      0.98       623\n",
      "\n",
      "Fold 1 ROC AUC: 0.5990\n",
      "--------------------------------------------------\n",
      "Fold 2 Classification Report:\n",
      "              precision    recall  f1-score   support\n",
      "\n",
      "       False       0.99      0.99      0.99       617\n",
      "        True       0.00      0.00      0.00         6\n",
      "\n",
      "    accuracy                           0.98       623\n",
      "   macro avg       0.50      0.49      0.49       623\n",
      "weighted avg       0.98      0.98      0.98       623\n",
      "\n",
      "Fold 2 ROC AUC: 0.3941\n",
      "--------------------------------------------------\n",
      "Fold 3 Classification Report:\n",
      "              precision    recall  f1-score   support\n",
      "\n",
      "       False       0.99      1.00      0.99       617\n",
      "        True       0.00      0.00      0.00         6\n",
      "\n",
      "    accuracy                           0.99       623\n",
      "   macro avg       0.50      0.50      0.50       623\n",
      "weighted avg       0.98      0.99      0.98       623\n",
      "\n",
      "Fold 3 ROC AUC: 0.4692\n",
      "--------------------------------------------------\n",
      "Mean ROC AUC across folds: 0.4874\n"
     ]
    }
   ],
   "source": [
    "trainer(model,X_imputed,y,cv)"
   ]
  },
  {
   "cell_type": "markdown",
   "id": "54705c4f",
   "metadata": {},
   "source": [
    "* The support for the True class is very small compared to the False class (617 to 6). Hence, the model struggles to predict the True class"
   ]
  },
  {
   "cell_type": "code",
   "execution_count": 48,
   "id": "6a6c12fb",
   "metadata": {},
   "outputs": [
    {
     "data": {
      "image/png": "[encoded data removed]",
      "text/plain": [
       "<Figure size 800x510 with 2 Axes>"
      ]
     },
     "metadata": {},
     "output_type": "display_data"
    }
   ],
   "source": [
    "# A view at the feature importance\n",
    "explainer = shap.TreeExplainer(model)\n",
    "shap_values = explainer.shap_values(X_imputed)\n",
    "\n",
    "# Plot summary of feature importances\n",
    "shap.summary_plot(shap_values, X_imputed,)"
   ]
  },
  {
   "cell_type": "code",
   "execution_count": 49,
   "id": "11f9e7ea",
   "metadata": {},
   "outputs": [
    {
     "data": {
      "text/plain": [
       "<Axes: title={'center': 'Feature importance'}, xlabel='F score', ylabel='Features'>"
      ]
     },
     "execution_count": 49,
     "metadata": {},
     "output_type": "execute_result"
    },
    {
     "data": {
      "image/png": "[encoded data removed]",
      "text/plain": [
       "<Figure size 640x480 with 1 Axes>"
      ]
     },
     "metadata": {},
     "output_type": "display_data"
    }
   ],
   "source": [
    "xgb.plot_importance(model, importance_type='weight')"
   ]
  },
  {
   "cell_type": "markdown",
   "id": "b8ec3fde",
   "metadata": {},
   "source": [
    "##### 3a. Hyper-parameters tunning using optuna"
   ]
  },
  {
   "cell_type": "code",
   "execution_count": 50,
   "id": "7fdf72fb",
   "metadata": {},
   "outputs": [],
   "source": [
    "def objective(trial):\n",
    "    '''\n",
    "    The function defines Objective Function for Optuna\n",
    "    '''\n",
    "    seed_everything(seed) # enforce reproducibility\n",
    "    # XGBoost hyperparameters to be tuned\n",
    "    params = {\n",
    "        'objective': 'binary:logistic',\n",
    "        'eval_metric': 'logloss',\n",
    "        'use_label_encoder': False,\n",
    "        'booster': 'gbtree',\n",
    "        'lambda': trial.suggest_loguniform('lambda', 1e-3, 10.0),\n",
    "        'alpha': trial.suggest_loguniform('alpha', 1e-3, 10.0),\n",
    "        'learning_rate': trial.suggest_loguniform('learning_rate', 0.01, 0.2),\n",
    "        'n_estimators': trial.suggest_int('n_estimators', 100, 500),\n",
    "        'max_depth': trial.suggest_int('max_depth', 3, 9),\n",
    "        'min_child_weight': trial.suggest_int('min_child_weight', 1, 10),\n",
    "        'gamma': trial.suggest_loguniform('gamma', 1e-3, 10.0),\n",
    "        'subsample': trial.suggest_float('subsample', 0.5, 1.0),\n",
    "        'colsample_bytree': trial.suggest_float('colsample_bytree', 0.5, 1.0),\n",
    "    }\n",
    "    \n",
    "    # Cross-validation\n",
    "    xgb_model = xgb.XGBClassifier(**params,random_state=seed)\n",
    "    \n",
    "    scores = cross_val_score(xgb_model, X_imputed, y, cv=cv, scoring='roc_auc', n_jobs=-1)\n",
    "    print(scores)\n",
    "    return scores.mean()  # Return the mean AUC score"
   ]
  },
  {
   "cell_type": "code",
   "execution_count": 51,
   "id": "f5cb662b",
   "metadata": {},
   "outputs": [
    {
     "name": "stderr",
     "output_type": "stream",
     "text": [
      "[I 2024-09-18 10:04:37,602] A new study created in memory with name: no-name-9f4578b8-8422-47b7-9514-26cb73b14f4f\n",
      "C:\\Users\\oluwatobi.afolabi\\AppData\\Local\\Temp\\ipykernel_11612\\4087342044.py:12: FutureWarning: suggest_loguniform has been deprecated in v3.0.0. This feature will be removed in v6.0.0. See https://github.com/optuna/optuna/releases/tag/v3.0.0. Use suggest_float(..., log=True) instead.\n",
      "  'lambda': trial.suggest_loguniform('lambda', 1e-3, 10.0),\n",
      "C:\\Users\\oluwatobi.afolabi\\AppData\\Local\\Temp\\ipykernel_11612\\4087342044.py:13: FutureWarning: suggest_loguniform has been deprecated in v3.0.0. This feature will be removed in v6.0.0. See https://github.com/optuna/optuna/releases/tag/v3.0.0. Use suggest_float(..., log=True) instead.\n",
      "  'alpha': trial.suggest_loguniform('alpha', 1e-3, 10.0),\n",
      "C:\\Users\\oluwatobi.afolabi\\AppData\\Local\\Temp\\ipykernel_11612\\4087342044.py:14: FutureWarning: suggest_loguniform has been deprecated in v3.0.0. This feature will be removed in v6.0.0. See https://github.com/optuna/optuna/releases/tag/v3.0.0. Use suggest_float(..., log=True) instead.\n",
      "  'learning_rate': trial.suggest_loguniform('learning_rate', 0.01, 0.2),\n",
      "C:\\Users\\oluwatobi.afolabi\\AppData\\Local\\Temp\\ipykernel_11612\\4087342044.py:18: FutureWarning: suggest_loguniform has been deprecated in v3.0.0. This feature will be removed in v6.0.0. See https://github.com/optuna/optuna/releases/tag/v3.0.0. Use suggest_float(..., log=True) instead.\n",
      "  'gamma': trial.suggest_loguniform('gamma', 1e-3, 10.0),\n",
      "[I 2024-09-18 10:04:39,863] Trial 0 finished with value: 0.46919840408141145 and parameters: {'lambda': 0.03148911647956861, 'alpha': 6.351221010640703, 'learning_rate': 0.08960785365368121, 'n_estimators': 340, 'max_depth': 4, 'min_child_weight': 2, 'gamma': 0.0017073967431528124, 'subsample': 0.9330880728874675, 'colsample_bytree': 0.8005575058716043}. Best is trial 0 with value: 0.46919840408141145.\n"
     ]
    },
    {
     "name": "stdout",
     "output_type": "stream",
     "text": [
      "[0.51375405 0.41518098 0.47866018]\n"
     ]
    },
    {
     "name": "stderr",
     "output_type": "stream",
     "text": [
      "C:\\Users\\oluwatobi.afolabi\\AppData\\Local\\Temp\\ipykernel_11612\\4087342044.py:12: FutureWarning: suggest_loguniform has been deprecated in v3.0.0. This feature will be removed in v6.0.0. See https://github.com/optuna/optuna/releases/tag/v3.0.0. Use suggest_float(..., log=True) instead.\n",
      "  'lambda': trial.suggest_loguniform('lambda', 1e-3, 10.0),\n",
      "C:\\Users\\oluwatobi.afolabi\\AppData\\Local\\Temp\\ipykernel_11612\\4087342044.py:13: FutureWarning: suggest_loguniform has been deprecated in v3.0.0. This feature will be removed in v6.0.0. See https://github.com/optuna/optuna/releases/tag/v3.0.0. Use suggest_float(..., log=True) instead.\n",
      "  'alpha': trial.suggest_loguniform('alpha', 1e-3, 10.0),\n",
      "C:\\Users\\oluwatobi.afolabi\\AppData\\Local\\Temp\\ipykernel_11612\\4087342044.py:14: FutureWarning: suggest_loguniform has been deprecated in v3.0.0. This feature will be removed in v6.0.0. See https://github.com/optuna/optuna/releases/tag/v3.0.0. Use suggest_float(..., log=True) instead.\n",
      "  'learning_rate': trial.suggest_loguniform('learning_rate', 0.01, 0.2),\n",
      "C:\\Users\\oluwatobi.afolabi\\AppData\\Local\\Temp\\ipykernel_11612\\4087342044.py:18: FutureWarning: suggest_loguniform has been deprecated in v3.0.0. This feature will be removed in v6.0.0. See https://github.com/optuna/optuna/releases/tag/v3.0.0. Use suggest_float(..., log=True) instead.\n",
      "  'gamma': trial.suggest_loguniform('gamma', 1e-3, 10.0),\n",
      "[I 2024-09-18 10:04:41,509] Trial 1 finished with value: 0.33038320928598025 and parameters: {'lambda': 0.679657809075816, 'alpha': 0.0012087541473056963, 'learning_rate': 0.18276027831785724, 'n_estimators': 433, 'max_depth': 4, 'min_child_weight': 2, 'gamma': 0.00541524411940254, 'subsample': 0.6521211214797689, 'colsample_bytree': 0.762378215816119}. Best is trial 0 with value: 0.46919840408141145.\n"
     ]
    },
    {
     "name": "stdout",
     "output_type": "stream",
     "text": [
      "[0.27734628 0.32603998 0.38776337]\n"
     ]
    },
    {
     "name": "stderr",
     "output_type": "stream",
     "text": [
      "C:\\Users\\oluwatobi.afolabi\\AppData\\Local\\Temp\\ipykernel_11612\\4087342044.py:12: FutureWarning: suggest_loguniform has been deprecated in v3.0.0. This feature will be removed in v6.0.0. See https://github.com/optuna/optuna/releases/tag/v3.0.0. Use suggest_float(..., log=True) instead.\n",
      "  'lambda': trial.suggest_loguniform('lambda', 1e-3, 10.0),\n",
      "C:\\Users\\oluwatobi.afolabi\\AppData\\Local\\Temp\\ipykernel_11612\\4087342044.py:13: FutureWarning: suggest_loguniform has been deprecated in v3.0.0. This feature will be removed in v6.0.0. See https://github.com/optuna/optuna/releases/tag/v3.0.0. Use suggest_float(..., log=True) instead.\n",
      "  'alpha': trial.suggest_loguniform('alpha', 1e-3, 10.0),\n",
      "C:\\Users\\oluwatobi.afolabi\\AppData\\Local\\Temp\\ipykernel_11612\\4087342044.py:14: FutureWarning: suggest_loguniform has been deprecated in v3.0.0. This feature will be removed in v6.0.0. See https://github.com/optuna/optuna/releases/tag/v3.0.0. Use suggest_float(..., log=True) instead.\n",
      "  'learning_rate': trial.suggest_loguniform('learning_rate', 0.01, 0.2),\n",
      "C:\\Users\\oluwatobi.afolabi\\AppData\\Local\\Temp\\ipykernel_11612\\4087342044.py:18: FutureWarning: suggest_loguniform has been deprecated in v3.0.0. This feature will be removed in v6.0.0. See https://github.com/optuna/optuna/releases/tag/v3.0.0. Use suggest_float(..., log=True) instead.\n",
      "  'gamma': trial.suggest_loguniform('gamma', 1e-3, 10.0),\n",
      "[I 2024-09-18 10:04:43,116] Trial 2 finished with value: 0.44473213989114607 and parameters: {'lambda': 0.05342937261279776, 'alpha': 0.014618962793704957, 'learning_rate': 0.06252287916406217, 'n_estimators': 155, 'max_depth': 5, 'min_child_weight': 4, 'gamma': 0.06672367170464207, 'subsample': 0.8925879806965068, 'colsample_bytree': 0.5998368910791798}. Best is trial 0 with value: 0.46919840408141145.\n"
     ]
    },
    {
     "name": "stdout",
     "output_type": "stream",
     "text": [
      "[0.51747573 0.44421934 0.37250135]\n"
     ]
    },
    {
     "name": "stderr",
     "output_type": "stream",
     "text": [
      "C:\\Users\\oluwatobi.afolabi\\AppData\\Local\\Temp\\ipykernel_11612\\4087342044.py:12: FutureWarning: suggest_loguniform has been deprecated in v3.0.0. This feature will be removed in v6.0.0. See https://github.com/optuna/optuna/releases/tag/v3.0.0. Use suggest_float(..., log=True) instead.\n",
      "  'lambda': trial.suggest_loguniform('lambda', 1e-3, 10.0),\n",
      "C:\\Users\\oluwatobi.afolabi\\AppData\\Local\\Temp\\ipykernel_11612\\4087342044.py:13: FutureWarning: suggest_loguniform has been deprecated in v3.0.0. This feature will be removed in v6.0.0. See https://github.com/optuna/optuna/releases/tag/v3.0.0. Use suggest_float(..., log=True) instead.\n",
      "  'alpha': trial.suggest_loguniform('alpha', 1e-3, 10.0),\n",
      "C:\\Users\\oluwatobi.afolabi\\AppData\\Local\\Temp\\ipykernel_11612\\4087342044.py:14: FutureWarning: suggest_loguniform has been deprecated in v3.0.0. This feature will be removed in v6.0.0. See https://github.com/optuna/optuna/releases/tag/v3.0.0. Use suggest_float(..., log=True) instead.\n",
      "  'learning_rate': trial.suggest_loguniform('learning_rate', 0.01, 0.2),\n",
      "C:\\Users\\oluwatobi.afolabi\\AppData\\Local\\Temp\\ipykernel_11612\\4087342044.py:18: FutureWarning: suggest_loguniform has been deprecated in v3.0.0. This feature will be removed in v6.0.0. See https://github.com/optuna/optuna/releases/tag/v3.0.0. Use suggest_float(..., log=True) instead.\n",
      "  'gamma': trial.suggest_loguniform('gamma', 1e-3, 10.0),\n",
      "[I 2024-09-18 10:04:44,815] Trial 3 finished with value: 0.5 and parameters: {'lambda': 0.11400863701127326, 'alpha': 0.23423849847112907, 'learning_rate': 0.011492999300221412, 'n_estimators': 343, 'max_depth': 4, 'min_child_weight': 1, 'gamma': 6.245139574743075, 'subsample': 0.9828160165372797, 'colsample_bytree': 0.9041986740582306}. Best is trial 3 with value: 0.5.\n"
     ]
    },
    {
     "name": "stdout",
     "output_type": "stream",
     "text": [
      "[0.5 0.5 0.5]\n"
     ]
    },
    {
     "name": "stderr",
     "output_type": "stream",
     "text": [
      "C:\\Users\\oluwatobi.afolabi\\AppData\\Local\\Temp\\ipykernel_11612\\4087342044.py:12: FutureWarning: suggest_loguniform has been deprecated in v3.0.0. This feature will be removed in v6.0.0. See https://github.com/optuna/optuna/releases/tag/v3.0.0. Use suggest_float(..., log=True) instead.\n",
      "  'lambda': trial.suggest_loguniform('lambda', 1e-3, 10.0),\n",
      "C:\\Users\\oluwatobi.afolabi\\AppData\\Local\\Temp\\ipykernel_11612\\4087342044.py:13: FutureWarning: suggest_loguniform has been deprecated in v3.0.0. This feature will be removed in v6.0.0. See https://github.com/optuna/optuna/releases/tag/v3.0.0. Use suggest_float(..., log=True) instead.\n",
      "  'alpha': trial.suggest_loguniform('alpha', 1e-3, 10.0),\n",
      "C:\\Users\\oluwatobi.afolabi\\AppData\\Local\\Temp\\ipykernel_11612\\4087342044.py:14: FutureWarning: suggest_loguniform has been deprecated in v3.0.0. This feature will be removed in v6.0.0. See https://github.com/optuna/optuna/releases/tag/v3.0.0. Use suggest_float(..., log=True) instead.\n",
      "  'learning_rate': trial.suggest_loguniform('learning_rate', 0.01, 0.2),\n",
      "C:\\Users\\oluwatobi.afolabi\\AppData\\Local\\Temp\\ipykernel_11612\\4087342044.py:18: FutureWarning: suggest_loguniform has been deprecated in v3.0.0. This feature will be removed in v6.0.0. See https://github.com/optuna/optuna/releases/tag/v3.0.0. Use suggest_float(..., log=True) instead.\n",
      "  'gamma': trial.suggest_loguniform('gamma', 1e-3, 10.0),\n",
      "[I 2024-09-18 10:04:46,932] Trial 4 finished with value: 0.4306245727403537 and parameters: {'lambda': 0.01653693718282442, 'alpha': 0.002458603276328005, 'learning_rate': 0.07766184280392888, 'n_estimators': 276, 'max_depth': 3, 'min_child_weight': 5, 'gamma': 0.0013726318898045872, 'subsample': 0.954660201039391, 'colsample_bytree': 0.6293899908000085}. Best is trial 3 with value: 0.5.\n"
     ]
    },
    {
     "name": "stdout",
     "output_type": "stream",
     "text": [
      "[0.51391586 0.35210697 0.42585089]\n"
     ]
    },
    {
     "name": "stderr",
     "output_type": "stream",
     "text": [
      "C:\\Users\\oluwatobi.afolabi\\AppData\\Local\\Temp\\ipykernel_11612\\4087342044.py:12: FutureWarning: suggest_loguniform has been deprecated in v3.0.0. This feature will be removed in v6.0.0. See https://github.com/optuna/optuna/releases/tag/v3.0.0. Use suggest_float(..., log=True) instead.\n",
      "  'lambda': trial.suggest_loguniform('lambda', 1e-3, 10.0),\n",
      "C:\\Users\\oluwatobi.afolabi\\AppData\\Local\\Temp\\ipykernel_11612\\4087342044.py:13: FutureWarning: suggest_loguniform has been deprecated in v3.0.0. This feature will be removed in v6.0.0. See https://github.com/optuna/optuna/releases/tag/v3.0.0. Use suggest_float(..., log=True) instead.\n",
      "  'alpha': trial.suggest_loguniform('alpha', 1e-3, 10.0),\n",
      "C:\\Users\\oluwatobi.afolabi\\AppData\\Local\\Temp\\ipykernel_11612\\4087342044.py:14: FutureWarning: suggest_loguniform has been deprecated in v3.0.0. This feature will be removed in v6.0.0. See https://github.com/optuna/optuna/releases/tag/v3.0.0. Use suggest_float(..., log=True) instead.\n",
      "  'learning_rate': trial.suggest_loguniform('learning_rate', 0.01, 0.2),\n",
      "C:\\Users\\oluwatobi.afolabi\\AppData\\Local\\Temp\\ipykernel_11612\\4087342044.py:18: FutureWarning: suggest_loguniform has been deprecated in v3.0.0. This feature will be removed in v6.0.0. See https://github.com/optuna/optuna/releases/tag/v3.0.0. Use suggest_float(..., log=True) instead.\n",
      "  'gamma': trial.suggest_loguniform('gamma', 1e-3, 10.0),\n",
      "[I 2024-09-18 10:04:51,626] Trial 5 finished with value: 0.39416514120767393 and parameters: {'lambda': 0.4467752817973907, 'alpha': 0.017654048052495083, 'learning_rate': 0.04749239763680407, 'n_estimators': 319, 'max_depth': 4, 'min_child_weight': 10, 'gamma': 1.2604664585649468, 'subsample': 0.9697494707820946, 'colsample_bytree': 0.9474136752138245}. Best is trial 3 with value: 0.5.\n",
      "C:\\Users\\oluwatobi.afolabi\\AppData\\Local\\Temp\\ipykernel_11612\\4087342044.py:12: FutureWarning: suggest_loguniform has been deprecated in v3.0.0. This feature will be removed in v6.0.0. See https://github.com/optuna/optuna/releases/tag/v3.0.0. Use suggest_float(..., log=True) instead.\n",
      "  'lambda': trial.suggest_loguniform('lambda', 1e-3, 10.0),\n",
      "C:\\Users\\oluwatobi.afolabi\\AppData\\Local\\Temp\\ipykernel_11612\\4087342044.py:13: FutureWarning: suggest_loguniform has been deprecated in v3.0.0. This feature will be removed in v6.0.0. See https://github.com/optuna/optuna/releases/tag/v3.0.0. Use suggest_float(..., log=True) instead.\n",
      "  'alpha': trial.suggest_loguniform('alpha', 1e-3, 10.0),\n",
      "C:\\Users\\oluwatobi.afolabi\\AppData\\Local\\Temp\\ipykernel_11612\\4087342044.py:14: FutureWarning: suggest_loguniform has been deprecated in v3.0.0. This feature will be removed in v6.0.0. See https://github.com/optuna/optuna/releases/tag/v3.0.0. Use suggest_float(..., log=True) instead.\n",
      "  'learning_rate': trial.suggest_loguniform('learning_rate', 0.01, 0.2),\n",
      "C:\\Users\\oluwatobi.afolabi\\AppData\\Local\\Temp\\ipykernel_11612\\4087342044.py:18: FutureWarning: suggest_loguniform has been deprecated in v3.0.0. This feature will be removed in v6.0.0. See https://github.com/optuna/optuna/releases/tag/v3.0.0. Use suggest_float(..., log=True) instead.\n",
      "  'gamma': trial.suggest_loguniform('gamma', 1e-3, 10.0),\n",
      "[I 2024-09-18 10:04:51,732] Trial 6 finished with value: 0.4702659631197341 and parameters: {'lambda': 0.24637685958997463, 'alpha': 4.869640941520899, 'learning_rate': 0.01303561122512888, 'n_estimators': 178, 'max_depth': 3, 'min_child_weight': 4, 'gamma': 0.03586816498627549, 'subsample': 0.6356745158869479, 'colsample_bytree': 0.9143687545759647}. Best is trial 3 with value: 0.5.\n",
      "C:\\Users\\oluwatobi.afolabi\\AppData\\Local\\Temp\\ipykernel_11612\\4087342044.py:12: FutureWarning: suggest_loguniform has been deprecated in v3.0.0. This feature will be removed in v6.0.0. See https://github.com/optuna/optuna/releases/tag/v3.0.0. Use suggest_float(..., log=True) instead.\n",
      "  'lambda': trial.suggest_loguniform('lambda', 1e-3, 10.0),\n",
      "C:\\Users\\oluwatobi.afolabi\\AppData\\Local\\Temp\\ipykernel_11612\\4087342044.py:13: FutureWarning: suggest_loguniform has been deprecated in v3.0.0. This feature will be removed in v6.0.0. See https://github.com/optuna/optuna/releases/tag/v3.0.0. Use suggest_float(..., log=True) instead.\n",
      "  'alpha': trial.suggest_loguniform('alpha', 1e-3, 10.0),\n",
      "C:\\Users\\oluwatobi.afolabi\\AppData\\Local\\Temp\\ipykernel_11612\\4087342044.py:14: FutureWarning: suggest_loguniform has been deprecated in v3.0.0. This feature will be removed in v6.0.0. See https://github.com/optuna/optuna/releases/tag/v3.0.0. Use suggest_float(..., log=True) instead.\n",
      "  'learning_rate': trial.suggest_loguniform('learning_rate', 0.01, 0.2),\n",
      "C:\\Users\\oluwatobi.afolabi\\AppData\\Local\\Temp\\ipykernel_11612\\4087342044.py:18: FutureWarning: suggest_loguniform has been deprecated in v3.0.0. This feature will be removed in v6.0.0. See https://github.com/optuna/optuna/releases/tag/v3.0.0. Use suggest_float(..., log=True) instead.\n",
      "  'gamma': trial.suggest_loguniform('gamma', 1e-3, 10.0),\n",
      "[I 2024-09-18 10:04:51,816] Trial 7 finished with value: 0.47636412749864937 and parameters: {'lambda': 0.026730883107816707, 'alpha': 0.013296521457299506, 'learning_rate': 0.05082341959721458, 'n_estimators': 156, 'max_depth': 8, 'min_child_weight': 1, 'gamma': 8.862326508576253, 'subsample': 0.8861223846483287, 'colsample_bytree': 0.5993578407670862}. Best is trial 3 with value: 0.5.\n"
     ]
    },
    {
     "name": "stdout",
     "output_type": "stream",
     "text": [
      "[0.28365696 0.5        0.39883847]\n",
      "[0.55436893 0.33752026 0.5189087 ]\n",
      "[0.5        0.48851972 0.44057266]\n"
     ]
    },
    {
     "name": "stderr",
     "output_type": "stream",
     "text": [
      "C:\\Users\\oluwatobi.afolabi\\AppData\\Local\\Temp\\ipykernel_11612\\4087342044.py:12: FutureWarning: suggest_loguniform has been deprecated in v3.0.0. This feature will be removed in v6.0.0. See https://github.com/optuna/optuna/releases/tag/v3.0.0. Use suggest_float(..., log=True) instead.\n",
      "  'lambda': trial.suggest_loguniform('lambda', 1e-3, 10.0),\n",
      "C:\\Users\\oluwatobi.afolabi\\AppData\\Local\\Temp\\ipykernel_11612\\4087342044.py:13: FutureWarning: suggest_loguniform has been deprecated in v3.0.0. This feature will be removed in v6.0.0. See https://github.com/optuna/optuna/releases/tag/v3.0.0. Use suggest_float(..., log=True) instead.\n",
      "  'alpha': trial.suggest_loguniform('alpha', 1e-3, 10.0),\n",
      "C:\\Users\\oluwatobi.afolabi\\AppData\\Local\\Temp\\ipykernel_11612\\4087342044.py:14: FutureWarning: suggest_loguniform has been deprecated in v3.0.0. This feature will be removed in v6.0.0. See https://github.com/optuna/optuna/releases/tag/v3.0.0. Use suggest_float(..., log=True) instead.\n",
      "  'learning_rate': trial.suggest_loguniform('learning_rate', 0.01, 0.2),\n",
      "C:\\Users\\oluwatobi.afolabi\\AppData\\Local\\Temp\\ipykernel_11612\\4087342044.py:18: FutureWarning: suggest_loguniform has been deprecated in v3.0.0. This feature will be removed in v6.0.0. See https://github.com/optuna/optuna/releases/tag/v3.0.0. Use suggest_float(..., log=True) instead.\n",
      "  'gamma': trial.suggest_loguniform('gamma', 1e-3, 10.0),\n",
      "[I 2024-09-18 10:04:51,997] Trial 8 finished with value: 0.40887502425873185 and parameters: {'lambda': 0.0010521761868451127, 'alpha': 1.8274508859816028, 'learning_rate': 0.08310795711416077, 'n_estimators': 392, 'max_depth': 8, 'min_child_weight': 1, 'gamma': 0.02715581955282941, 'subsample': 0.5579345297625649, 'colsample_bytree': 0.9315517129377968}. Best is trial 3 with value: 0.5.\n",
      "C:\\Users\\oluwatobi.afolabi\\AppData\\Local\\Temp\\ipykernel_11612\\4087342044.py:12: FutureWarning: suggest_loguniform has been deprecated in v3.0.0. This feature will be removed in v6.0.0. See https://github.com/optuna/optuna/releases/tag/v3.0.0. Use suggest_float(..., log=True) instead.\n",
      "  'lambda': trial.suggest_loguniform('lambda', 1e-3, 10.0),\n",
      "C:\\Users\\oluwatobi.afolabi\\AppData\\Local\\Temp\\ipykernel_11612\\4087342044.py:13: FutureWarning: suggest_loguniform has been deprecated in v3.0.0. This feature will be removed in v6.0.0. See https://github.com/optuna/optuna/releases/tag/v3.0.0. Use suggest_float(..., log=True) instead.\n",
      "  'alpha': trial.suggest_loguniform('alpha', 1e-3, 10.0),\n",
      "C:\\Users\\oluwatobi.afolabi\\AppData\\Local\\Temp\\ipykernel_11612\\4087342044.py:14: FutureWarning: suggest_loguniform has been deprecated in v3.0.0. This feature will be removed in v6.0.0. See https://github.com/optuna/optuna/releases/tag/v3.0.0. Use suggest_float(..., log=True) instead.\n",
      "  'learning_rate': trial.suggest_loguniform('learning_rate', 0.01, 0.2),\n",
      "C:\\Users\\oluwatobi.afolabi\\AppData\\Local\\Temp\\ipykernel_11612\\4087342044.py:18: FutureWarning: suggest_loguniform has been deprecated in v3.0.0. This feature will be removed in v6.0.0. See https://github.com/optuna/optuna/releases/tag/v3.0.0. Use suggest_float(..., log=True) instead.\n",
      "  'gamma': trial.suggest_loguniform('gamma', 1e-3, 10.0),\n",
      "[I 2024-09-18 10:04:52,086] Trial 9 finished with value: 0.45478854253539147 and parameters: {'lambda': 0.3113095956122124, 'alpha': 0.021066486017042207, 'learning_rate': 0.012097379927033842, 'n_estimators': 224, 'max_depth': 5, 'min_child_weight': 8, 'gamma': 0.35500125258511606, 'subsample': 0.9436063712881633, 'colsample_bytree': 0.7361074625809747}. Best is trial 3 with value: 0.5.\n"
     ]
    },
    {
     "name": "stdout",
     "output_type": "stream",
     "text": [
      "[0.4223301  0.39289573 0.41139924]\n",
      "[0.50307443 0.44867639 0.4126148 ]\n"
     ]
    },
    {
     "name": "stderr",
     "output_type": "stream",
     "text": [
      "C:\\Users\\oluwatobi.afolabi\\AppData\\Local\\Temp\\ipykernel_11612\\4087342044.py:12: FutureWarning: suggest_loguniform has been deprecated in v3.0.0. This feature will be removed in v6.0.0. See https://github.com/optuna/optuna/releases/tag/v3.0.0. Use suggest_float(..., log=True) instead.\n",
      "  'lambda': trial.suggest_loguniform('lambda', 1e-3, 10.0),\n",
      "C:\\Users\\oluwatobi.afolabi\\AppData\\Local\\Temp\\ipykernel_11612\\4087342044.py:13: FutureWarning: suggest_loguniform has been deprecated in v3.0.0. This feature will be removed in v6.0.0. See https://github.com/optuna/optuna/releases/tag/v3.0.0. Use suggest_float(..., log=True) instead.\n",
      "  'alpha': trial.suggest_loguniform('alpha', 1e-3, 10.0),\n",
      "C:\\Users\\oluwatobi.afolabi\\AppData\\Local\\Temp\\ipykernel_11612\\4087342044.py:14: FutureWarning: suggest_loguniform has been deprecated in v3.0.0. This feature will be removed in v6.0.0. See https://github.com/optuna/optuna/releases/tag/v3.0.0. Use suggest_float(..., log=True) instead.\n",
      "  'learning_rate': trial.suggest_loguniform('learning_rate', 0.01, 0.2),\n",
      "C:\\Users\\oluwatobi.afolabi\\AppData\\Local\\Temp\\ipykernel_11612\\4087342044.py:18: FutureWarning: suggest_loguniform has been deprecated in v3.0.0. This feature will be removed in v6.0.0. See https://github.com/optuna/optuna/releases/tag/v3.0.0. Use suggest_float(..., log=True) instead.\n",
      "  'gamma': trial.suggest_loguniform('gamma', 1e-3, 10.0),\n",
      "[I 2024-09-18 10:04:52,643] Trial 10 finished with value: 0.5 and parameters: {'lambda': 6.033178530661239, 'alpha': 0.39791919583436586, 'learning_rate': 0.021495455344326352, 'n_estimators': 473, 'max_depth': 7, 'min_child_weight': 7, 'gamma': 7.804305938667552, 'subsample': 0.7999578184062879, 'colsample_bytree': 0.8289810924855183}. Best is trial 3 with value: 0.5.\n",
      "C:\\Users\\oluwatobi.afolabi\\AppData\\Local\\Temp\\ipykernel_11612\\4087342044.py:12: FutureWarning: suggest_loguniform has been deprecated in v3.0.0. This feature will be removed in v6.0.0. See https://github.com/optuna/optuna/releases/tag/v3.0.0. Use suggest_float(..., log=True) instead.\n",
      "  'lambda': trial.suggest_loguniform('lambda', 1e-3, 10.0),\n",
      "C:\\Users\\oluwatobi.afolabi\\AppData\\Local\\Temp\\ipykernel_11612\\4087342044.py:13: FutureWarning: suggest_loguniform has been deprecated in v3.0.0. This feature will be removed in v6.0.0. See https://github.com/optuna/optuna/releases/tag/v3.0.0. Use suggest_float(..., log=True) instead.\n",
      "  'alpha': trial.suggest_loguniform('alpha', 1e-3, 10.0),\n",
      "C:\\Users\\oluwatobi.afolabi\\AppData\\Local\\Temp\\ipykernel_11612\\4087342044.py:14: FutureWarning: suggest_loguniform has been deprecated in v3.0.0. This feature will be removed in v6.0.0. See https://github.com/optuna/optuna/releases/tag/v3.0.0. Use suggest_float(..., log=True) instead.\n",
      "  'learning_rate': trial.suggest_loguniform('learning_rate', 0.01, 0.2),\n",
      "C:\\Users\\oluwatobi.afolabi\\AppData\\Local\\Temp\\ipykernel_11612\\4087342044.py:18: FutureWarning: suggest_loguniform has been deprecated in v3.0.0. This feature will be removed in v6.0.0. See https://github.com/optuna/optuna/releases/tag/v3.0.0. Use suggest_float(..., log=True) instead.\n",
      "  'gamma': trial.suggest_loguniform('gamma', 1e-3, 10.0),\n",
      "[I 2024-09-18 10:04:52,816] Trial 11 finished with value: 0.5 and parameters: {'lambda': 9.628739476353626, 'alpha': 0.38460827631632033, 'learning_rate': 0.021038739759293077, 'n_estimators': 485, 'max_depth': 7, 'min_child_weight': 7, 'gamma': 7.456457470297791, 'subsample': 0.7871347026384218, 'colsample_bytree': 0.8468014029865645}. Best is trial 3 with value: 0.5.\n"
     ]
    },
    {
     "name": "stdout",
     "output_type": "stream",
     "text": [
      "[0.5 0.5 0.5]\n",
      "[0.5 0.5 0.5]\n"
     ]
    },
    {
     "name": "stderr",
     "output_type": "stream",
     "text": [
      "C:\\Users\\oluwatobi.afolabi\\AppData\\Local\\Temp\\ipykernel_11612\\4087342044.py:12: FutureWarning: suggest_loguniform has been deprecated in v3.0.0. This feature will be removed in v6.0.0. See https://github.com/optuna/optuna/releases/tag/v3.0.0. Use suggest_float(..., log=True) instead.\n",
      "  'lambda': trial.suggest_loguniform('lambda', 1e-3, 10.0),\n",
      "C:\\Users\\oluwatobi.afolabi\\AppData\\Local\\Temp\\ipykernel_11612\\4087342044.py:13: FutureWarning: suggest_loguniform has been deprecated in v3.0.0. This feature will be removed in v6.0.0. See https://github.com/optuna/optuna/releases/tag/v3.0.0. Use suggest_float(..., log=True) instead.\n",
      "  'alpha': trial.suggest_loguniform('alpha', 1e-3, 10.0),\n",
      "C:\\Users\\oluwatobi.afolabi\\AppData\\Local\\Temp\\ipykernel_11612\\4087342044.py:14: FutureWarning: suggest_loguniform has been deprecated in v3.0.0. This feature will be removed in v6.0.0. See https://github.com/optuna/optuna/releases/tag/v3.0.0. Use suggest_float(..., log=True) instead.\n",
      "  'learning_rate': trial.suggest_loguniform('learning_rate', 0.01, 0.2),\n",
      "C:\\Users\\oluwatobi.afolabi\\AppData\\Local\\Temp\\ipykernel_11612\\4087342044.py:18: FutureWarning: suggest_loguniform has been deprecated in v3.0.0. This feature will be removed in v6.0.0. See https://github.com/optuna/optuna/releases/tag/v3.0.0. Use suggest_float(..., log=True) instead.\n",
      "  'gamma': trial.suggest_loguniform('gamma', 1e-3, 10.0),\n",
      "[I 2024-09-18 10:04:52,982] Trial 12 finished with value: 0.4714118494507473 and parameters: {'lambda': 5.7426829579130425, 'alpha': 0.35204357518203266, 'learning_rate': 0.02450735501228672, 'n_estimators': 499, 'max_depth': 6, 'min_child_weight': 7, 'gamma': 1.223759424719131, 'subsample': 0.793591952402297, 'colsample_bytree': 0.9956970907311709}. Best is trial 3 with value: 0.5.\n",
      "C:\\Users\\oluwatobi.afolabi\\AppData\\Local\\Temp\\ipykernel_11612\\4087342044.py:12: FutureWarning: suggest_loguniform has been deprecated in v3.0.0. This feature will be removed in v6.0.0. See https://github.com/optuna/optuna/releases/tag/v3.0.0. Use suggest_float(..., log=True) instead.\n",
      "  'lambda': trial.suggest_loguniform('lambda', 1e-3, 10.0),\n",
      "C:\\Users\\oluwatobi.afolabi\\AppData\\Local\\Temp\\ipykernel_11612\\4087342044.py:13: FutureWarning: suggest_loguniform has been deprecated in v3.0.0. This feature will be removed in v6.0.0. See https://github.com/optuna/optuna/releases/tag/v3.0.0. Use suggest_float(..., log=True) instead.\n",
      "  'alpha': trial.suggest_loguniform('alpha', 1e-3, 10.0),\n",
      "C:\\Users\\oluwatobi.afolabi\\AppData\\Local\\Temp\\ipykernel_11612\\4087342044.py:14: FutureWarning: suggest_loguniform has been deprecated in v3.0.0. This feature will be removed in v6.0.0. See https://github.com/optuna/optuna/releases/tag/v3.0.0. Use suggest_float(..., log=True) instead.\n",
      "  'learning_rate': trial.suggest_loguniform('learning_rate', 0.01, 0.2),\n",
      "C:\\Users\\oluwatobi.afolabi\\AppData\\Local\\Temp\\ipykernel_11612\\4087342044.py:18: FutureWarning: suggest_loguniform has been deprecated in v3.0.0. This feature will be removed in v6.0.0. See https://github.com/optuna/optuna/releases/tag/v3.0.0. Use suggest_float(..., log=True) instead.\n",
      "  'gamma': trial.suggest_loguniform('gamma', 1e-3, 10.0),\n",
      "[I 2024-09-18 10:04:53,116] Trial 13 finished with value: 0.4928867278948316 and parameters: {'lambda': 2.1652585031159766, 'alpha': 0.1609529668408025, 'learning_rate': 0.023521291455957154, 'n_estimators': 393, 'max_depth': 9, 'min_child_weight': 9, 'gamma': 2.1729459887271987, 'subsample': 0.7076658187838978, 'colsample_bytree': 0.8566132005510885}. Best is trial 3 with value: 0.5.\n"
     ]
    },
    {
     "name": "stdout",
     "output_type": "stream",
     "text": [
      "[0.5        0.5        0.41423555]\n",
      "[0.5        0.5        0.47866018]\n"
     ]
    },
    {
     "name": "stderr",
     "output_type": "stream",
     "text": [
      "C:\\Users\\oluwatobi.afolabi\\AppData\\Local\\Temp\\ipykernel_11612\\4087342044.py:12: FutureWarning: suggest_loguniform has been deprecated in v3.0.0. This feature will be removed in v6.0.0. See https://github.com/optuna/optuna/releases/tag/v3.0.0. Use suggest_float(..., log=True) instead.\n",
      "  'lambda': trial.suggest_loguniform('lambda', 1e-3, 10.0),\n",
      "C:\\Users\\oluwatobi.afolabi\\AppData\\Local\\Temp\\ipykernel_11612\\4087342044.py:13: FutureWarning: suggest_loguniform has been deprecated in v3.0.0. This feature will be removed in v6.0.0. See https://github.com/optuna/optuna/releases/tag/v3.0.0. Use suggest_float(..., log=True) instead.\n",
      "  'alpha': trial.suggest_loguniform('alpha', 1e-3, 10.0),\n",
      "C:\\Users\\oluwatobi.afolabi\\AppData\\Local\\Temp\\ipykernel_11612\\4087342044.py:14: FutureWarning: suggest_loguniform has been deprecated in v3.0.0. This feature will be removed in v6.0.0. See https://github.com/optuna/optuna/releases/tag/v3.0.0. Use suggest_float(..., log=True) instead.\n",
      "  'learning_rate': trial.suggest_loguniform('learning_rate', 0.01, 0.2),\n",
      "C:\\Users\\oluwatobi.afolabi\\AppData\\Local\\Temp\\ipykernel_11612\\4087342044.py:18: FutureWarning: suggest_loguniform has been deprecated in v3.0.0. This feature will be removed in v6.0.0. See https://github.com/optuna/optuna/releases/tag/v3.0.0. Use suggest_float(..., log=True) instead.\n",
      "  'gamma': trial.suggest_loguniform('gamma', 1e-3, 10.0),\n",
      "[I 2024-09-18 10:04:53,227] Trial 14 finished with value: 0.4510346895494257 and parameters: {'lambda': 0.004266587910190738, 'alpha': 1.006862926291162, 'learning_rate': 0.01665270068522815, 'n_estimators': 266, 'max_depth': 6, 'min_child_weight': 6, 'gamma': 0.2274995193324855, 'subsample': 0.844577911492431, 'colsample_bytree': 0.6902069188376365}. Best is trial 3 with value: 0.5.\n",
      "C:\\Users\\oluwatobi.afolabi\\AppData\\Local\\Temp\\ipykernel_11612\\4087342044.py:12: FutureWarning: suggest_loguniform has been deprecated in v3.0.0. This feature will be removed in v6.0.0. See https://github.com/optuna/optuna/releases/tag/v3.0.0. Use suggest_float(..., log=True) instead.\n",
      "  'lambda': trial.suggest_loguniform('lambda', 1e-3, 10.0),\n",
      "C:\\Users\\oluwatobi.afolabi\\AppData\\Local\\Temp\\ipykernel_11612\\4087342044.py:13: FutureWarning: suggest_loguniform has been deprecated in v3.0.0. This feature will be removed in v6.0.0. See https://github.com/optuna/optuna/releases/tag/v3.0.0. Use suggest_float(..., log=True) instead.\n",
      "  'alpha': trial.suggest_loguniform('alpha', 1e-3, 10.0),\n",
      "C:\\Users\\oluwatobi.afolabi\\AppData\\Local\\Temp\\ipykernel_11612\\4087342044.py:14: FutureWarning: suggest_loguniform has been deprecated in v3.0.0. This feature will be removed in v6.0.0. See https://github.com/optuna/optuna/releases/tag/v3.0.0. Use suggest_float(..., log=True) instead.\n",
      "  'learning_rate': trial.suggest_loguniform('learning_rate', 0.01, 0.2),\n",
      "C:\\Users\\oluwatobi.afolabi\\AppData\\Local\\Temp\\ipykernel_11612\\4087342044.py:18: FutureWarning: suggest_loguniform has been deprecated in v3.0.0. This feature will be removed in v6.0.0. See https://github.com/optuna/optuna/releases/tag/v3.0.0. Use suggest_float(..., log=True) instead.\n",
      "  'gamma': trial.suggest_loguniform('gamma', 1e-3, 10.0),\n",
      "[I 2024-09-18 10:04:53,296] Trial 15 finished with value: 0.5 and parameters: {'lambda': 1.9647338042746214, 'alpha': 0.044028304202958043, 'learning_rate': 0.010060460570816533, 'n_estimators': 104, 'max_depth': 7, 'min_child_weight': 4, 'gamma': 3.230364407757792, 'subsample': 0.9994650463295544, 'colsample_bytree': 0.8630887061486366}. Best is trial 3 with value: 0.5.\n",
      "C:\\Users\\oluwatobi.afolabi\\AppData\\Local\\Temp\\ipykernel_11612\\4087342044.py:12: FutureWarning: suggest_loguniform has been deprecated in v3.0.0. This feature will be removed in v6.0.0. See https://github.com/optuna/optuna/releases/tag/v3.0.0. Use suggest_float(..., log=True) instead.\n",
      "  'lambda': trial.suggest_loguniform('lambda', 1e-3, 10.0),\n",
      "C:\\Users\\oluwatobi.afolabi\\AppData\\Local\\Temp\\ipykernel_11612\\4087342044.py:13: FutureWarning: suggest_loguniform has been deprecated in v3.0.0. This feature will be removed in v6.0.0. See https://github.com/optuna/optuna/releases/tag/v3.0.0. Use suggest_float(..., log=True) instead.\n",
      "  'alpha': trial.suggest_loguniform('alpha', 1e-3, 10.0),\n",
      "C:\\Users\\oluwatobi.afolabi\\AppData\\Local\\Temp\\ipykernel_11612\\4087342044.py:14: FutureWarning: suggest_loguniform has been deprecated in v3.0.0. This feature will be removed in v6.0.0. See https://github.com/optuna/optuna/releases/tag/v3.0.0. Use suggest_float(..., log=True) instead.\n",
      "  'learning_rate': trial.suggest_loguniform('learning_rate', 0.01, 0.2),\n",
      "C:\\Users\\oluwatobi.afolabi\\AppData\\Local\\Temp\\ipykernel_11612\\4087342044.py:18: FutureWarning: suggest_loguniform has been deprecated in v3.0.0. This feature will be removed in v6.0.0. See https://github.com/optuna/optuna/releases/tag/v3.0.0. Use suggest_float(..., log=True) instead.\n",
      "  'gamma': trial.suggest_loguniform('gamma', 1e-3, 10.0),\n"
     ]
    },
    {
     "name": "stdout",
     "output_type": "stream",
     "text": [
      "[0.56812298 0.41234468 0.37263641]\n",
      "[0.5 0.5 0.5]\n"
     ]
    },
    {
     "name": "stderr",
     "output_type": "stream",
     "text": [
      "[I 2024-09-18 10:04:53,451] Trial 16 finished with value: 0.4532467362171064 and parameters: {'lambda': 0.11505031213072171, 'alpha': 0.09538927906853832, 'learning_rate': 0.02725782387251979, 'n_estimators': 435, 'max_depth': 6, 'min_child_weight': 6, 'gamma': 0.425188213719246, 'subsample': 0.5136095131955984, 'colsample_bytree': 0.5065896071904618}. Best is trial 3 with value: 0.5.\n",
      "C:\\Users\\oluwatobi.afolabi\\AppData\\Local\\Temp\\ipykernel_11612\\4087342044.py:12: FutureWarning: suggest_loguniform has been deprecated in v3.0.0. This feature will be removed in v6.0.0. See https://github.com/optuna/optuna/releases/tag/v3.0.0. Use suggest_float(..., log=True) instead.\n",
      "  'lambda': trial.suggest_loguniform('lambda', 1e-3, 10.0),\n",
      "C:\\Users\\oluwatobi.afolabi\\AppData\\Local\\Temp\\ipykernel_11612\\4087342044.py:13: FutureWarning: suggest_loguniform has been deprecated in v3.0.0. This feature will be removed in v6.0.0. See https://github.com/optuna/optuna/releases/tag/v3.0.0. Use suggest_float(..., log=True) instead.\n",
      "  'alpha': trial.suggest_loguniform('alpha', 1e-3, 10.0),\n",
      "C:\\Users\\oluwatobi.afolabi\\AppData\\Local\\Temp\\ipykernel_11612\\4087342044.py:14: FutureWarning: suggest_loguniform has been deprecated in v3.0.0. This feature will be removed in v6.0.0. See https://github.com/optuna/optuna/releases/tag/v3.0.0. Use suggest_float(..., log=True) instead.\n",
      "  'learning_rate': trial.suggest_loguniform('learning_rate', 0.01, 0.2),\n",
      "C:\\Users\\oluwatobi.afolabi\\AppData\\Local\\Temp\\ipykernel_11612\\4087342044.py:18: FutureWarning: suggest_loguniform has been deprecated in v3.0.0. This feature will be removed in v6.0.0. See https://github.com/optuna/optuna/releases/tag/v3.0.0. Use suggest_float(..., log=True) instead.\n",
      "  'gamma': trial.suggest_loguniform('gamma', 1e-3, 10.0),\n",
      "[I 2024-09-18 10:04:53,582] Trial 17 finished with value: 0.4709616423554835 and parameters: {'lambda': 0.007130719327844121, 'alpha': 1.0141639667109232, 'learning_rate': 0.03301536212650946, 'n_estimators': 360, 'max_depth': 5, 'min_child_weight': 3, 'gamma': 4.071652118027258, 'subsample': 0.8426546842110454, 'colsample_bytree': 0.8031483402979233}. Best is trial 3 with value: 0.5.\n",
      "C:\\Users\\oluwatobi.afolabi\\AppData\\Local\\Temp\\ipykernel_11612\\4087342044.py:12: FutureWarning: suggest_loguniform has been deprecated in v3.0.0. This feature will be removed in v6.0.0. See https://github.com/optuna/optuna/releases/tag/v3.0.0. Use suggest_float(..., log=True) instead.\n",
      "  'lambda': trial.suggest_loguniform('lambda', 1e-3, 10.0),\n",
      "C:\\Users\\oluwatobi.afolabi\\AppData\\Local\\Temp\\ipykernel_11612\\4087342044.py:13: FutureWarning: suggest_loguniform has been deprecated in v3.0.0. This feature will be removed in v6.0.0. See https://github.com/optuna/optuna/releases/tag/v3.0.0. Use suggest_float(..., log=True) instead.\n",
      "  'alpha': trial.suggest_loguniform('alpha', 1e-3, 10.0),\n",
      "C:\\Users\\oluwatobi.afolabi\\AppData\\Local\\Temp\\ipykernel_11612\\4087342044.py:14: FutureWarning: suggest_loguniform has been deprecated in v3.0.0. This feature will be removed in v6.0.0. See https://github.com/optuna/optuna/releases/tag/v3.0.0. Use suggest_float(..., log=True) instead.\n",
      "  'learning_rate': trial.suggest_loguniform('learning_rate', 0.01, 0.2),\n",
      "C:\\Users\\oluwatobi.afolabi\\AppData\\Local\\Temp\\ipykernel_11612\\4087342044.py:18: FutureWarning: suggest_loguniform has been deprecated in v3.0.0. This feature will be removed in v6.0.0. See https://github.com/optuna/optuna/releases/tag/v3.0.0. Use suggest_float(..., log=True) instead.\n",
      "  'gamma': trial.suggest_loguniform('gamma', 1e-3, 10.0),\n"
     ]
    },
    {
     "name": "stdout",
     "output_type": "stream",
     "text": [
      "[0.50695793 0.4593463  0.39343598]\n",
      "[0.5        0.5        0.41288493]\n"
     ]
    },
    {
     "name": "stderr",
     "output_type": "stream",
     "text": [
      "[I 2024-09-18 10:04:53,747] Trial 18 finished with value: 0.564391591005649 and parameters: {'lambda': 2.5071513394644622, 'alpha': 0.2312876312528823, 'learning_rate': 0.01654619613791643, 'n_estimators': 442, 'max_depth': 7, 'min_child_weight': 8, 'gamma': 0.7983105440459775, 'subsample': 0.722295168464534, 'colsample_bytree': 0.9025554266033063}. Best is trial 18 with value: 0.564391591005649.\n",
      "C:\\Users\\oluwatobi.afolabi\\AppData\\Local\\Temp\\ipykernel_11612\\4087342044.py:12: FutureWarning: suggest_loguniform has been deprecated in v3.0.0. This feature will be removed in v6.0.0. See https://github.com/optuna/optuna/releases/tag/v3.0.0. Use suggest_float(..., log=True) instead.\n",
      "  'lambda': trial.suggest_loguniform('lambda', 1e-3, 10.0),\n",
      "C:\\Users\\oluwatobi.afolabi\\AppData\\Local\\Temp\\ipykernel_11612\\4087342044.py:13: FutureWarning: suggest_loguniform has been deprecated in v3.0.0. This feature will be removed in v6.0.0. See https://github.com/optuna/optuna/releases/tag/v3.0.0. Use suggest_float(..., log=True) instead.\n",
      "  'alpha': trial.suggest_loguniform('alpha', 1e-3, 10.0),\n",
      "C:\\Users\\oluwatobi.afolabi\\AppData\\Local\\Temp\\ipykernel_11612\\4087342044.py:14: FutureWarning: suggest_loguniform has been deprecated in v3.0.0. This feature will be removed in v6.0.0. See https://github.com/optuna/optuna/releases/tag/v3.0.0. Use suggest_float(..., log=True) instead.\n",
      "  'learning_rate': trial.suggest_loguniform('learning_rate', 0.01, 0.2),\n",
      "C:\\Users\\oluwatobi.afolabi\\AppData\\Local\\Temp\\ipykernel_11612\\4087342044.py:18: FutureWarning: suggest_loguniform has been deprecated in v3.0.0. This feature will be removed in v6.0.0. See https://github.com/optuna/optuna/releases/tag/v3.0.0. Use suggest_float(..., log=True) instead.\n",
      "  'gamma': trial.suggest_loguniform('gamma', 1e-3, 10.0),\n",
      "[I 2024-09-18 10:04:53,901] Trial 19 finished with value: 0.5346918223159353 and parameters: {'lambda': 1.3552688251280696, 'alpha': 0.11457187203934581, 'learning_rate': 0.01541708523753259, 'n_estimators': 418, 'max_depth': 9, 'min_child_weight': 10, 'gamma': 0.7513614534901235, 'subsample': 0.7090770411410371, 'colsample_bytree': 0.990190223811973}. Best is trial 18 with value: 0.564391591005649.\n",
      "C:\\Users\\oluwatobi.afolabi\\AppData\\Local\\Temp\\ipykernel_11612\\4087342044.py:12: FutureWarning: suggest_loguniform has been deprecated in v3.0.0. This feature will be removed in v6.0.0. See https://github.com/optuna/optuna/releases/tag/v3.0.0. Use suggest_float(..., log=True) instead.\n",
      "  'lambda': trial.suggest_loguniform('lambda', 1e-3, 10.0),\n",
      "C:\\Users\\oluwatobi.afolabi\\AppData\\Local\\Temp\\ipykernel_11612\\4087342044.py:13: FutureWarning: suggest_loguniform has been deprecated in v3.0.0. This feature will be removed in v6.0.0. See https://github.com/optuna/optuna/releases/tag/v3.0.0. Use suggest_float(..., log=True) instead.\n",
      "  'alpha': trial.suggest_loguniform('alpha', 1e-3, 10.0),\n",
      "C:\\Users\\oluwatobi.afolabi\\AppData\\Local\\Temp\\ipykernel_11612\\4087342044.py:14: FutureWarning: suggest_loguniform has been deprecated in v3.0.0. This feature will be removed in v6.0.0. See https://github.com/optuna/optuna/releases/tag/v3.0.0. Use suggest_float(..., log=True) instead.\n",
      "  'learning_rate': trial.suggest_loguniform('learning_rate', 0.01, 0.2),\n",
      "C:\\Users\\oluwatobi.afolabi\\AppData\\Local\\Temp\\ipykernel_11612\\4087342044.py:18: FutureWarning: suggest_loguniform has been deprecated in v3.0.0. This feature will be removed in v6.0.0. See https://github.com/optuna/optuna/releases/tag/v3.0.0. Use suggest_float(..., log=True) instead.\n",
      "  'gamma': trial.suggest_loguniform('gamma', 1e-3, 10.0),\n"
     ]
    },
    {
     "name": "stdout",
     "output_type": "stream",
     "text": [
      "[0.66116505 0.61980011 0.41220962]\n",
      "[0.66877023 0.5606429  0.37466234]\n"
     ]
    },
    {
     "name": "stderr",
     "output_type": "stream",
     "text": [
      "[I 2024-09-18 10:04:54,070] Trial 20 finished with value: 0.4894286128900848 and parameters: {'lambda': 1.34186778291813, 'alpha': 0.06375360520231377, 'learning_rate': 0.015545025762510342, 'n_estimators': 435, 'max_depth': 9, 'min_child_weight': 10, 'gamma': 0.6199926771882378, 'subsample': 0.6973639320278461, 'colsample_bytree': 0.9969213925248545}. Best is trial 18 with value: 0.564391591005649.\n",
      "C:\\Users\\oluwatobi.afolabi\\AppData\\Local\\Temp\\ipykernel_11612\\4087342044.py:12: FutureWarning: suggest_loguniform has been deprecated in v3.0.0. This feature will be removed in v6.0.0. See https://github.com/optuna/optuna/releases/tag/v3.0.0. Use suggest_float(..., log=True) instead.\n",
      "  'lambda': trial.suggest_loguniform('lambda', 1e-3, 10.0),\n",
      "C:\\Users\\oluwatobi.afolabi\\AppData\\Local\\Temp\\ipykernel_11612\\4087342044.py:13: FutureWarning: suggest_loguniform has been deprecated in v3.0.0. This feature will be removed in v6.0.0. See https://github.com/optuna/optuna/releases/tag/v3.0.0. Use suggest_float(..., log=True) instead.\n",
      "  'alpha': trial.suggest_loguniform('alpha', 1e-3, 10.0),\n",
      "C:\\Users\\oluwatobi.afolabi\\AppData\\Local\\Temp\\ipykernel_11612\\4087342044.py:14: FutureWarning: suggest_loguniform has been deprecated in v3.0.0. This feature will be removed in v6.0.0. See https://github.com/optuna/optuna/releases/tag/v3.0.0. Use suggest_float(..., log=True) instead.\n",
      "  'learning_rate': trial.suggest_loguniform('learning_rate', 0.01, 0.2),\n",
      "C:\\Users\\oluwatobi.afolabi\\AppData\\Local\\Temp\\ipykernel_11612\\4087342044.py:18: FutureWarning: suggest_loguniform has been deprecated in v3.0.0. This feature will be removed in v6.0.0. See https://github.com/optuna/optuna/releases/tag/v3.0.0. Use suggest_float(..., log=True) instead.\n",
      "  'gamma': trial.suggest_loguniform('gamma', 1e-3, 10.0),\n",
      "[I 2024-09-18 10:04:54,219] Trial 21 finished with value: 0.5114829034948309 and parameters: {'lambda': 1.0754210078479425, 'alpha': 0.13507343708307953, 'learning_rate': 0.015704663593980435, 'n_estimators': 376, 'max_depth': 8, 'min_child_weight': 9, 'gamma': 0.15632410609521968, 'subsample': 0.7287086675172635, 'colsample_bytree': 0.8970527159502304}. Best is trial 18 with value: 0.564391591005649.\n",
      "C:\\Users\\oluwatobi.afolabi\\AppData\\Local\\Temp\\ipykernel_11612\\4087342044.py:12: FutureWarning: suggest_loguniform has been deprecated in v3.0.0. This feature will be removed in v6.0.0. See https://github.com/optuna/optuna/releases/tag/v3.0.0. Use suggest_float(..., log=True) instead.\n",
      "  'lambda': trial.suggest_loguniform('lambda', 1e-3, 10.0),\n",
      "C:\\Users\\oluwatobi.afolabi\\AppData\\Local\\Temp\\ipykernel_11612\\4087342044.py:13: FutureWarning: suggest_loguniform has been deprecated in v3.0.0. This feature will be removed in v6.0.0. See https://github.com/optuna/optuna/releases/tag/v3.0.0. Use suggest_float(..., log=True) instead.\n",
      "  'alpha': trial.suggest_loguniform('alpha', 1e-3, 10.0),\n",
      "C:\\Users\\oluwatobi.afolabi\\AppData\\Local\\Temp\\ipykernel_11612\\4087342044.py:14: FutureWarning: suggest_loguniform has been deprecated in v3.0.0. This feature will be removed in v6.0.0. See https://github.com/optuna/optuna/releases/tag/v3.0.0. Use suggest_float(..., log=True) instead.\n",
      "  'learning_rate': trial.suggest_loguniform('learning_rate', 0.01, 0.2),\n",
      "C:\\Users\\oluwatobi.afolabi\\AppData\\Local\\Temp\\ipykernel_11612\\4087342044.py:18: FutureWarning: suggest_loguniform has been deprecated in v3.0.0. This feature will be removed in v6.0.0. See https://github.com/optuna/optuna/releases/tag/v3.0.0. Use suggest_float(..., log=True) instead.\n",
      "  'gamma': trial.suggest_loguniform('gamma', 1e-3, 10.0),\n"
     ]
    },
    {
     "name": "stdout",
     "output_type": "stream",
     "text": [
      "[0.58430421 0.45975149 0.42423015]\n",
      "[0.57847896 0.57279849 0.38317126]\n"
     ]
    },
    {
     "name": "stderr",
     "output_type": "stream",
     "text": [
      "[I 2024-09-18 10:04:54,375] Trial 22 finished with value: 0.5238410445503962 and parameters: {'lambda': 0.9692257818350817, 'alpha': 0.043403625660118815, 'learning_rate': 0.03492834765732192, 'n_estimators': 391, 'max_depth': 8, 'min_child_weight': 9, 'gamma': 0.12709365089120067, 'subsample': 0.7386784699005607, 'colsample_bytree': 0.964058116449869}. Best is trial 18 with value: 0.564391591005649.\n",
      "C:\\Users\\oluwatobi.afolabi\\AppData\\Local\\Temp\\ipykernel_11612\\4087342044.py:12: FutureWarning: suggest_loguniform has been deprecated in v3.0.0. This feature will be removed in v6.0.0. See https://github.com/optuna/optuna/releases/tag/v3.0.0. Use suggest_float(..., log=True) instead.\n",
      "  'lambda': trial.suggest_loguniform('lambda', 1e-3, 10.0),\n",
      "C:\\Users\\oluwatobi.afolabi\\AppData\\Local\\Temp\\ipykernel_11612\\4087342044.py:13: FutureWarning: suggest_loguniform has been deprecated in v3.0.0. This feature will be removed in v6.0.0. See https://github.com/optuna/optuna/releases/tag/v3.0.0. Use suggest_float(..., log=True) instead.\n",
      "  'alpha': trial.suggest_loguniform('alpha', 1e-3, 10.0),\n",
      "C:\\Users\\oluwatobi.afolabi\\AppData\\Local\\Temp\\ipykernel_11612\\4087342044.py:14: FutureWarning: suggest_loguniform has been deprecated in v3.0.0. This feature will be removed in v6.0.0. See https://github.com/optuna/optuna/releases/tag/v3.0.0. Use suggest_float(..., log=True) instead.\n",
      "  'learning_rate': trial.suggest_loguniform('learning_rate', 0.01, 0.2),\n",
      "C:\\Users\\oluwatobi.afolabi\\AppData\\Local\\Temp\\ipykernel_11612\\4087342044.py:18: FutureWarning: suggest_loguniform has been deprecated in v3.0.0. This feature will be removed in v6.0.0. See https://github.com/optuna/optuna/releases/tag/v3.0.0. Use suggest_float(..., log=True) instead.\n",
      "  'gamma': trial.suggest_loguniform('gamma', 1e-3, 10.0),\n",
      "[I 2024-09-18 10:04:54,541] Trial 23 finished with value: 0.49077582484059173 and parameters: {'lambda': 2.7903330611436132, 'alpha': 0.004543333427377933, 'learning_rate': 0.03573300671935311, 'n_estimators': 444, 'max_depth': 9, 'min_child_weight': 9, 'gamma': 0.7955110174517759, 'subsample': 0.6377675812527804, 'colsample_bytree': 0.9653587441341737}. Best is trial 18 with value: 0.564391591005649.\n",
      "C:\\Users\\oluwatobi.afolabi\\AppData\\Local\\Temp\\ipykernel_11612\\4087342044.py:12: FutureWarning: suggest_loguniform has been deprecated in v3.0.0. This feature will be removed in v6.0.0. See https://github.com/optuna/optuna/releases/tag/v3.0.0. Use suggest_float(..., log=True) instead.\n",
      "  'lambda': trial.suggest_loguniform('lambda', 1e-3, 10.0),\n",
      "C:\\Users\\oluwatobi.afolabi\\AppData\\Local\\Temp\\ipykernel_11612\\4087342044.py:13: FutureWarning: suggest_loguniform has been deprecated in v3.0.0. This feature will be removed in v6.0.0. See https://github.com/optuna/optuna/releases/tag/v3.0.0. Use suggest_float(..., log=True) instead.\n",
      "  'alpha': trial.suggest_loguniform('alpha', 1e-3, 10.0),\n",
      "C:\\Users\\oluwatobi.afolabi\\AppData\\Local\\Temp\\ipykernel_11612\\4087342044.py:14: FutureWarning: suggest_loguniform has been deprecated in v3.0.0. This feature will be removed in v6.0.0. See https://github.com/optuna/optuna/releases/tag/v3.0.0. Use suggest_float(..., log=True) instead.\n",
      "  'learning_rate': trial.suggest_loguniform('learning_rate', 0.01, 0.2),\n",
      "C:\\Users\\oluwatobi.afolabi\\AppData\\Local\\Temp\\ipykernel_11612\\4087342044.py:18: FutureWarning: suggest_loguniform has been deprecated in v3.0.0. This feature will be removed in v6.0.0. See https://github.com/optuna/optuna/releases/tag/v3.0.0. Use suggest_float(..., log=True) instead.\n",
      "  'gamma': trial.suggest_loguniform('gamma', 1e-3, 10.0),\n"
     ]
    },
    {
     "name": "stdout",
     "output_type": "stream",
     "text": [
      "[0.6368932  0.52714749 0.40748244]\n",
      "[0.55728155 0.5        0.41504592]\n"
     ]
    },
    {
     "name": "stderr",
     "output_type": "stream",
     "text": [
      "[I 2024-09-18 10:04:54,692] Trial 24 finished with value: 0.49687696146052424 and parameters: {'lambda': 0.7028172523679277, 'alpha': 0.038936508824020145, 'learning_rate': 0.0348615754434986, 'n_estimators': 412, 'max_depth': 8, 'min_child_weight': 8, 'gamma': 0.06449386726391108, 'subsample': 0.6631604068114754, 'colsample_bytree': 0.9617368773881144}. Best is trial 18 with value: 0.564391591005649.\n",
      "C:\\Users\\oluwatobi.afolabi\\AppData\\Local\\Temp\\ipykernel_11612\\4087342044.py:12: FutureWarning: suggest_loguniform has been deprecated in v3.0.0. This feature will be removed in v6.0.0. See https://github.com/optuna/optuna/releases/tag/v3.0.0. Use suggest_float(..., log=True) instead.\n",
      "  'lambda': trial.suggest_loguniform('lambda', 1e-3, 10.0),\n",
      "C:\\Users\\oluwatobi.afolabi\\AppData\\Local\\Temp\\ipykernel_11612\\4087342044.py:13: FutureWarning: suggest_loguniform has been deprecated in v3.0.0. This feature will be removed in v6.0.0. See https://github.com/optuna/optuna/releases/tag/v3.0.0. Use suggest_float(..., log=True) instead.\n",
      "  'alpha': trial.suggest_loguniform('alpha', 1e-3, 10.0),\n",
      "C:\\Users\\oluwatobi.afolabi\\AppData\\Local\\Temp\\ipykernel_11612\\4087342044.py:14: FutureWarning: suggest_loguniform has been deprecated in v3.0.0. This feature will be removed in v6.0.0. See https://github.com/optuna/optuna/releases/tag/v3.0.0. Use suggest_float(..., log=True) instead.\n",
      "  'learning_rate': trial.suggest_loguniform('learning_rate', 0.01, 0.2),\n",
      "C:\\Users\\oluwatobi.afolabi\\AppData\\Local\\Temp\\ipykernel_11612\\4087342044.py:18: FutureWarning: suggest_loguniform has been deprecated in v3.0.0. This feature will be removed in v6.0.0. See https://github.com/optuna/optuna/releases/tag/v3.0.0. Use suggest_float(..., log=True) instead.\n",
      "  'gamma': trial.suggest_loguniform('gamma', 1e-3, 10.0),\n",
      "[I 2024-09-18 10:04:54,868] Trial 25 finished with value: 0.5284872691923722 and parameters: {'lambda': 3.475355344373056, 'alpha': 0.7560492406267837, 'learning_rate': 0.017061791895312015, 'n_estimators': 457, 'max_depth': 7, 'min_child_weight': 10, 'gamma': 0.014820209278517203, 'subsample': 0.7573270821416564, 'colsample_bytree': 0.9969970141157543}. Best is trial 18 with value: 0.564391591005649.\n",
      "C:\\Users\\oluwatobi.afolabi\\AppData\\Local\\Temp\\ipykernel_11612\\4087342044.py:12: FutureWarning: suggest_loguniform has been deprecated in v3.0.0. This feature will be removed in v6.0.0. See https://github.com/optuna/optuna/releases/tag/v3.0.0. Use suggest_float(..., log=True) instead.\n",
      "  'lambda': trial.suggest_loguniform('lambda', 1e-3, 10.0),\n",
      "C:\\Users\\oluwatobi.afolabi\\AppData\\Local\\Temp\\ipykernel_11612\\4087342044.py:13: FutureWarning: suggest_loguniform has been deprecated in v3.0.0. This feature will be removed in v6.0.0. See https://github.com/optuna/optuna/releases/tag/v3.0.0. Use suggest_float(..., log=True) instead.\n",
      "  'alpha': trial.suggest_loguniform('alpha', 1e-3, 10.0),\n",
      "C:\\Users\\oluwatobi.afolabi\\AppData\\Local\\Temp\\ipykernel_11612\\4087342044.py:14: FutureWarning: suggest_loguniform has been deprecated in v3.0.0. This feature will be removed in v6.0.0. See https://github.com/optuna/optuna/releases/tag/v3.0.0. Use suggest_float(..., log=True) instead.\n",
      "  'learning_rate': trial.suggest_loguniform('learning_rate', 0.01, 0.2),\n",
      "C:\\Users\\oluwatobi.afolabi\\AppData\\Local\\Temp\\ipykernel_11612\\4087342044.py:18: FutureWarning: suggest_loguniform has been deprecated in v3.0.0. This feature will be removed in v6.0.0. See https://github.com/optuna/optuna/releases/tag/v3.0.0. Use suggest_float(..., log=True) instead.\n",
      "  'gamma': trial.suggest_loguniform('gamma', 1e-3, 10.0),\n"
     ]
    },
    {
     "name": "stdout",
     "output_type": "stream",
     "text": [
      "[0.61407767 0.47771475 0.39883847]\n",
      "[0.65339806 0.5        0.43206375]\n"
     ]
    },
    {
     "name": "stderr",
     "output_type": "stream",
     "text": [
      "[I 2024-09-18 10:04:55,056] Trial 26 finished with value: 0.47866018368449487 and parameters: {'lambda': 3.822496721294793, 'alpha': 0.881232187075888, 'learning_rate': 0.01808719225054775, 'n_estimators': 460, 'max_depth': 7, 'min_child_weight': 10, 'gamma': 0.01337658778943493, 'subsample': 0.5927069520870604, 'colsample_bytree': 0.8842645340580617}. Best is trial 18 with value: 0.564391591005649.\n",
      "C:\\Users\\oluwatobi.afolabi\\AppData\\Local\\Temp\\ipykernel_11612\\4087342044.py:12: FutureWarning: suggest_loguniform has been deprecated in v3.0.0. This feature will be removed in v6.0.0. See https://github.com/optuna/optuna/releases/tag/v3.0.0. Use suggest_float(..., log=True) instead.\n",
      "  'lambda': trial.suggest_loguniform('lambda', 1e-3, 10.0),\n",
      "C:\\Users\\oluwatobi.afolabi\\AppData\\Local\\Temp\\ipykernel_11612\\4087342044.py:13: FutureWarning: suggest_loguniform has been deprecated in v3.0.0. This feature will be removed in v6.0.0. See https://github.com/optuna/optuna/releases/tag/v3.0.0. Use suggest_float(..., log=True) instead.\n",
      "  'alpha': trial.suggest_loguniform('alpha', 1e-3, 10.0),\n",
      "C:\\Users\\oluwatobi.afolabi\\AppData\\Local\\Temp\\ipykernel_11612\\4087342044.py:14: FutureWarning: suggest_loguniform has been deprecated in v3.0.0. This feature will be removed in v6.0.0. See https://github.com/optuna/optuna/releases/tag/v3.0.0. Use suggest_float(..., log=True) instead.\n",
      "  'learning_rate': trial.suggest_loguniform('learning_rate', 0.01, 0.2),\n",
      "C:\\Users\\oluwatobi.afolabi\\AppData\\Local\\Temp\\ipykernel_11612\\4087342044.py:18: FutureWarning: suggest_loguniform has been deprecated in v3.0.0. This feature will be removed in v6.0.0. See https://github.com/optuna/optuna/releases/tag/v3.0.0. Use suggest_float(..., log=True) instead.\n",
      "  'gamma': trial.suggest_loguniform('gamma', 1e-3, 10.0),\n",
      "[I 2024-09-18 10:04:55,203] Trial 27 finished with value: 0.536646857554475 and parameters: {'lambda': 9.414266330348488, 'alpha': 0.6075851842585122, 'learning_rate': 0.13329257661515917, 'n_estimators': 412, 'max_depth': 7, 'min_child_weight': 8, 'gamma': 0.008875965529428386, 'subsample': 0.7704505701827778, 'colsample_bytree': 0.9374990632294782}. Best is trial 18 with value: 0.564391591005649.\n"
     ]
    },
    {
     "name": "stdout",
     "output_type": "stream",
     "text": [
      "[0.5        0.5        0.43598055]\n",
      "[0.5        0.69705565 0.41288493]\n"
     ]
    },
    {
     "name": "stderr",
     "output_type": "stream",
     "text": [
      "C:\\Users\\oluwatobi.afolabi\\AppData\\Local\\Temp\\ipykernel_11612\\4087342044.py:12: FutureWarning: suggest_loguniform has been deprecated in v3.0.0. This feature will be removed in v6.0.0. See https://github.com/optuna/optuna/releases/tag/v3.0.0. Use suggest_float(..., log=True) instead.\n",
      "  'lambda': trial.suggest_loguniform('lambda', 1e-3, 10.0),\n",
      "C:\\Users\\oluwatobi.afolabi\\AppData\\Local\\Temp\\ipykernel_11612\\4087342044.py:13: FutureWarning: suggest_loguniform has been deprecated in v3.0.0. This feature will be removed in v6.0.0. See https://github.com/optuna/optuna/releases/tag/v3.0.0. Use suggest_float(..., log=True) instead.\n",
      "  'alpha': trial.suggest_loguniform('alpha', 1e-3, 10.0),\n",
      "C:\\Users\\oluwatobi.afolabi\\AppData\\Local\\Temp\\ipykernel_11612\\4087342044.py:14: FutureWarning: suggest_loguniform has been deprecated in v3.0.0. This feature will be removed in v6.0.0. See https://github.com/optuna/optuna/releases/tag/v3.0.0. Use suggest_float(..., log=True) instead.\n",
      "  'learning_rate': trial.suggest_loguniform('learning_rate', 0.01, 0.2),\n",
      "C:\\Users\\oluwatobi.afolabi\\AppData\\Local\\Temp\\ipykernel_11612\\4087342044.py:18: FutureWarning: suggest_loguniform has been deprecated in v3.0.0. This feature will be removed in v6.0.0. See https://github.com/optuna/optuna/releases/tag/v3.0.0. Use suggest_float(..., log=True) instead.\n",
      "  'gamma': trial.suggest_loguniform('gamma', 1e-3, 10.0),\n",
      "[I 2024-09-18 10:04:55,327] Trial 28 finished with value: 0.4928867278948316 and parameters: {'lambda': 8.726317095919473, 'alpha': 2.119632564242641, 'learning_rate': 0.16237100574946287, 'n_estimators': 305, 'max_depth': 9, 'min_child_weight': 8, 'gamma': 0.0032529470896617185, 'subsample': 0.6825760190928086, 'colsample_bytree': 0.932026161409614}. Best is trial 18 with value: 0.564391591005649.\n",
      "C:\\Users\\oluwatobi.afolabi\\AppData\\Local\\Temp\\ipykernel_11612\\4087342044.py:12: FutureWarning: suggest_loguniform has been deprecated in v3.0.0. This feature will be removed in v6.0.0. See https://github.com/optuna/optuna/releases/tag/v3.0.0. Use suggest_float(..., log=True) instead.\n",
      "  'lambda': trial.suggest_loguniform('lambda', 1e-3, 10.0),\n",
      "C:\\Users\\oluwatobi.afolabi\\AppData\\Local\\Temp\\ipykernel_11612\\4087342044.py:13: FutureWarning: suggest_loguniform has been deprecated in v3.0.0. This feature will be removed in v6.0.0. See https://github.com/optuna/optuna/releases/tag/v3.0.0. Use suggest_float(..., log=True) instead.\n",
      "  'alpha': trial.suggest_loguniform('alpha', 1e-3, 10.0),\n",
      "C:\\Users\\oluwatobi.afolabi\\AppData\\Local\\Temp\\ipykernel_11612\\4087342044.py:14: FutureWarning: suggest_loguniform has been deprecated in v3.0.0. This feature will be removed in v6.0.0. See https://github.com/optuna/optuna/releases/tag/v3.0.0. Use suggest_float(..., log=True) instead.\n",
      "  'learning_rate': trial.suggest_loguniform('learning_rate', 0.01, 0.2),\n",
      "C:\\Users\\oluwatobi.afolabi\\AppData\\Local\\Temp\\ipykernel_11612\\4087342044.py:18: FutureWarning: suggest_loguniform has been deprecated in v3.0.0. This feature will be removed in v6.0.0. See https://github.com/optuna/optuna/releases/tag/v3.0.0. Use suggest_float(..., log=True) instead.\n",
      "  'gamma': trial.suggest_loguniform('gamma', 1e-3, 10.0),\n",
      "[I 2024-09-18 10:04:55,474] Trial 29 finished with value: 0.47195209796506393 and parameters: {'lambda': 0.2235308118671913, 'alpha': 7.876546496419841, 'learning_rate': 0.12890631639460134, 'n_estimators': 417, 'max_depth': 6, 'min_child_weight': 8, 'gamma': 0.006446178120467372, 'subsample': 0.8413622253841458, 'colsample_bytree': 0.8001205823756932}. Best is trial 18 with value: 0.564391591005649.\n"
     ]
    },
    {
     "name": "stdout",
     "output_type": "stream",
     "text": [
      "[0.5        0.5        0.47866018]\n",
      "[0.5        0.5        0.41585629]\n",
      "Best hyperparameters: {'lambda': 2.5071513394644622, 'alpha': 0.2312876312528823, 'learning_rate': 0.01654619613791643, 'n_estimators': 442, 'max_depth': 7, 'min_child_weight': 8, 'gamma': 0.7983105440459775, 'subsample': 0.722295168464534, 'colsample_bytree': 0.9025554266033063}\n"
     ]
    }
   ],
   "source": [
    "# Optimize hyperparameters using Optuna\n",
    "study = optuna.create_study(direction='maximize',sampler=optuna.samplers.TPESampler(seed=seed))\n",
    "study.optimize(objective, n_trials=30, timeout=600)  # Tune for 30 trials or 10 minutes\n",
    "\n",
    "# Get the best hyperparameters\n",
    "print(\"Best hyperparameters:\", study.best_trial.params)\n",
    "\n",
    "# Train XGBoost model with best hyperparameters\n",
    "best_params = study.best_trial.params\n",
    "model_fine_tuned = xgb.XGBClassifier(**best_params, objective='binary:logistic', use_label_encoder=False, eval_metric='logloss',random_state=seed)\n"
   ]
  },
  {
   "cell_type": "code",
   "execution_count": 52,
   "id": "2eede255",
   "metadata": {},
   "outputs": [],
   "source": [
    "# To avoid always having differen parameters, the best parameters when testing will be used\n",
    "best_params={'lambda': 0.1271870391128985, 'alpha': 0.0049287529015657324, 'learning_rate': 0.015746853932778596, 'n_estimators': 282, 'max_depth': 5, 'min_child_weight': 1, 'gamma': 3.3130134901847033, 'subsample': 0.7474471006975164, 'colsample_bytree': 0.5401847428285809}"
   ]
  },
  {
   "cell_type": "code",
   "execution_count": 53,
   "id": "6073dff5",
   "metadata": {},
   "outputs": [
    {
     "name": "stderr",
     "output_type": "stream",
     "text": [
      "d:\\sme-hiring-assessment\\sme-hiring-assessment\\machine-learning\\.venv\\Lib\\site-packages\\xgboost\\core.py:158: UserWarning: [10:04:55] WARNING: C:\\buildkite-agent\\builds\\buildkite-windows-cpu-autoscaling-group-i-0015a694724fa8361-1\\xgboost\\xgboost-ci-windows\\src\\learner.cc:740: \n",
      "Parameters: { \"use_label_encoder\" } are not used.\n",
      "\n",
      "  warnings.warn(smsg, UserWarning)\n"
     ]
    },
    {
     "name": "stdout",
     "output_type": "stream",
     "text": [
      "Fold 1 Classification Report:\n",
      "              precision    recall  f1-score   support\n",
      "\n",
      "       False       0.99      0.97      0.98       618\n",
      "        True       0.00      0.00      0.00         5\n",
      "\n",
      "    accuracy                           0.96       623\n",
      "   macro avg       0.50      0.48      0.49       623\n",
      "weighted avg       0.98      0.96      0.97       623\n",
      "\n",
      "Fold 1 ROC AUC: 0.5453\n",
      "--------------------------------------------------\n"
     ]
    },
    {
     "name": "stderr",
     "output_type": "stream",
     "text": [
      "d:\\sme-hiring-assessment\\sme-hiring-assessment\\machine-learning\\.venv\\Lib\\site-packages\\xgboost\\core.py:158: UserWarning: [10:04:56] WARNING: C:\\buildkite-agent\\builds\\buildkite-windows-cpu-autoscaling-group-i-0015a694724fa8361-1\\xgboost\\xgboost-ci-windows\\src\\learner.cc:740: \n",
      "Parameters: { \"use_label_encoder\" } are not used.\n",
      "\n",
      "  warnings.warn(smsg, UserWarning)\n"
     ]
    },
    {
     "name": "stdout",
     "output_type": "stream",
     "text": [
      "Fold 2 Classification Report:\n",
      "              precision    recall  f1-score   support\n",
      "\n",
      "       False       0.99      0.97      0.98       617\n",
      "        True       0.00      0.00      0.00         6\n",
      "\n",
      "    accuracy                           0.96       623\n",
      "   macro avg       0.50      0.48      0.49       623\n",
      "weighted avg       0.98      0.96      0.97       623\n",
      "\n",
      "Fold 2 ROC AUC: 0.4873\n",
      "--------------------------------------------------\n"
     ]
    },
    {
     "name": "stderr",
     "output_type": "stream",
     "text": [
      "d:\\sme-hiring-assessment\\sme-hiring-assessment\\machine-learning\\.venv\\Lib\\site-packages\\xgboost\\core.py:158: UserWarning: [10:04:56] WARNING: C:\\buildkite-agent\\builds\\buildkite-windows-cpu-autoscaling-group-i-0015a694724fa8361-1\\xgboost\\xgboost-ci-windows\\src\\learner.cc:740: \n",
      "Parameters: { \"use_label_encoder\" } are not used.\n",
      "\n",
      "  warnings.warn(smsg, UserWarning)\n"
     ]
    },
    {
     "name": "stdout",
     "output_type": "stream",
     "text": [
      "Fold 3 Classification Report:\n",
      "              precision    recall  f1-score   support\n",
      "\n",
      "       False       0.99      0.99      0.99       617\n",
      "        True       0.00      0.00      0.00         6\n",
      "\n",
      "    accuracy                           0.98       623\n",
      "   macro avg       0.50      0.50      0.50       623\n",
      "weighted avg       0.98      0.98      0.98       623\n",
      "\n",
      "Fold 3 ROC AUC: 0.4099\n",
      "--------------------------------------------------\n",
      "Mean ROC AUC across folds: 0.4808\n"
     ]
    }
   ],
   "source": [
    "model_fine_tuned = xgb.XGBClassifier(**best_params, objective='binary:logistic', use_label_encoder=False, eval_metric='logloss',random_state=seed)\n",
    "trainer(model_fine_tuned,X_imputed,y,cv)"
   ]
  },
  {
   "cell_type": "code",
   "execution_count": 54,
   "id": "714f8fdc",
   "metadata": {},
   "outputs": [
    {
     "data": {
      "text/plain": [
       "<Axes: title={'center': 'Feature importance'}, xlabel='F score', ylabel='Features'>"
      ]
     },
     "execution_count": 54,
     "metadata": {},
     "output_type": "execute_result"
    },
    {
     "data": {
      "image/png": "[encoded data removed]",
      "text/plain": [
       "<Figure size 640x480 with 1 Axes>"
      ]
     },
     "metadata": {},
     "output_type": "display_data"
    }
   ],
   "source": [
    "# check the feature_importance after hyper-parameter fine-tuning\n",
    "xgb.plot_importance(model_fine_tuned, importance_type='weight')"
   ]
  },
  {
   "cell_type": "markdown",
   "id": "fbe88db8",
   "metadata": {},
   "source": [
    "##### 3b. Model Evaluation on Train and Test dataset, cv=3"
   ]
  },
  {
   "cell_type": "code",
   "execution_count": 55,
   "id": "b0a5a6d9",
   "metadata": {},
   "outputs": [],
   "source": [
    "# Model Evaluation and Fine-tuning on Test set \n",
    "# The same data preparation process will be followed\n",
    "test_1=test.drop('payment_status',axis=1)\n",
    "train_test=pd.concat([train,test_1]).reset_index(drop=True)"
   ]
  },
  {
   "cell_type": "code",
   "execution_count": 56,
   "id": "67b1729b",
   "metadata": {},
   "outputs": [
    {
     "name": "stderr",
     "output_type": "stream",
     "text": [
      "C:\\Users\\oluwatobi.afolabi\\AppData\\Local\\Temp\\ipykernel_11612\\1212845992.py:2: DeprecationWarning: DataFrameGroupBy.apply operated on the grouping columns. This behavior is deprecated, and in a future version of pandas the grouping columns will be excluded from the operation. Either pass `include_groups=False` to exclude the groupings or explicitly select the grouping columns after groupby to silence this warning.\n",
      "  result = train_test_s.groupby('business_id').apply(principal_percentage_change)\n"
     ]
    }
   ],
   "source": [
    "train_test_s=sort_create_target(train_test)\n",
    "result = train_test_s.groupby('business_id').apply(principal_percentage_change)"
   ]
  },
  {
   "cell_type": "code",
   "execution_count": 57,
   "id": "05ed4797",
   "metadata": {},
   "outputs": [],
   "source": [
    "principal_change_0,principal_change_1,principal_change_2,principal_change_3=[], [], [], []\n",
    "busines_id=[]\n",
    "\n",
    "for i in result.keys():\n",
    "    \n",
    "    # Ensure the sublist has exactly 4 elements by padding with zeros\n",
    "   \n",
    "    padded_sublist = result[i] + [0] * (4 - len(result[i]))\n",
    "\n",
    "    # Append each element to its respective new list\n",
    "    principal_change_3.append(padded_sublist[0])\n",
    "    principal_change_2.append(padded_sublist[1])\n",
    "    principal_change_1.append(padded_sublist[2])\n",
    "    principal_change_0.append(padded_sublist[3])\n",
    "    busines_id.append(i)"
   ]
  },
  {
   "cell_type": "code",
   "execution_count": 58,
   "id": "5640dc07",
   "metadata": {},
   "outputs": [
    {
     "name": "stderr",
     "output_type": "stream",
     "text": [
      "C:\\Users\\oluwatobi.afolabi\\AppData\\Local\\Temp\\ipykernel_11612\\1355318464.py:1: DeprecationWarning: DataFrameGroupBy.apply operated on the grouping columns. This behavior is deprecated, and in a future version of pandas the grouping columns will be excluded from the operation. Either pass `include_groups=False` to exclude the groupings or explicitly select the grouping columns after groupby to silence this warning.\n",
      "  paid_late_default= train_test_s.groupby('business_id').apply(default_paid_late)\n"
     ]
    }
   ],
   "source": [
    "paid_late_default= train_test_s.groupby('business_id').apply(default_paid_late)\n",
    "df_paid_late_default=process_paid_late_default(paid_late_default)"
   ]
  },
  {
   "cell_type": "code",
   "execution_count": 59,
   "id": "db7e9488",
   "metadata": {},
   "outputs": [
    {
     "name": "stderr",
     "output_type": "stream",
     "text": [
      "C:\\Users\\oluwatobi.afolabi\\AppData\\Local\\Temp\\ipykernel_11612\\245172319.py:4: DeprecationWarning: DataFrameGroupBy.apply operated on the grouping columns. This behavior is deprecated, and in a future version of pandas the grouping columns will be excluded from the operation. Either pass `include_groups=False` to exclude the groupings or explicitly select the grouping columns after groupby to silence this warning.\n",
      "  result = grouped_df.groupby('business_id').apply(number_of_payments)\n"
     ]
    }
   ],
   "source": [
    "payment_loanid=payment.merge(train_test_s,on='loan_id')\n",
    "check = payment_loanid.groupby(['business_id','loan_number']).size().reset_index(name='count')\n",
    "grouped_df = check.groupby('business_id').tail(5)\n",
    "result = grouped_df.groupby('business_id').apply(number_of_payments)"
   ]
  },
  {
   "cell_type": "code",
   "execution_count": 60,
   "id": "acc1d2cc",
   "metadata": {},
   "outputs": [],
   "source": [
    "payment_count_0,payment_count_1,payment_count_2,payment_count_3=[], [], [],[]\n",
    "\n",
    "for i in result.keys():\n",
    "    \n",
    "    # Ensure the sublist has exactly 4 elements by padding with zeros\n",
    "   \n",
    "    padded_sublist = result[i] + [0] * (4 - len(result[i]))\n",
    "\n",
    "    # Append each element to its respective new list\n",
    "    payment_count_3.append(padded_sublist[0])\n",
    "    payment_count_2.append(padded_sublist[1])\n",
    "    payment_count_1.append(padded_sublist[2])\n",
    "    payment_count_0.append(padded_sublist[3])\n"
   ]
  },
  {
   "cell_type": "code",
   "execution_count": 61,
   "id": "4ad09587",
   "metadata": {},
   "outputs": [
    {
     "name": "stderr",
     "output_type": "stream",
     "text": [
      "C:\\Users\\oluwatobi.afolabi\\AppData\\Local\\Temp\\ipykernel_11612\\2535656168.py:1: DeprecationWarning: DataFrameGroupBy.apply operated on the grouping columns. This behavior is deprecated, and in a future version of pandas the grouping columns will be excluded from the operation. Either pass `include_groups=False` to exclude the groupings or explicitly select the grouping columns after groupby to silence this warning.\n",
      "  target_variable = train_test_s.groupby('business_id').apply(create_target_variable)\n"
     ]
    }
   ],
   "source": [
    "target_variable = train_test_s.groupby('business_id').apply(create_target_variable)\n",
    "target_variable=target_variable[['business_id','loan_number','defaulted']].reset_index(drop=True)"
   ]
  },
  {
   "cell_type": "code",
   "execution_count": 62,
   "id": "61da5183",
   "metadata": {},
   "outputs": [],
   "source": [
    "lists=[principal_change_0,principal_change_1,principal_change_2,principal_change_3,\n",
    "       payment_count_0,payment_count_1,payment_count_2,payment_count_3\n",
    "       \n",
    "       ]\n",
    "df_list=list_to_dataframe(lists)"
   ]
  },
  {
   "cell_type": "code",
   "execution_count": 63,
   "id": "b1d9a97b",
   "metadata": {},
   "outputs": [
    {
     "data": {
      "text/html": [
       "<div>\n",
       "<style scoped>\n",
       "    .dataframe tbody tr th:only-of-type {\n",
       "        vertical-align: middle;\n",
       "    }\n",
       "\n",
       "    .dataframe tbody tr th {\n",
       "        vertical-align: top;\n",
       "    }\n",
       "\n",
       "    .dataframe thead th {\n",
       "        text-align: right;\n",
       "    }\n",
       "</style>\n",
       "<table border=\"1\" class=\"dataframe\">\n",
       "  <thead>\n",
       "    <tr style=\"text-align: right;\">\n",
       "      <th></th>\n",
       "      <th>principal_change_0</th>\n",
       "      <th>principal_change_1</th>\n",
       "      <th>principal_change_2</th>\n",
       "      <th>principal_change_3</th>\n",
       "      <th>payment_count_0</th>\n",
       "      <th>payment_count_1</th>\n",
       "      <th>payment_count_2</th>\n",
       "      <th>payment_count_3</th>\n",
       "      <th>business_id</th>\n",
       "      <th>loan_number</th>\n",
       "      <th>defaulted</th>\n",
       "    </tr>\n",
       "  </thead>\n",
       "  <tbody>\n",
       "    <tr>\n",
       "      <th>22</th>\n",
       "      <td>2.001837</td>\n",
       "      <td>10.000000</td>\n",
       "      <td>10.000000</td>\n",
       "      <td>22.727273</td>\n",
       "      <td>1</td>\n",
       "      <td>1</td>\n",
       "      <td>1</td>\n",
       "      <td>1</td>\n",
       "      <td>21480</td>\n",
       "      <td>20.0</td>\n",
       "      <td>True</td>\n",
       "    </tr>\n",
       "    <tr>\n",
       "      <th>49</th>\n",
       "      <td>4.997574</td>\n",
       "      <td>9.998221</td>\n",
       "      <td>10.000000</td>\n",
       "      <td>5.000000</td>\n",
       "      <td>1</td>\n",
       "      <td>2</td>\n",
       "      <td>4</td>\n",
       "      <td>1</td>\n",
       "      <td>34984</td>\n",
       "      <td>37.0</td>\n",
       "      <td>True</td>\n",
       "    </tr>\n",
       "    <tr>\n",
       "      <th>52</th>\n",
       "      <td>4.999088</td>\n",
       "      <td>9.620000</td>\n",
       "      <td>5.366676</td>\n",
       "      <td>9.998455</td>\n",
       "      <td>1</td>\n",
       "      <td>1</td>\n",
       "      <td>1</td>\n",
       "      <td>1</td>\n",
       "      <td>35845</td>\n",
       "      <td>15.0</td>\n",
       "      <td>True</td>\n",
       "    </tr>\n",
       "    <tr>\n",
       "      <th>68</th>\n",
       "      <td>32.700000</td>\n",
       "      <td>-20.000000</td>\n",
       "      <td>7.913669</td>\n",
       "      <td>9.881423</td>\n",
       "      <td>2</td>\n",
       "      <td>3</td>\n",
       "      <td>2</td>\n",
       "      <td>5</td>\n",
       "      <td>44908</td>\n",
       "      <td>44.0</td>\n",
       "      <td>True</td>\n",
       "    </tr>\n",
       "    <tr>\n",
       "      <th>91</th>\n",
       "      <td>1.999147</td>\n",
       "      <td>2.000000</td>\n",
       "      <td>16.349656</td>\n",
       "      <td>2.002064</td>\n",
       "      <td>8</td>\n",
       "      <td>4</td>\n",
       "      <td>10</td>\n",
       "      <td>12</td>\n",
       "      <td>56486</td>\n",
       "      <td>34.0</td>\n",
       "      <td>True</td>\n",
       "    </tr>\n",
       "    <tr>\n",
       "      <th>...</th>\n",
       "      <td>...</td>\n",
       "      <td>...</td>\n",
       "      <td>...</td>\n",
       "      <td>...</td>\n",
       "      <td>...</td>\n",
       "      <td>...</td>\n",
       "      <td>...</td>\n",
       "      <td>...</td>\n",
       "      <td>...</td>\n",
       "      <td>...</td>\n",
       "      <td>...</td>\n",
       "    </tr>\n",
       "    <tr>\n",
       "      <th>1838</th>\n",
       "      <td>0.000000</td>\n",
       "      <td>0.000000</td>\n",
       "      <td>0.000000</td>\n",
       "      <td>45.970000</td>\n",
       "      <td>0</td>\n",
       "      <td>0</td>\n",
       "      <td>0</td>\n",
       "      <td>0</td>\n",
       "      <td>685978</td>\n",
       "      <td>2.0</td>\n",
       "      <td>True</td>\n",
       "    </tr>\n",
       "    <tr>\n",
       "      <th>1846</th>\n",
       "      <td>0.000000</td>\n",
       "      <td>0.000000</td>\n",
       "      <td>0.000000</td>\n",
       "      <td>10.000000</td>\n",
       "      <td>0</td>\n",
       "      <td>0</td>\n",
       "      <td>0</td>\n",
       "      <td>0</td>\n",
       "      <td>688057</td>\n",
       "      <td>2.0</td>\n",
       "      <td>True</td>\n",
       "    </tr>\n",
       "    <tr>\n",
       "      <th>1852</th>\n",
       "      <td>0.000000</td>\n",
       "      <td>0.000000</td>\n",
       "      <td>0.000000</td>\n",
       "      <td>10.000000</td>\n",
       "      <td>0</td>\n",
       "      <td>0</td>\n",
       "      <td>0</td>\n",
       "      <td>0</td>\n",
       "      <td>690779</td>\n",
       "      <td>2.0</td>\n",
       "      <td>True</td>\n",
       "    </tr>\n",
       "    <tr>\n",
       "      <th>1859</th>\n",
       "      <td>0.000000</td>\n",
       "      <td>2.089765</td>\n",
       "      <td>0.000000</td>\n",
       "      <td>8.307613</td>\n",
       "      <td>0</td>\n",
       "      <td>0</td>\n",
       "      <td>0</td>\n",
       "      <td>2</td>\n",
       "      <td>692326</td>\n",
       "      <td>3.0</td>\n",
       "      <td>True</td>\n",
       "    </tr>\n",
       "    <tr>\n",
       "      <th>1867</th>\n",
       "      <td>0.000000</td>\n",
       "      <td>0.000000</td>\n",
       "      <td>0.000000</td>\n",
       "      <td>9.833333</td>\n",
       "      <td>0</td>\n",
       "      <td>0</td>\n",
       "      <td>0</td>\n",
       "      <td>0</td>\n",
       "      <td>702157</td>\n",
       "      <td>2.0</td>\n",
       "      <td>True</td>\n",
       "    </tr>\n",
       "  </tbody>\n",
       "</table>\n",
       "<p>167 rows × 11 columns</p>\n",
       "</div>"
      ],
      "text/plain": [
       "      principal_change_0  principal_change_1  principal_change_2  \\\n",
       "22              2.001837           10.000000           10.000000   \n",
       "49              4.997574            9.998221           10.000000   \n",
       "52              4.999088            9.620000            5.366676   \n",
       "68             32.700000          -20.000000            7.913669   \n",
       "91              1.999147            2.000000           16.349656   \n",
       "...                  ...                 ...                 ...   \n",
       "1838            0.000000            0.000000            0.000000   \n",
       "1846            0.000000            0.000000            0.000000   \n",
       "1852            0.000000            0.000000            0.000000   \n",
       "1859            0.000000            2.089765            0.000000   \n",
       "1867            0.000000            0.000000            0.000000   \n",
       "\n",
       "      principal_change_3  payment_count_0  payment_count_1  payment_count_2  \\\n",
       "22             22.727273                1                1                1   \n",
       "49              5.000000                1                2                4   \n",
       "52              9.998455                1                1                1   \n",
       "68              9.881423                2                3                2   \n",
       "91              2.002064                8                4               10   \n",
       "...                  ...              ...              ...              ...   \n",
       "1838           45.970000                0                0                0   \n",
       "1846           10.000000                0                0                0   \n",
       "1852           10.000000                0                0                0   \n",
       "1859            8.307613                0                0                0   \n",
       "1867            9.833333                0                0                0   \n",
       "\n",
       "      payment_count_3  business_id  loan_number  defaulted  \n",
       "22                  1        21480         20.0       True  \n",
       "49                  1        34984         37.0       True  \n",
       "52                  1        35845         15.0       True  \n",
       "68                  5        44908         44.0       True  \n",
       "91                 12        56486         34.0       True  \n",
       "...               ...          ...          ...        ...  \n",
       "1838                0       685978          2.0       True  \n",
       "1846                0       688057          2.0       True  \n",
       "1852                0       690779          2.0       True  \n",
       "1859                2       692326          3.0       True  \n",
       "1867                0       702157          2.0       True  \n",
       "\n",
       "[167 rows x 11 columns]"
      ]
     },
     "execution_count": 63,
     "metadata": {},
     "output_type": "execute_result"
    }
   ],
   "source": [
    "new_df=pd.concat([df_list,target_variable],axis=1)\n",
    "new_df[new_df['defaulted']==True]"
   ]
  },
  {
   "cell_type": "code",
   "execution_count": 64,
   "id": "fbca17ce",
   "metadata": {},
   "outputs": [],
   "source": [
    "X=new_df.drop(['business_id','defaulted'],axis=1)\n",
    "y=new_df['defaulted']\n",
    "X_imputed = pd.DataFrame(imputer.fit_transform(X), columns=X.columns)"
   ]
  },
  {
   "cell_type": "code",
   "execution_count": 65,
   "id": "96446607",
   "metadata": {},
   "outputs": [
    {
     "name": "stderr",
     "output_type": "stream",
     "text": [
      "d:\\sme-hiring-assessment\\sme-hiring-assessment\\machine-learning\\.venv\\Lib\\site-packages\\xgboost\\core.py:158: UserWarning: [10:05:03] WARNING: C:\\buildkite-agent\\builds\\buildkite-windows-cpu-autoscaling-group-i-0015a694724fa8361-1\\xgboost\\xgboost-ci-windows\\src\\learner.cc:740: \n",
      "Parameters: { \"use_label_encoder\" } are not used.\n",
      "\n",
      "  warnings.warn(smsg, UserWarning)\n"
     ]
    },
    {
     "name": "stdout",
     "output_type": "stream",
     "text": [
      "Fold 1 Classification Report:\n",
      "              precision    recall  f1-score   support\n",
      "\n",
      "       False       0.92      0.91      0.91       568\n",
      "        True       0.13      0.15      0.14        55\n",
      "\n",
      "    accuracy                           0.84       623\n",
      "   macro avg       0.52      0.53      0.53       623\n",
      "weighted avg       0.85      0.84      0.84       623\n",
      "\n",
      "Fold 1 ROC AUC: 0.6138\n",
      "--------------------------------------------------\n",
      "Fold 2 Classification Report:\n",
      "              precision    recall  f1-score   support\n",
      "\n",
      "       False       0.92      0.92      0.92       567\n",
      "        True       0.15      0.14      0.15        56\n",
      "\n",
      "    accuracy                           0.85       623\n",
      "   macro avg       0.53      0.53      0.53       623\n",
      "weighted avg       0.85      0.85      0.85       623\n",
      "\n",
      "Fold 2 ROC AUC: 0.5840\n",
      "--------------------------------------------------\n"
     ]
    },
    {
     "name": "stderr",
     "output_type": "stream",
     "text": [
      "d:\\sme-hiring-assessment\\sme-hiring-assessment\\machine-learning\\.venv\\Lib\\site-packages\\xgboost\\core.py:158: UserWarning: [10:05:03] WARNING: C:\\buildkite-agent\\builds\\buildkite-windows-cpu-autoscaling-group-i-0015a694724fa8361-1\\xgboost\\xgboost-ci-windows\\src\\learner.cc:740: \n",
      "Parameters: { \"use_label_encoder\" } are not used.\n",
      "\n",
      "  warnings.warn(smsg, UserWarning)\n",
      "d:\\sme-hiring-assessment\\sme-hiring-assessment\\machine-learning\\.venv\\Lib\\site-packages\\xgboost\\core.py:158: UserWarning: [10:05:03] WARNING: C:\\buildkite-agent\\builds\\buildkite-windows-cpu-autoscaling-group-i-0015a694724fa8361-1\\xgboost\\xgboost-ci-windows\\src\\learner.cc:740: \n",
      "Parameters: { \"use_label_encoder\" } are not used.\n",
      "\n",
      "  warnings.warn(smsg, UserWarning)\n"
     ]
    },
    {
     "name": "stdout",
     "output_type": "stream",
     "text": [
      "Fold 3 Classification Report:\n",
      "              precision    recall  f1-score   support\n",
      "\n",
      "       False       0.92      0.82      0.87       567\n",
      "        True       0.14      0.29      0.18        56\n",
      "\n",
      "    accuracy                           0.77       623\n",
      "   macro avg       0.53      0.55      0.53       623\n",
      "weighted avg       0.85      0.77      0.81       623\n",
      "\n",
      "Fold 3 ROC AUC: 0.6402\n",
      "--------------------------------------------------\n",
      "Mean ROC AUC across folds: 0.6127\n"
     ]
    }
   ],
   "source": [
    "trainer(model_fine_tuned,X_imputed,y,cv)"
   ]
  },
  {
   "cell_type": "markdown",
   "id": "542e56a7",
   "metadata": {},
   "source": [
    "##### 3c. Model Evaluation on Test Dataset. cv=3"
   ]
  },
  {
   "cell_type": "code",
   "execution_count": 66,
   "id": "8b72fbb2",
   "metadata": {},
   "outputs": [],
   "source": [
    "#Next Step Select for X and Y where business_id is in test ONLY\n",
    "new_df_x_test =  new_df[new_df['business_id'].isin(test['business_id'])]"
   ]
  },
  {
   "cell_type": "code",
   "execution_count": 67,
   "id": "6c217d11",
   "metadata": {},
   "outputs": [],
   "source": [
    "X_t=new_df_x_test.drop(['business_id','defaulted'],axis=1)\n",
    "y_t=new_df['defaulted']\n",
    "X_imputed_t = pd.DataFrame(imputer.fit_transform(X_t), columns=X_t.columns)"
   ]
  },
  {
   "cell_type": "code",
   "execution_count": 68,
   "id": "2766b18a",
   "metadata": {},
   "outputs": [
    {
     "name": "stderr",
     "output_type": "stream",
     "text": [
      "d:\\sme-hiring-assessment\\sme-hiring-assessment\\machine-learning\\.venv\\Lib\\site-packages\\xgboost\\core.py:158: UserWarning: [10:05:04] WARNING: C:\\buildkite-agent\\builds\\buildkite-windows-cpu-autoscaling-group-i-0015a694724fa8361-1\\xgboost\\xgboost-ci-windows\\src\\learner.cc:740: \n",
      "Parameters: { \"use_label_encoder\" } are not used.\n",
      "\n",
      "  warnings.warn(smsg, UserWarning)\n"
     ]
    },
    {
     "name": "stdout",
     "output_type": "stream",
     "text": [
      "Fold 1 Classification Report:\n",
      "              precision    recall  f1-score   support\n",
      "\n",
      "       False       0.92      0.91      0.91       568\n",
      "        True       0.13      0.15      0.14        55\n",
      "\n",
      "    accuracy                           0.84       623\n",
      "   macro avg       0.52      0.53      0.53       623\n",
      "weighted avg       0.85      0.84      0.84       623\n",
      "\n",
      "Fold 1 ROC AUC: 0.6138\n",
      "--------------------------------------------------\n"
     ]
    },
    {
     "name": "stderr",
     "output_type": "stream",
     "text": [
      "d:\\sme-hiring-assessment\\sme-hiring-assessment\\machine-learning\\.venv\\Lib\\site-packages\\xgboost\\core.py:158: UserWarning: [10:05:04] WARNING: C:\\buildkite-agent\\builds\\buildkite-windows-cpu-autoscaling-group-i-0015a694724fa8361-1\\xgboost\\xgboost-ci-windows\\src\\learner.cc:740: \n",
      "Parameters: { \"use_label_encoder\" } are not used.\n",
      "\n",
      "  warnings.warn(smsg, UserWarning)\n"
     ]
    },
    {
     "name": "stdout",
     "output_type": "stream",
     "text": [
      "Fold 2 Classification Report:\n",
      "              precision    recall  f1-score   support\n",
      "\n",
      "       False       0.92      0.92      0.92       567\n",
      "        True       0.15      0.14      0.15        56\n",
      "\n",
      "    accuracy                           0.85       623\n",
      "   macro avg       0.53      0.53      0.53       623\n",
      "weighted avg       0.85      0.85      0.85       623\n",
      "\n",
      "Fold 2 ROC AUC: 0.5840\n",
      "--------------------------------------------------\n"
     ]
    },
    {
     "name": "stderr",
     "output_type": "stream",
     "text": [
      "d:\\sme-hiring-assessment\\sme-hiring-assessment\\machine-learning\\.venv\\Lib\\site-packages\\xgboost\\core.py:158: UserWarning: [10:05:04] WARNING: C:\\buildkite-agent\\builds\\buildkite-windows-cpu-autoscaling-group-i-0015a694724fa8361-1\\xgboost\\xgboost-ci-windows\\src\\learner.cc:740: \n",
      "Parameters: { \"use_label_encoder\" } are not used.\n",
      "\n",
      "  warnings.warn(smsg, UserWarning)\n"
     ]
    },
    {
     "name": "stdout",
     "output_type": "stream",
     "text": [
      "Fold 3 Classification Report:\n",
      "              precision    recall  f1-score   support\n",
      "\n",
      "       False       0.92      0.82      0.87       567\n",
      "        True       0.14      0.29      0.18        56\n",
      "\n",
      "    accuracy                           0.77       623\n",
      "   macro avg       0.53      0.55      0.53       623\n",
      "weighted avg       0.85      0.77      0.81       623\n",
      "\n",
      "Fold 3 ROC AUC: 0.6402\n",
      "--------------------------------------------------\n",
      "Mean ROC AUC across folds: 0.6127\n"
     ]
    }
   ],
   "source": [
    "trainer(model_fine_tuned,X_imputed_t,y_t,cv)"
   ]
  },
  {
   "cell_type": "markdown",
   "id": "eb3dcde1",
   "metadata": {},
   "source": [
    "#### 4. Conclusion"
   ]
  },
  {
   "cell_type": "markdown",
   "id": "488f478f",
   "metadata": {},
   "source": [
    "* The proposed model achieved a mean ROC AUC of 61% on the test dataset (cv=3). Although, the performance of the model can be improved, its ability to detect some potential yield loss is commendable. This can be used by the officers during due deligence\n",
    "* The performance of the model in detecting yield-loss will improve as more instances of yield loss is exposed to it. This explains the improvement seen in the mean ROC AUC from 48% in the training dataset to 61% in the training and testing datasets."
   ]
  },
  {
   "cell_type": "markdown",
   "id": "8bf77ab3",
   "metadata": {},
   "source": [
    "### 5. Next Steps"
   ]
  },
  {
   "cell_type": "markdown",
   "id": "62591ad4",
   "metadata": {},
   "source": [
    "* The following are the proposed next steps \n",
    "    * The model predicts whether there will be a yield loss or not given the history of the business, this can be taken a step further to predict the likelihood of payment after 15dpd\n",
    "    * The task has been treated as a classification task (True or False), it might be better to output probabilities of default instead of an absolute True or False. This hypothesis should be tested\n",
    "    * The data is highly skewed. To improve the quality of prediction, more data (especially those with defaults) should be added\n",
    "    * Including the days between successive loans feature might help to understand the behaviour of a business much better."
   ]
  }
 ],
 "metadata": {
  "kernelspec": {
   "display_name": "Python 3 (ipykernel)",
   "language": "python",
   "name": "python3"
  },
  "language_info": {
   "codemirror_mode": {
    "name": "ipython",
    "version": 3
   },
   "file_extension": ".py",
   "mimetype": "text/x-python",
   "name": "python",
   "nbconvert_exporter": "python",
   "pygments_lexer": "ipython3",
   "version": "3.12.3"
  }
 },
 "nbformat": 4,
 "nbformat_minor": 5
}
